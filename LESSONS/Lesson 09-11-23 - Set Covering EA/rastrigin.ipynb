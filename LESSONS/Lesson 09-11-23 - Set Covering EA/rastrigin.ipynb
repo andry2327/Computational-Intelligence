{
 "cells": [
  {
   "cell_type": "markdown",
   "metadata": {},
   "source": [
    "Copyright **`(c)`** 2021 Giovanni Squillero `<squillero@polito.it>`  \n",
    "[`https://github.com/squillero/computational-intelligence`](https://github.com/squillero/computational-intelligence)  \n",
    "Free for personal or classroom use; see 'LICENCE.md' for details."
   ]
  },
  {
   "cell_type": "code",
   "execution_count": null,
   "metadata": {},
   "outputs": [],
   "source": [
    "import logging\n",
    "import numpy as np\n",
    "from tqdm.notebook import tqdm\n",
    "from matplotlib import pyplot as plt\n",
    "from matplotlib import cm\n",
    "\n",
    "logging.basicConfig(\n",
    "    format=\"[%(asctime)s] %(levelname)s: %(message)s\",\n",
    "    datefmt=\"%H:%M:%S\",\n",
    "    level=logging.INFO,\n",
    ")"
   ]
  },
  {
   "cell_type": "code",
   "execution_count": null,
   "metadata": {},
   "outputs": [],
   "source": [
    "def rastrigin(x, A=10):\n",
    "    \"\"\"NumPy Rastrigin test function\"\"\"\n",
    "    if x.ndim == 1:\n",
    "        return -np.sum(A - A * np.cos(2 * np.pi * x) + x**2)\n",
    "    else:\n",
    "        return -np.sum(A - A * np.cos(2 * np.pi * x) + x**2, axis=1)"
   ]
  },
  {
   "cell_type": "code",
   "execution_count": null,
   "metadata": {},
   "outputs": [],
   "source": [
    "N_POINTS = 200\n",
    "r = np.linspace(-5, 5, N_POINTS)\n",
    "\n",
    "# yeuch, that's quite terrible...\n",
    "x = np.array(np.meshgrid(r, r)).T.reshape(-1, 2)\n",
    "z = rastrigin(x).reshape(N_POINTS, N_POINTS)\n",
    "plt.figure(figsize=(10, 10))\n",
    "ax = plt.axes(projection=\"3d\")\n",
    "ax.plot_surface(\n",
    "    *np.meshgrid(r, r),\n",
    "    z,\n",
    "    rstride=1,\n",
    "    cstride=1,\n",
    "    cmap=cm.plasma,\n",
    "    linewidth=0,\n",
    "    antialiased=False,\n",
    ")\n",
    "None"
   ]
  },
  {
   "cell_type": "code",
   "execution_count": null,
   "metadata": {},
   "outputs": [],
   "source": [
    "np.random.seed(42)\n",
    "N_DIM = 4"
   ]
  },
  {
   "cell_type": "markdown",
   "metadata": {},
   "source": [
    "## Vanilla (1+λ)-ES"
   ]
  },
  {
   "cell_type": "code",
   "execution_count": null,
   "metadata": {},
   "outputs": [],
   "source": [
    "λ = 20\n",
    "σ = 0.001 \n",
    "\n",
    "solution = np.random.random(N_DIM) * 5.12 * 2 - 5.12\n",
    "history = list()\n",
    "best_so_far = np.copy(solution)\n",
    "\n",
    "for n in tqdm(range(1_000_000 // λ)):\n",
    "    # offspring <- select λ random points mutating the current solution\n",
    "    offspring = (\n",
    "        np.random.normal(loc=0, scale=σ, size=(λ, N_DIM)) + solution\n",
    "    )\n",
    "    # evaluarte and select best\n",
    "    evals = rastrigin(offspring)\n",
    "    solution = offspring[np.argmax(evals)]\n",
    "    if rastrigin(best_so_far) < rastrigin(solution):\n",
    "        best_so_far = np.copy(solution)\n",
    "        history.append((n, rastrigin(solution)))\n",
    "\n",
    "logging.info(f\"Best solution: {rastrigin(best_so_far)}\")\n",
    "\n",
    "history = np.array(history)\n",
    "plt.figure(figsize=(14, 4))\n",
    "plt.plot(history[:, 0], history[:, 1], marker=\".\")"
   ]
  },
  {
   "cell_type": "markdown",
   "metadata": {},
   "source": [
    "## Adaptive (1+λ)-ES"
   ]
  },
  {
   "cell_type": "code",
   "execution_count": null,
   "metadata": {},
   "outputs": [],
   "source": [
    "λ = 20\n",
    "σ = 0.001\n",
    "\n",
    "solution = np.random.random(N_DIM) * 5.12 * 2 - 5.12\n",
    "history = list()\n",
    "best_so_far = np.copy(solution)\n",
    "\n",
    "stats = [0, 0]\n",
    "for step in tqdm(range(1_000_000 // λ)):\n",
    "    samples = (\n",
    "        np.random.normal(loc=0, scale=σ, size=(λ, N_DIM)) + solution\n",
    "    )\n",
    "    evals = rastrigin(samples)\n",
    "    stats[0] += λ\n",
    "    stats[1] += sum(evals > rastrigin(solution))\n",
    "    solution = samples[np.argmax(evals)]\n",
    "\n",
    "    if rastrigin(best_so_far) < rastrigin(solution):\n",
    "        best_so_far = np.copy(solution)\n",
    "        history.append((step, rastrigin(solution)))\n",
    "\n",
    "    if (step + 1) % 200 == 0:\n",
    "        if stats[0] / stats[1] < 1 / 5:\n",
    "            σ /= 1.1\n",
    "        elif stats[0] / stats[1] > 1 / 5:\n",
    "            σ *= 1.1\n",
    "        steps = [0, 0]\n",
    "\n",
    "logging.info(\n",
    "    f\"Best solution: {rastrigin(best_so_far)} (current σ={σ:0.3g})\"\n",
    ")\n",
    "\n",
    "history = np.array(history)\n",
    "plt.figure(figsize=(14, 4))\n",
    "plt.plot(history[:, 0], history[:, 1], marker=\".\")"
   ]
  },
  {
   "cell_type": "markdown",
   "metadata": {},
   "source": [
    "## Adaptive (μ+λ)-ES"
   ]
  },
  {
   "cell_type": "code",
   "execution_count": null,
   "metadata": {},
   "outputs": [],
   "source": [
    "μ = 5\n",
    "λ = 50\n",
    "σ = 1\n",
    "\n",
    "population = np.random.random((μ, N_DIM + 1))\n",
    "population[:, :-1] = population[:, :-1] * 5.12 * 2 - 5.12\n",
    "population[:, -1] *= σ\n",
    "\n",
    "best_fitness = None\n",
    "history = list()\n",
    "for step in tqdm(range(1_000_000 // λ)):\n",
    "    # offspring <- select λ random points from the population of μ\n",
    "    offspring = population[np.random.randint(0, μ, size=(λ,))]\n",
    "    # mutate all σ (last column) and replace negative values with a small number\n",
    "    offspring[:, -1] = np.random.normal(\n",
    "        loc=offspring[:, -1], scale=0.2\n",
    "    )\n",
    "    offspring[offspring[:, -1] < 1e-5, -1] = 1e-5\n",
    "    # mutate all v (all columns but the last), using the σ in the last column\n",
    "    offspring[:, 0:-1] = np.random.normal(\n",
    "        loc=offspring[:, 0:-1], scale=offspring[:, -1].reshape(-1, 1)\n",
    "    )\n",
    "    # add an extra column with the evaluation and sort\n",
    "    fitness = rastrigin(offspring[:, 0:-1])\n",
    "    offspring = offspring[fitness.argsort()]\n",
    "    # save best (just for the plot)\n",
    "    if best_fitness is None or best_fitness < np.max(fitness):\n",
    "        best_fitness = np.max(fitness)\n",
    "        history.append((step, best_fitness))\n",
    "    # select the μ with max fitness and discard fitness\n",
    "    population = np.copy(offspring[-μ:])\n",
    "\n",
    "fitness = rastrigin(population[:, 0:-1])\n",
    "logging.info(\n",
    "    f\"Best solution: {fitness.max()} (with σ={population[fitness.argmax(), -1]:0.3g})\"\n",
    ")\n",
    "\n",
    "history = np.array(history)\n",
    "plt.figure(figsize=(14, 4))\n",
    "plt.plot(history[:, 0], history[:, 1], marker=\".\")"
   ]
  }
 ],
 "metadata": {
  "kernelspec": {
   "display_name": "Python 3.10.7 64-bit",
   "language": "python",
   "name": "python3"
  },
  "language_info": {
   "codemirror_mode": {
    "name": "ipython",
    "version": 3
   },
   "file_extension": ".py",
   "mimetype": "text/x-python",
   "name": "python",
   "nbconvert_exporter": "python",
   "pygments_lexer": "ipython3",
   "version": "3.12.0"
  },
  "orig_nbformat": 4,
  "vscode": {
   "interpreter": {
    "hash": "26de051ba29f2982a8de78e945f0abaf191376122a1563185a90213a26c5da77"
   }
  }
 },
 "nbformat": 4,
 "nbformat_minor": 2
}
