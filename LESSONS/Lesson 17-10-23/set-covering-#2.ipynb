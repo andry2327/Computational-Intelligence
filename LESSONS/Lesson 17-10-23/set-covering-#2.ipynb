{
 "cells": [
  {
   "cell_type": "markdown",
   "metadata": {},
   "source": [
    "Copyright **`(c)`** 2023 Giovanni Squillero `<giovanni.squillero@polito.it>`  \n",
    "[`https://github.com/squillero/computational-intelligence`](https://github.com/squillero/computational-intelligence)  \n",
    "Free for personal or classroom use; see [`LICENSE.md`](https://github.com/squillero/computational-intelligence/blob/master/LICENSE.md) for details.  "
   ]
  },
  {
   "cell_type": "code",
   "execution_count": 2,
   "metadata": {},
   "outputs": [],
   "source": [
    "from random import random\n",
    "from functools import reduce\n",
    "from collections import namedtuple\n",
    "from queue import PriorityQueue, SimpleQueue, LifoQueue\n",
    "\n",
    "import numpy as np"
   ]
  },
  {
   "cell_type": "code",
   "execution_count": 4,
   "metadata": {},
   "outputs": [
    {
     "data": {
      "text/plain": [
       "((array([ True, False,  True,  True, False]),\n",
       "  array([ True, False, False, False,  True]),\n",
       "  array([False,  True, False, False, False]),\n",
       "  array([False, False, False,  True, False]),\n",
       "  array([False, False,  True, False,  True]),\n",
       "  array([False, False, False, False, False]),\n",
       "  array([ True, False,  True, False,  True]),\n",
       "  array([ True, False, False, False,  True]),\n",
       "  array([ True,  True, False, False, False]),\n",
       "  array([ True,  True, False, False, False])),\n",
       " __main__.State)"
      ]
     },
     "execution_count": 4,
     "metadata": {},
     "output_type": "execute_result"
    }
   ],
   "source": [
    "PROBLEM_SIZE = 5\n",
    "NUM_SETS = 10\n",
    "SETS = tuple(np.array([random() < .3 for _ in range(PROBLEM_SIZE)]) for _ in range(NUM_SETS))\n",
    "State = namedtuple('State', ['taken', 'not_taken'])\n",
    "SETS"
   ]
  },
  {
   "cell_type": "code",
   "execution_count": 9,
   "metadata": {},
   "outputs": [],
   "source": [
    "def goal_check(state):\n",
    "    return np.all(reduce(\n",
    "        np.logical_or,\n",
    "        [SETS[i] for i in state.taken],\n",
    "        np.array([False for _ in range(PROBLEM_SIZE)]),\n",
    "    ))\n",
    "\n",
    "\n",
    "def distance(state):\n",
    "    return PROBLEM_SIZE - sum(\n",
    "        reduce(\n",
    "            np.logical_or,\n",
    "            [SETS[i] for i in state.taken],\n",
    "            np.array([False for _ in range(PROBLEM_SIZE)]),\n",
    "        ))"
   ]
  },
  {
   "cell_type": "code",
   "execution_count": 6,
   "metadata": {},
   "outputs": [],
   "source": [
    "assert goal_check(State(set(range(NUM_SETS)), set())), \"Probelm not solvable\""
   ]
  },
  {
   "cell_type": "code",
   "execution_count": 20,
   "metadata": {},
   "outputs": [
    {
     "name": "stdout",
     "output_type": "stream",
     "text": [
      "State(taken=set(), not_taken={0, 1, 2, 3, 4, 5, 6, 7, 8, 9})\n",
      "taken: {0}\n",
      "Not taken: {1, 2, 3, 4, 5, 6, 7, 8, 9}\n",
      "\n",
      "taken: {1}\n",
      "Not taken: {0, 2, 3, 4, 5, 6, 7, 8, 9}\n",
      "\n",
      "taken: {2}\n",
      "Not taken: {0, 1, 3, 4, 5, 6, 7, 8, 9}\n",
      "\n",
      "taken: {3}\n",
      "Not taken: {0, 1, 2, 4, 5, 6, 7, 8, 9}\n",
      "\n",
      "taken: {4}\n",
      "Not taken: {0, 1, 2, 3, 5, 6, 7, 8, 9}\n",
      "\n",
      "taken: {5}\n",
      "Not taken: {0, 1, 2, 3, 4, 6, 7, 8, 9}\n",
      "\n",
      "taken: {6}\n",
      "Not taken: {0, 1, 2, 3, 4, 5, 7, 8, 9}\n",
      "\n",
      "taken: {7}\n",
      "Not taken: {0, 1, 2, 3, 4, 5, 6, 8, 9}\n",
      "\n",
      "taken: {8}\n",
      "Not taken: {0, 1, 2, 3, 4, 5, 6, 7, 9}\n",
      "\n",
      "taken: {9}\n",
      "Not taken: {0, 1, 2, 3, 4, 5, 6, 7, 8}\n",
      "\n",
      "State(taken={0}, not_taken={1, 2, 3, 4, 5, 6, 7, 8, 9})\n",
      "taken: {0, 1}\n",
      "Not taken: {2, 3, 4, 5, 6, 7, 8, 9}\n",
      "\n",
      "taken: {0, 2}\n",
      "Not taken: {1, 3, 4, 5, 6, 7, 8, 9}\n",
      "\n",
      "taken: {0, 3}\n",
      "Not taken: {1, 2, 4, 5, 6, 7, 8, 9}\n",
      "\n",
      "taken: {0, 4}\n",
      "Not taken: {1, 2, 3, 5, 6, 7, 8, 9}\n",
      "\n",
      "taken: {0, 5}\n",
      "Not taken: {1, 2, 3, 4, 6, 7, 8, 9}\n",
      "\n",
      "taken: {0, 6}\n",
      "Not taken: {1, 2, 3, 4, 5, 7, 8, 9}\n",
      "\n",
      "taken: {0, 7}\n",
      "Not taken: {1, 2, 3, 4, 5, 6, 8, 9}\n",
      "\n",
      "taken: {8, 0}\n",
      "Not taken: {1, 2, 3, 4, 5, 6, 7, 9}\n",
      "\n",
      "taken: {0, 9}\n",
      "Not taken: {1, 2, 3, 4, 5, 6, 7, 8}\n",
      "\n",
      "State(taken={0, 1}, not_taken={2, 3, 4, 5, 6, 7, 8, 9})\n",
      "taken: {0, 1, 2}\n",
      "Not taken: {3, 4, 5, 6, 7, 8, 9}\n",
      "\n",
      "taken: {0, 1, 3}\n",
      "Not taken: {2, 4, 5, 6, 7, 8, 9}\n",
      "\n",
      "taken: {0, 1, 4}\n",
      "Not taken: {2, 3, 5, 6, 7, 8, 9}\n",
      "\n",
      "taken: {0, 1, 5}\n",
      "Not taken: {2, 3, 4, 6, 7, 8, 9}\n",
      "\n",
      "taken: {0, 1, 6}\n",
      "Not taken: {2, 3, 4, 5, 7, 8, 9}\n",
      "\n",
      "taken: {0, 1, 7}\n",
      "Not taken: {2, 3, 4, 5, 6, 8, 9}\n",
      "\n",
      "taken: {8, 0, 1}\n",
      "Not taken: {2, 3, 4, 5, 6, 7, 9}\n",
      "\n",
      "taken: {0, 9, 1}\n",
      "Not taken: {2, 3, 4, 5, 6, 7, 8}\n",
      "\n",
      "Solved in 3 steps (3 tiles)\n"
     ]
    }
   ],
   "source": [
    "frontier = PriorityQueue()\n",
    "# frontier = SimpleQueue()\n",
    "state = State(set(), set(range(NUM_SETS)))\n",
    "frontier.put((distance(state), state))\n",
    "\n",
    "counter = 0\n",
    "_, current_state = frontier.get()\n",
    "while not goal_check(current_state):\n",
    "    counter += 1\n",
    "    print(current_state)\n",
    "    for action in current_state[1]:\n",
    "        new_state = State(\n",
    "            current_state.taken ^ {action},\n",
    "            current_state.not_taken ^ {action},\n",
    "        )\n",
    "        frontier.put((distance(new_state), new_state))\n",
    "        print(f'taken: {new_state.taken}')\n",
    "        print(f'Not taken: {new_state.not_taken}')\n",
    "        print()\n",
    "    _, current_state = frontier.get()\n",
    "\n",
    "print(\n",
    "    f\"Solved in {counter:,} steps ({len(current_state.taken)} tiles)\"\n",
    ")"
   ]
  },
  {
   "cell_type": "code",
   "execution_count": 21,
   "metadata": {},
   "outputs": [
    {
     "name": "stdout",
     "output_type": "stream",
     "text": [
      "SOLUTION:\n",
      "\n",
      "0: [ True False  True  True False]\n",
      "1: [ True False False False  True]\n",
      "2: [False  True False False False]\n"
     ]
    }
   ],
   "source": [
    "print('SOLUTION:')\n",
    "print()\n",
    "for s in current_state.taken:\n",
    "    print(f'{s}: {SETS[s]}')"
   ]
  }
 ],
 "metadata": {
  "kernelspec": {
   "display_name": "ci-P-7LqQ3C-py3.11",
   "language": "python",
   "name": "python3"
  },
  "language_info": {
   "codemirror_mode": {
    "name": "ipython",
    "version": 3
   },
   "file_extension": ".py",
   "mimetype": "text/x-python",
   "name": "python",
   "nbconvert_exporter": "python",
   "pygments_lexer": "ipython3",
   "version": "3.12.0"
  }
 },
 "nbformat": 4,
 "nbformat_minor": 2
}
