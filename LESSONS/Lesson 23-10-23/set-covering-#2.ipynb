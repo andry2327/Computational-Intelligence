{
 "cells": [
  {
   "cell_type": "markdown",
   "metadata": {},
   "source": [
    "Copyright **`(c)`** 2023 Giovanni Squillero `<giovanni.squillero@polito.it>`  \n",
    "[`https://github.com/squillero/computational-intelligence`](https://github.com/squillero/computational-intelligence)  \n",
    "Free for personal or classroom use; see [`LICENSE.md`](https://github.com/squillero/computational-intelligence/blob/master/LICENSE.md) for details.  "
   ]
  },
  {
   "cell_type": "code",
   "execution_count": 1,
   "metadata": {},
   "outputs": [],
   "source": [
    "from random import random, choice, randint\n",
    "from functools import reduce\n",
    "from collections import namedtuple\n",
    "from queue import PriorityQueue, SimpleQueue, LifoQueue\n",
    "from copy import copy\n",
    "\n",
    "import numpy as np"
   ]
  },
  {
   "cell_type": "code",
   "execution_count": 4,
   "metadata": {},
   "outputs": [
    {
     "data": {
      "text/plain": [
       "(array([False, False, False, False, False, False,  True, False, False,\n",
       "         True]),\n",
       " array([False, False, False, False, False, False, False, False, False,\n",
       "        False]),\n",
       " array([False, False,  True, False, False, False, False, False, False,\n",
       "        False]),\n",
       " array([False,  True, False, False, False, False, False,  True,  True,\n",
       "        False]),\n",
       " array([False, False,  True, False, False, False, False, False, False,\n",
       "        False]),\n",
       " array([ True,  True, False, False,  True, False, False, False, False,\n",
       "        False]),\n",
       " array([False, False, False, False,  True, False, False, False, False,\n",
       "        False]),\n",
       " array([False, False, False,  True,  True, False,  True, False,  True,\n",
       "        False]),\n",
       " array([False, False, False, False, False,  True, False,  True, False,\n",
       "         True]),\n",
       " array([False,  True, False, False, False, False, False, False, False,\n",
       "         True]))"
      ]
     },
     "execution_count": 4,
     "metadata": {},
     "output_type": "execute_result"
    }
   ],
   "source": [
    "PROBLEM_SIZE = 10\n",
    "NUM_SETS = 10\n",
    "SETS = tuple(np.array([random() < .3 for _ in range(PROBLEM_SIZE)]) for _ in range(NUM_SETS))\n",
    "State = namedtuple('State', ['taken', 'not_taken'])\n",
    "SETS"
   ]
  },
  {
   "cell_type": "code",
   "execution_count": 2,
   "metadata": {},
   "outputs": [],
   "source": [
    "def evaluate(state):\n",
    "    return np.all(reduce(\n",
    "        np.logical_or,\n",
    "        [SETS[i] for i, t in enumerate(state) if t],\n",
    "        np.array([False for _ in range(PROBLEM_SIZE)]),\n",
    "    )), -sum(state)\n",
    "\n",
    "\n",
    "def distance(state):\n",
    "    return PROBLEM_SIZE - sum(\n",
    "        reduce(\n",
    "            np.logical_or,\n",
    "            [SETS[i] for i in state.taken],\n",
    "            np.array([False for _ in range(PROBLEM_SIZE)]),\n",
    "        ))"
   ]
  },
  {
   "cell_type": "code",
   "execution_count": 5,
   "metadata": {},
   "outputs": [
    {
     "name": "stdout",
     "output_type": "stream",
     "text": [
      "[False, False, True, True, False, True, True, False, False, True]\n"
     ]
    },
    {
     "data": {
      "text/plain": [
       "(False, -5)"
      ]
     },
     "execution_count": 5,
     "metadata": {},
     "output_type": "execute_result"
    }
   ],
   "source": [
    "current_state = [choice([True, False]) for _ in range(PROBLEM_SIZE)]\n",
    "print(current_state)\n",
    "evaluate(current_state)"
   ]
  },
  {
   "cell_type": "code",
   "execution_count": 6,
   "metadata": {},
   "outputs": [
    {
     "ename": "NameError",
     "evalue": "name 'goal_check' is not defined",
     "output_type": "error",
     "traceback": [
      "\u001b[0;31m---------------------------------------------------------------------------\u001b[0m",
      "\u001b[0;31mNameError\u001b[0m                                 Traceback (most recent call last)",
      "\u001b[1;32m/Users/andreapellegrino/Dropbox (Politecnico Di Torino Studenti)/PoliTo/Data Science and Engineering/II Year/Computational Intelligence/LESSONS/Lesson 23-10-23/set-covering-#2.ipynb Cella 6\u001b[0m line \u001b[0;36m1\n\u001b[0;32m----> <a href='vscode-notebook-cell:/Users/andreapellegrino/Dropbox%20%28Politecnico%20Di%20Torino%20Studenti%29/PoliTo/Data%20Science%20and%20Engineering/II%20Year/Computational%20Intelligence/LESSONS/Lesson%2023-10-23/set-covering-%232.ipynb#W5sZmlsZQ%3D%3D?line=0'>1</a>\u001b[0m \u001b[39massert\u001b[39;00m goal_check(State(\u001b[39mset\u001b[39m(\u001b[39mrange\u001b[39m(NUM_SETS)), \u001b[39mset\u001b[39m())), \u001b[39m\"\u001b[39m\u001b[39mProbelm not solvable\u001b[39m\u001b[39m\"\u001b[39m\n",
      "\u001b[0;31mNameError\u001b[0m: name 'goal_check' is not defined"
     ]
    }
   ],
   "source": [
    "assert goal_check(State(set(range(NUM_SETS)), set())), \"Probelm not solvable\""
   ]
  },
  {
   "cell_type": "code",
   "execution_count": 8,
   "metadata": {},
   "outputs": [
    {
     "data": {
      "text/plain": [
       "[False, False, False, False, False, False, False, False, False, False]"
      ]
     },
     "execution_count": 8,
     "metadata": {},
     "output_type": "execute_result"
    }
   ],
   "source": [
    "current_state = [False for _ in range(PROBLEM_SIZE)]\n",
    "current_state"
   ]
  },
  {
   "cell_type": "code",
   "execution_count": 7,
   "metadata": {},
   "outputs": [],
   "source": [
    "def tweak(state):\n",
    "    new_state = copy(state)\n",
    "    index = randint(0, PROBLEM_SIZE-1)\n",
    "    new_state[index] = not new_state[index]\n",
    "    return new_state"
   ]
  },
  {
   "cell_type": "code",
   "execution_count": 9,
   "metadata": {},
   "outputs": [
    {
     "name": "stdout",
     "output_type": "stream",
     "text": [
      "[False, True, False, False, False, False, False, True, False, True] (False, -3)\n",
      "[False, False, False, False, False, False, False, True, False, True] (False, -2)\n",
      "[False, False, False, False, False, False, False, True, False, False] (False, -1)\n",
      "[False, False, False, False, False, False, False, False, False, False] (False, 0)\n"
     ]
    }
   ],
   "source": [
    "current_state = [choice([True, False]) for _ in range(PROBLEM_SIZE)]\n",
    "print(current_state, evaluate(current_state))\n",
    "\n",
    "for step in range(100):\n",
    "    new_state = tweak(current_state)\n",
    "    if evaluate(new_state) >= evaluate(current_state):\n",
    "        current_state = new_state\n",
    "        print(current_state, evaluate(current_state))"
   ]
  },
  {
   "cell_type": "code",
   "execution_count": null,
   "metadata": {},
   "outputs": [],
   "source": [
    "frontier = PriorityQueue()\n",
    "# frontier = SimpleQueue()\n",
    "state = State(set(), set(range(NUM_SETS)))\n",
    "frontier.put((distance(state), state))\n",
    "\n",
    "counter = 0\n",
    "_, current_state = frontier.get()\n",
    "while not goal_check(current_state):\n",
    "    counter += 1\n",
    "    print(current_state)\n",
    "    for action in current_state[1]:\n",
    "        new_state = State(\n",
    "            current_state.taken ^ {action},\n",
    "            current_state.not_taken ^ {action},\n",
    "        )\n",
    "        frontier.put((distance(new_state), new_state))\n",
    "        print(f'taken: {new_state.taken}')\n",
    "        print(f'Not taken: {new_state.not_taken}')\n",
    "        print()\n",
    "    _, current_state = frontier.get()\n",
    "\n",
    "print(\n",
    "    f\"Solved in {counter:,} steps ({len(current_state.taken)} tiles)\"\n",
    ")"
   ]
  },
  {
   "cell_type": "code",
   "execution_count": null,
   "metadata": {},
   "outputs": [],
   "source": [
    "print('SOLUTION:')\n",
    "print()\n",
    "for s in current_state.taken:\n",
    "    print(f'{s}: {SETS[s]}')"
   ]
  }
 ],
 "metadata": {
  "kernelspec": {
   "display_name": "ci-P-7LqQ3C-py3.11",
   "language": "python",
   "name": "python3"
  },
  "language_info": {
   "codemirror_mode": {
    "name": "ipython",
    "version": 3
   },
   "file_extension": ".py",
   "mimetype": "text/x-python",
   "name": "python",
   "nbconvert_exporter": "python",
   "pygments_lexer": "ipython3",
   "version": "3.12.0"
  }
 },
 "nbformat": 4,
 "nbformat_minor": 2
}
