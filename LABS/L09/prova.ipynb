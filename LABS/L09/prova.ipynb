{
 "cells": [
  {
   "cell_type": "code",
   "execution_count": null,
   "metadata": {},
   "outputs": [],
   "source": [
    "fitness = lab9_lib.make_problem(5)\n",
    "for n in range(20):\n",
    "    ind = choices([0, 1], k=100)\n",
    "    print(f\"{''.join(str(g) for g in ind)}: {fitness(ind):.2%}\")\n",
    "\n",
    "print(fitness.calls)"
   ]
  },
  {
   "cell_type": "code",
   "execution_count": null,
   "metadata": {},
   "outputs": [],
   "source": [
    "def parent_selection(\n",
    "    population: list[Individual], tournament_size: int\n",
    ") -> Individual:\n",
    "    # we also want to take the last best one.\n",
    "    parents_idx = np.random.choice(\n",
    "        range(len(population)), size=tournament_size, replace=False\n",
    "    )\n",
    "    parents = [population[idx] for idx in parents_idx]\n",
    "    return max(parents, key=lambda i: i.fitness)\n",
    "\n",
    "\n",
    "def uniform_cut_xover(ind1: Individual, ind2: Individual) -> Individual:\n",
    "    assert len(ind1.genotype) == len(ind2.genotype)p1 = ind1.fitness / (ind1.fitness + ind2.fitness)\n",
    "    mask = np.random.choice([True, False], size=LOCI, p=[p1, 1 - p1])\n",
    "    gene = np.where(mask, ind1.genotype, ind2.genotype)\n",
    "    new_ind = Individual()\n",
    "    new_ind.genotype = gene.tolist()\n",
    "    return new_ind\n",
    "    "
   ]
  },
  {
   "cell_type": "code",
   "execution_count": null,
   "metadata": {},
   "outputs": [],
   "source": []
  },
  {
   "cell_type": "code",
   "execution_count": null,
   "metadata": {},
   "outputs": [],
   "source": []
  },
  {
   "cell_type": "code",
   "execution_count": null,
   "metadata": {},
   "outputs": [],
   "source": [
    "from random import choices, random, randint, shuffle\n",
    "import numpy as np\n",
    "from copy import deepcopy\n",
    "from IPython.display import clear_output\n",
    "import matplotlib.pyplot as plt\n",
    "\n",
    "import lab9_lib"
   ]
  },
  {
   "cell_type": "code",
   "execution_count": null,
   "metadata": {},
   "outputs": [],
   "source": [
    "class new_generation:\n",
    "    def __init__(self, mutation_prob: float, bit_to_1:float, bit_change: float):\n",
    "        self.prob_to_set_1 = bit_to_1\n",
    "        self.bit_change = bit_change\n",
    "        self.better_with_0_1 = [0,0]\n",
    "    \n",
    "    def mutate(self, parent):\n",
    "        new_offspring = deepcopy(parent)\n",
    "        bit_val = 1 if random() <  self.prob_to_set_1 else 0\n",
    "        for i in range(len(parent)):\n",
    "            if random() < self.bit_change:\n",
    "                new_offspring.genotype[i] = bit_val\n",
    "        new_offspring.fitness = fitness(new_offspring.genotype)\n",
    "        if new_offspring.fitness > parent.fitness:\n",
    "            self.better_with_0_1[bit_val]+=1\n",
    "        return new_offspring\n",
    "    \n",
    "    def adjust_prob(self):\n",
    "        if self.better_with_0_1[1] > self.better_with_0_1[0]:\n",
    "            self.prob_to_set_1 += 0.1\n",
    "        else:\n",
    "            self.prob_to_set_1 -= 0.1\n",
    "        \n",
    "\n",
    "    def __call__(self, population: list[Individual], offspring_size, tournament_size) -> list[Individual]:\n",
    "        offsprings = []\n",
    "        for _ in range(offspring_size):\n",
    "            parent1 = parent_selection(population, tournament_size)\n",
    "            parent2 = parent_selection(population, tournament_size)\n",
    "            offspring = uniform_cut_xover(parent1, parent2)\n",
    "            offspring = self.mutate(offspring) if random() < random() < self.mutation_prob else offspring\n",
    "            offsprings.append(offspring)\n",
    "        return offsprings"
   ]
  }
 ],
 "metadata": {
  "language_info": {
   "name": "python"
  }
 },
 "nbformat": 4,
 "nbformat_minor": 2
}
