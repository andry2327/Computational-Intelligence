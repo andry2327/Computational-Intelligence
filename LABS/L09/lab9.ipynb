{
 "cells": [
  {
   "cell_type": "markdown",
   "metadata": {},
   "source": [
    "Copyright **`(c)`** 2023 Giovanni Squillero `<giovanni.squillero@polito.it>`  \n",
    "[`https://github.com/squillero/computational-intelligence`](https://github.com/squillero/computational-intelligence)  \n",
    "Free for personal or classroom use; see [`LICENSE.md`](https://github.com/squillero/computational-intelligence/blob/master/LICENSE.md) for details.  "
   ]
  },
  {
   "cell_type": "markdown",
   "metadata": {},
   "source": [
    "# LAB9\n",
    "\n",
    "Write a local-search algorithm (eg. an EA) able to solve the *Problem* instances 1, 2, 5, and 10 on a 1000-loci genomes, using a minimum number of fitness calls. That's all.\n",
    "\n",
    "### Deadlines:\n",
    "\n",
    "* Submission: Sunday, December 3 ([CET](https://www.timeanddate.com/time/zones/cet))\n",
    "* Reviews: Sunday, December 10 ([CET](https://www.timeanddate.com/time/zones/cet))\n",
    "\n",
    "Notes:\n",
    "\n",
    "* Reviews will be assigned  on Monday, December 4\n",
    "* You need to commit in order to be selected as a reviewer (ie. better to commit an empty work than not to commit)"
   ]
  },
  {
   "cell_type": "code",
   "execution_count": 1,
   "metadata": {},
   "outputs": [],
   "source": [
    "from random import choices, random, randint, shuffle\n",
    "import numpy as np\n",
    "from copy import deepcopy\n",
    "from IPython.display import clear_output\n",
    "import matplotlib.pyplot as plt\n",
    "\n",
    "plt.rcParams[\"figure.figsize\"] = (10, 6)\n",
    "plt.rcParams[\"figure.dpi\"] = 120\n",
    "plt.rcParams.update({'font.size': 15})\n",
    "\n",
    "import lab9_lib\n",
    "\n",
    "# GOAL: maximize fitness, minimize calls"
   ]
  },
  {
   "cell_type": "code",
   "execution_count": 2,
   "metadata": {},
   "outputs": [
    {
     "name": "stdout",
     "output_type": "stream",
     "text": [
      "1001111101110111010110111001001101011010111100001111101110110001000100101111111001111111001010011000: 13.67%\n",
      "1011000001000011010001111010011001101011101110000110001111001000110111000000001110001011011011101100: 13.90%\n",
      "0000010101111111110101011110101110000110100110100010001011000100110100101111101111110001101101001111: 22.78%\n",
      "1000100000110010100111110111011011101110001101011101001111000001010010111101100011101010110101001100: 11.79%\n",
      "1111010110001000110000111101011010100100001101001000110101100010010010011011101000111100001011011101: 14.78%\n",
      "0100101001000001011100010111000000110001101011001011011011101111000011110100111011010100010010000011: 9.89%\n",
      "1101110110111011000001111011010100001110001010000010011001001110101011111101110010101000001010110110: 11.79%\n",
      "1001111011101101001101100010111110110000000111100101010011111101100011001000001111011111011010011011: 12.57%\n",
      "1010100001011000001100010000011000111010110001111010000011111010001010101111111111101100111000011000: 11.90%\n",
      "0111100001010011101011110100000101001111111010010000111001111111011011111011100011001100011111111011: 12.57%\n",
      "1100011110101110100000100011000110111111001100111101000101000011010010101101001110011111010000010101: 11.79%\n",
      "1011011010001111110000100010010110001110001111101110010111100101011111100011111101011011111100100001: 24.78%\n",
      "0000100010001100001100101110101111010010101110011101111101111000001111000110000111101101000101011011: 12.69%\n",
      "1111010010001010111100000001101000010111101111111001010100001110110000001011010001001110101101101001: 10.89%\n",
      "1100000011101011111101000110001100110010101101011010011010000000011101111000101101111111010111111110: 24.89%\n",
      "1101110000101101010110100110100001000000111110101110001001010101010011111111010100111001001100100011: 22.80%\n",
      "0001001010011000000000011011010111111110000011111011101000001101001111110100111100011001001110011001: 11.79%\n",
      "0010101110000001100101111001001101100111000111111101111110010010100111110000101101111000000110011000: 11.68%\n",
      "1000111100001110111011110101000011101100001010101011010011100010100000100010111111100011101101111001: 11.69%\n",
      "1011011011110110010111011110000011010111000110001110111011001001100110011111011011000100101110001101: 12.68%\n",
      "20\n"
     ]
    }
   ],
   "source": [
    "fitness = lab9_lib.make_problem(5)\n",
    "for n in range(20):\n",
    "    ind = choices([0, 1], k=100)\n",
    "    print(f\"{''.join(str(g) for g in ind)}: {fitness(ind):.2%}\")\n",
    "\n",
    "print(fitness.calls)"
   ]
  },
  {
   "cell_type": "code",
   "execution_count": 3,
   "metadata": {},
   "outputs": [],
   "source": [
    "import math \n",
    "\n",
    "def plot(history_dict: dict, model='') -> None:\n",
    "    colors = {1:'red', 2:'blue', 5:'green', 10:'orange'}\n",
    "    offset = 0.75\n",
    "    len_x = max([len(item[1]) for item in history_dict.values()])\n",
    "    plt.title(f'{model}')\n",
    "    plt.xticks(range(0, math.ceil(len_x/10)*10, 5))\n",
    "    plt.xlabel('#generation')\n",
    "    plt.ylabel('fitness')\n",
    "    for k, v in history_dict.items():\n",
    "        plt.plot(v[1], label=f'k = {k}', color=colors[k])\n",
    "        plt.axvline(x=v[0][-1]-offset, color=colors[k], linestyle='dashed')\n",
    "    plt.legend()\n",
    "    plt.show()"
   ]
  },
  {
   "cell_type": "markdown",
   "metadata": {},
   "source": [
    "Our code below"
   ]
  },
  {
   "cell_type": "code",
   "execution_count": 4,
   "metadata": {},
   "outputs": [],
   "source": [
    "POPULATION_SIZE = 500\n",
    "OFFSPRING_SIZE = 200\n",
    "LOCI = 1000\n",
    "BIT_FLIP_PROBABILITY = 0.15\n",
    "# SWAP_PROBABILITY = 150 * 1/LOCI\n",
    "SWAP_PROBABILITY = 0.5\n",
    "NUM_GENERATION = 20\n",
    "\n",
    "\n",
    "class Individual:\n",
    "    def __init__(self):\n",
    "        self.genotype = choices([0, 1], k=LOCI)\n",
    "        self.fitness = float(\"-inf\")"
   ]
  },
  {
   "cell_type": "code",
   "execution_count": 5,
   "metadata": {},
   "outputs": [],
   "source": [
    "# Mutation / recombination or both\n",
    "def parent_selection(\n",
    "    population: list[Individual], tournament_size: int\n",
    ") -> Individual:\n",
    "    # we also want to take the last best one.\n",
    "    parents_idx = np.random.choice(\n",
    "        range(len(population)), size=tournament_size, replace=False\n",
    "    )\n",
    "    parents = [population[idx] for idx in parents_idx]\n",
    "    return max(parents, key=lambda i: i.fitness)\n",
    "\n",
    "\n",
    "def uniform_cut_xover(ind1: Individual, ind2: Individual) -> Individual:\n",
    "    p1 = ind1.fitness / (ind1.fitness + ind2.fitness)\n",
    "    mask = np.random.choice([True, False], size=LOCI, p=[p1, 1 - p1])\n",
    "    gene = np.where(mask, ind1.genotype, ind2.genotype)\n",
    "    new_ind = Individual()\n",
    "    new_ind.genotype = gene.tolist()\n",
    "    return new_ind\n",
    "\n",
    "'''NOT USEFUL'''\n",
    "# def uniform_cut_xover_old(ind1: Individual, ind2: Individual) -> list[Individual]:\n",
    "#     ind1.genotype = np.array(ind1.genotype)\n",
    "#     ind2.genotype = np.array(ind2.genotype)\n",
    "#     swap_mask = np.random.rand(len(ind1.genotype)) < SWAP_PROBABILITY\n",
    "#     temp = np.copy(ind1.genotype[swap_mask])\n",
    "#     ind1.genotype[swap_mask] = ind2.genotype[swap_mask]\n",
    "#     ind2.genotype[swap_mask] = temp\n",
    "#     return [ind1, ind2]\n",
    "\n",
    "\n",
    "def mutate(parent: Individual) -> Individual:\n",
    "    new_offspring = deepcopy(parent)\n",
    "    for i in range(LOCI):\n",
    "        if random() < BIT_FLIP_PROBABILITY:\n",
    "            new_offspring.genotype[i] = int(not new_offspring.genotype[i])\n",
    "    return new_offspring\n",
    "\n",
    "\n",
    "def offspring_generation(\n",
    "    parent1: Individual, parent2: Individual, mutation_probability: int\n",
    ") -> Individual:\n",
    "    offspring = uniform_cut_xover(parent1, parent2)\n",
    "    offspring = mutate(offspring) if random() < random() < mutation_probability else offspring\n",
    "    offspring.fitness = fitness(offspring.genotype)\n",
    "    return offspring\n",
    "            \n",
    "\n",
    "def ea() -> Individual:\n",
    "    fitness_list = []\n",
    "    gen_list = []\n",
    "    # starting pouplation of POPULATION_SIZE individuals\n",
    "    population = [Individual() for _ in range(POPULATION_SIZE)]\n",
    "    for p in population:\n",
    "        p.fitness = fitness(p.genotype)\n",
    "    best_fitness = population[0].fitness\n",
    "    gen = 0\n",
    "    fitness_stall = 0 \n",
    "    mutation_probability = 0.15\n",
    "    tournament_size = 3\n",
    "    while fitness_stall < 20 or gen < NUM_GENERATION:\n",
    "        offsprings = []\n",
    "        for _ in range(OFFSPRING_SIZE):\n",
    "            parent1 = parent_selection(population, tournament_size)\n",
    "            parent2 = parent_selection(population, tournament_size)\n",
    "            offspring = offspring_generation(\n",
    "                parent1, parent2, mutation_probability\n",
    "            )\n",
    "            offsprings.append(offspring)\n",
    "            #population.extend([offspring]) if isinstance(offspring, Individual) else population.extend(offspring)            # tracking the number of offspring better than the best old one.\n",
    "        population.extend(offsprings)\n",
    "\n",
    "        population.sort(key=lambda i: i.fitness, reverse=True)\n",
    "        # always keep the first POPULATION_SIZE best individuals\n",
    "        population = population[:POPULATION_SIZE]\n",
    "\n",
    "        #  Self-adapting the values.\n",
    "        # TODO favour mutation insted of recombination if the fitness it's not high (<0.65).\n",
    "        if fitness_stall > 5:\n",
    "            # If we are able to generate 5% of offsprings better than the father,\n",
    "            # We should explore more.\n",
    "            mutation_probability *= 1.3\n",
    "\n",
    "        if best_fitness == population[0].fitness:\n",
    "            fitness_stall += 1\n",
    "        else:\n",
    "            best_fitness = population[0].fitness\n",
    "            fitness_stall = 0\n",
    "            mutation_probability = 0.15\n",
    "\n",
    "        # fitness_list.append(best_fitness)\n",
    "        gen += 1\n",
    "        fitness_list.append(best_fitness)\n",
    "        gen_list.append(gen)\n",
    "        clear_output(wait=True)\n",
    "        print(\n",
    "            f\"gen #{gen}, fitness: {best_fitness}, score: {best_fitness/gen * 1000:.4f}\"\n",
    "        )\n",
    "\n",
    "    return population[0], gen_list, fitness_list"
   ]
  },
  {
   "cell_type": "code",
   "execution_count": 6,
   "metadata": {},
   "outputs": [
    {
     "name": "stdout",
     "output_type": "stream",
     "text": [
      "gen #43, fitness: 0.27886897, score: 6.4853\n",
      "\n",
      "Best individual fitness: 0.27886897, Fitness calls: 9100 -> Score2: 306.4494\n"
     ]
    }
   ],
   "source": [
    "# instance = [1, 2, 5, 10]\n",
    "history_dict = {}\n",
    "instance = [1, 2, 5, 10]\n",
    "for k in instance:\n",
    "    fitness = lab9_lib.make_problem(k)\n",
    "    best_individual, gen_list, fitness_list = ea()\n",
    "    history_dict[k] = (gen_list, fitness_list)\n",
    "    best_fitness = best_individual.fitness\n",
    "    print(f\"\\nBest individual fitness: {best_fitness}, Fitness calls: {fitness.calls} -> Score2: {best_fitness/fitness.calls*10000000:.4f}\")"
   ]
  },
  {
   "cell_type": "markdown",
   "metadata": {},
   "source": [
    "### Plot"
   ]
  },
  {
   "cell_type": "code",
   "execution_count": 7,
   "metadata": {},
   "outputs": [
    {
     "data": {
      "image/png": "[encoded data removed]",
      "text/plain": [
       "<Figure size 1200x720 with 1 Axes>"
      ]
     },
     "metadata": {},
     "output_type": "display_data"
    }
   ],
   "source": [
    "plot(history_dict, model=f'Genetic algorithm')"
   ]
  },
  {
   "cell_type": "markdown",
   "metadata": {},
   "source": [
    "## Island model"
   ]
  },
  {
   "cell_type": "code",
   "execution_count": 8,
   "metadata": {},
   "outputs": [],
   "source": [
    "class Island:\n",
    "   def __init__(self, population_size, offspring_size, tournament_size, mutation_rate):\n",
    "      self.population_size = population_size\n",
    "      population = [Individual() for _ in range(population_size)]\n",
    "      for p in population:\n",
    "        p.fitness = fitness(p.genotype)\n",
    "      self.population = population\n",
    "      self.offspring_size = offspring_size\n",
    "      self.mutation_rate = mutation_rate\n",
    "      self.tournament_size = tournament_size\n",
    "   \n",
    "   def evolve(self, num_generations: int) -> Individual:\n",
    "      for _ in range(num_generations):\n",
    "         offsprings = []\n",
    "         for _ in range(self.offspring_size):\n",
    "            parent1 = parent_selection(self.population,self.tournament_size)\n",
    "            parent2 = parent_selection(self.population,self.tournament_size)\n",
    "            offspring = offspring_generation(\n",
    "                  parent1, parent2, self.mutation_rate\n",
    "            )\n",
    "            offsprings.append(offspring)\n",
    "         self.population.extend(offsprings)\n",
    "         self.population.sort(key=lambda i: i.fitness, reverse=True)\n",
    "         # always keep the first POPULATION_SIZE best individuals\n",
    "         self.population = self.population[:POPULATION_SIZE]\n",
    "      return self.population[0]\n",
    "   \n",
    "   def emigrate(self, num_of_migrations: int) -> list:\n",
    "      migrants = np.random.choice(self.population, size = num_of_migrations, replace = False)\n",
    "      self.population = [ind for ind in self.population if ind not in migrants]\n",
    "      return migrants\n",
    "   \n",
    "   def immigrate(self, migrants):\n",
    "      self.population.extend(migrants)"
   ]
  },
  {
   "cell_type": "code",
   "execution_count": 9,
   "metadata": {},
   "outputs": [],
   "source": [
    "from itertools import combinations\n",
    "\n",
    "POPULATION_SIZE = 100\n",
    "OFFSPRING_SIZE = 100\n",
    "RATIO = 10\n",
    "NUM_ISLAND = 10\n",
    "MIGRATION_FREQUENCY = 30\n",
    "FITNESS_STALL_LIMIT = 60/MIGRATION_FREQUENCY\n",
    "MIGRATION_NUMBER = POPULATION_SIZE//RATIO\n",
    "TOURNAMENT_SIZE = 3 \n",
    "MUTATION_RATE = 0.2\n",
    "\n",
    "def island_model(): \n",
    "    islands = [Island(population_size=POPULATION_SIZE, offspring_size=OFFSPRING_SIZE, tournament_size = TOURNAMENT_SIZE, mutation_rate = MUTATION_RATE ) for _ in range(NUM_ISLAND)]\n",
    "    fitness_stall = 0 \n",
    "    best_fitness = float('-inf')\n",
    "    gen = 0\n",
    "    fitness_list = []\n",
    "    gen_list = []\n",
    "    while fitness_stall < FITNESS_STALL_LIMIT: \n",
    "        old_best = best_fitness\n",
    "        for island in islands:\n",
    "            best_individual = island.evolve(MIGRATION_FREQUENCY)\n",
    "            best_fitness = best_individual.fitness if best_fitness < best_individual.fitness else best_fitness\n",
    "        # migrations\n",
    "        migrants = [island.emigrate(MIGRATION_NUMBER) for island in islands]\n",
    "        shuffle(migrants)\n",
    "        for i in range(NUM_ISLAND):\n",
    "            islands[i].immigrate(migrants[i])\n",
    "        \n",
    "        gen += MIGRATION_FREQUENCY\n",
    "        fitness_list.append(best_fitness)\n",
    "        gen_list.append(gen)\n",
    "        clear_output(wait=True)\n",
    "        print(f\"gen #{gen}, fitness: {best_fitness}, score: {best_fitness/gen * 1000:.4f}\")\n",
    "        \n",
    "        fitness_stall = fitness_stall + 1 if best_fitness == old_best else 0\n",
    "    \n",
    "    return best_fitness, gen_list, fitness_list"
   ]
  },
  {
   "cell_type": "code",
   "execution_count": 10,
   "metadata": {},
   "outputs": [
    {
     "name": "stdout",
     "output_type": "stream",
     "text": [
      "gen #570, fitness: 0.93, score: 1.6316\n",
      "\n",
      "Best individual fitness: 0.93, Fitness calls: 571000 -> Score2: 16.2872\n"
     ]
    }
   ],
   "source": [
    "instance = [2]\n",
    "history_dict = {}\n",
    "for k in instance:\n",
    "    fitness = lab9_lib.make_problem(k)\n",
    "    best_fitness, gen_list, fitness_list  = island_model()\n",
    "    history_dict[k] = (gen_list, fitness_list)\n",
    "    print(f\"\\nBest individual fitness: {best_fitness}, Fitness calls: {fitness.calls} -> Score2: {best_fitness/fitness.calls*10000000:.4f}\")"
   ]
  }
 ],
 "metadata": {
  "kernelspec": {
   "display_name": "ci-fLJ3OwGs-py3.12",
   "language": "python",
   "name": "python3"
  },
  "language_info": {
   "codemirror_mode": {
    "name": "ipython",
    "version": 3
   },
   "file_extension": ".py",
   "mimetype": "text/x-python",
   "name": "python",
   "nbconvert_exporter": "python",
   "pygments_lexer": "ipython3",
   "version": "3.12.0"
  }
 },
 "nbformat": 4,
 "nbformat_minor": 2
}
