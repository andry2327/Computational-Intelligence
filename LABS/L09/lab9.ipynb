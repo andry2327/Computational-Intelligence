{
 "cells": [
  {
   "cell_type": "markdown",
   "metadata": {},
   "source": [
    "Copyright **`(c)`** 2023 Giovanni Squillero `<giovanni.squillero@polito.it>`  \n",
    "[`https://github.com/squillero/computational-intelligence`](https://github.com/squillero/computational-intelligence)  \n",
    "Free for personal or classroom use; see [`LICENSE.md`](https://github.com/squillero/computational-intelligence/blob/master/LICENSE.md) for details.  "
   ]
  },
  {
   "cell_type": "markdown",
   "metadata": {},
   "source": [
    "# LAB9\n",
    "\n",
    "Write a local-search algorithm (eg. an EA) able to solve the *Problem* instances 1, 2, 5, and 10 on a 1000-loci genomes, using a minimum number of fitness calls. That's all.\n",
    "\n",
    "### Deadlines:\n",
    "\n",
    "* Submission: Sunday, December 3 ([CET](https://www.timeanddate.com/time/zones/cet))\n",
    "* Reviews: Sunday, December 10 ([CET](https://www.timeanddate.com/time/zones/cet))\n",
    "\n",
    "Notes:\n",
    "\n",
    "* Reviews will be assigned  on Monday, December 4\n",
    "* You need to commit in order to be selected as a reviewer (ie. better to commit an empty work than not to commit)"
   ]
  },
  {
   "cell_type": "code",
   "execution_count": 109,
   "metadata": {},
   "outputs": [],
   "source": [
    "from random import choices, random, randint\n",
    "import numpy as np\n",
    "from copy import deepcopy\n",
    "\n",
    "import lab9_lib\n",
    "\n",
    "# GOAL: maximize fitness, minimize calls"
   ]
  },
  {
   "cell_type": "code",
   "execution_count": 110,
   "metadata": {},
   "outputs": [
    {
     "name": "stdout",
     "output_type": "stream",
     "text": [
      "1010101110001101011110000001000001010110001100000001001100010111001111100111110011011101110001000110: 11.70%\n",
      "0110100101111111110000111110011010111101100110101101011000110101100000110101111111000100101110011100: 24.69%\n",
      "0100100000000011110101010101001010000111111110111111001011101101010110110001010010110111000000010101: 22.91%\n",
      "1100000101001010010011000010001010100001000000010101110101011100011101000001010001101111111010100010: 10.90%\n",
      "1110011110100000100011101010000000100001000111000111000100111111011000100010110111001010110111100000: 10.78%\n",
      "1101011001010111010101100011100000100010111000011001100011101001001101110100001001101111111110111000: 12.79%\n",
      "1001010110110100001111011000010000011000100111001100001011100100101100010010011000101101101101000010: 11.00%\n",
      "0101001100100000100000101100101100111100101011110011101010000110000101111011010011010110100000000011: 10.79%\n",
      "1000100001001100100010011110010111000100111001110111110010001110000110010100100100001100010110111111: 10.89%\n",
      "1110001110000000101101010110101011100011110011001100101100100010000111100000101100111010100011010101: 11.90%\n",
      "0000111101011111000110101110111001001000101000100101001100101001110010011011010010101000101010011100: 11.80%\n",
      "1001100110010111111010010011010001001010100010100010011010000010011111010100111110110010000001011011: 12.81%\n",
      "1011111000100000010011101110001001001100101000000011100001000101110110110010110100111000001100111000: 10.89%\n",
      "0110100010011000111000010110100101000100000100010100000111000010110001011001100000100001111001010000: 9.11%\n",
      "1010000001110001010010101110010110100011101110110000101001110110100111111001010100101010100010110011: 27.02%\n",
      "1111000101111000000100111001001111001001101001010010001000001101111110111010101010100100101100011000: 11.79%\n",
      "0110100111111101001111100000100101100100100100100100100110010010110000111001000011101110110110011101: 31.93%\n",
      "1010110111001111000111011010101111101100110111110110100010000011010100100001111101110110111010111100: 12.58%\n",
      "0111001010110100110000011010100001001111000111110100011101001000100010001000110001111111001000111101: 20.90%\n",
      "1111111000010101111011011001000011100011100101110111000100101100010001011110000011000010010001110100: 10.79%\n",
      "20\n"
     ]
    }
   ],
   "source": [
    "fitness = lab9_lib.make_problem(5)\n",
    "for n in range(20):\n",
    "    ind = choices([0, 1], k=100)\n",
    "    print(f\"{''.join(str(g) for g in ind)}: {fitness(ind):.2%}\")\n",
    "\n",
    "print(fitness.calls)"
   ]
  },
  {
   "cell_type": "code",
   "execution_count": null,
   "metadata": {
    "vscode": {
     "languageId": "plaintext"
    }
   },
   "outputs": [],
   "source": [
    "Our code below"
   ]
  },
  {
   "cell_type": "code",
   "execution_count": 111,
   "metadata": {},
   "outputs": [],
   "source": [
    "POPULATION_SIZE = 10\n",
    "OFFSPRING_SIZE = 50\n",
    "LOCI = 1000\n",
    "TOURNAMENT_SIZE = 5\n",
    "MUTATION_PROBABILITY = 0.25\n",
    "BIT_FLIP_PROBABILITY = 0.05\n",
    "NUM_GENERATION = 50\n",
    "\n",
    "class Individual:\n",
    "    def __init__(self):\n",
    "        self.genotype = choices([0, 1], k=LOCI)\n",
    "        self.fitness = float('-inf')\n"
   ]
  },
  {
   "cell_type": "code",
   "execution_count": 112,
   "metadata": {},
   "outputs": [],
   "source": [
    "# Mutation / recombination or both\n",
    "def tournament_selection(parents: list[Individual]) -> list[Individual]:\n",
    "    return sorted(parents, key=lambda i: i.fitness, reverse=True)[:2]\n",
    "\n",
    "def one_cut_xover(ind1: Individual, ind2: Individual) -> Individual:\n",
    "    cut_point = randint(0, LOCI-1) \n",
    "    new_ind = Individual()\n",
    "    new_ind.genotype = ind1.genotype[:cut_point] + ind2.genotype[cut_point:]\n",
    "    assert len(new_ind.genotype) == LOCI\n",
    "    return new_ind \n",
    "\n",
    "# This xover function returns a child whose genome \n",
    "# is created proportionally to the fitenss of parents\n",
    "def uniform_cut_xover(ind1: Individual, ind2: Individual) -> Individual:\n",
    "    p1 = ind1.fitness/(ind1.fitness + ind2.fitness)\n",
    "    gene = [np.random.choice([ind1.genotype[i], ind2.genotype[i]], p=[p1, 1-p1]) for i in range(LOCI)]\n",
    "    new_ind = Individual()\n",
    "    new_ind.genotype = gene\n",
    "    return new_ind\n",
    "\n",
    "def mutate(parent: Individual) -> Individual:\n",
    "    new_offspring = deepcopy(parent)\n",
    "    for i in range(LOCI):\n",
    "        if random() < BIT_FLIP_PROBABILITY:\n",
    "            new_offspring.genotype[i] = int(not new_offspring.genotype[i])\n",
    "    return new_offspring\n",
    "\n",
    "def offspring_generation(parent1: Individual, parent2: Individual) -> Individual:\n",
    "    if random() < MUTATION_PROBABILITY:\n",
    "        # mutation\n",
    "        return mutate(parent1)\n",
    "    else:\n",
    "        # cross_over\n",
    "        return uniform_cut_xover(parent1, parent2)\n",
    "    \n",
    "def ea() -> Individual:\n",
    "    # starting pouplation of POPULATION_SIZE individuals \n",
    "    population = [Individual() for _ in range(POPULATION_SIZE)]\n",
    "    for p in population:\n",
    "        p.fitness = fitness(p.genotype)        \n",
    "    for _ in range(NUM_GENERATION):\n",
    "        # best_old_one = best_one\n",
    "        parents_idx = np.random.choice(range(len(population)), size=TOURNAMENT_SIZE, replace=False)\n",
    "        parents = [population[idx] for idx in parents_idx]\n",
    "        best_parents = tournament_selection(parents)\n",
    "        for _ in range(OFFSPRING_SIZE):\n",
    "            offspring = offspring_generation(best_parents[0], best_parents[1])\n",
    "            offspring.fitness = fitness(offspring.genotype)\n",
    "            population.extend([offspring])\n",
    "\n",
    "        population.sort(key=lambda i: i.fitness, reverse=True)\n",
    "        population = population[:POPULATION_SIZE] # always keep the first POPULATION_SIZE best individuals\n",
    "    return population[0]\n"
   ]
  },
  {
   "cell_type": "code",
   "execution_count": 113,
   "metadata": {},
   "outputs": [
    {
     "ename": "KeyboardInterrupt",
     "evalue": "",
     "output_type": "error",
     "traceback": [
      "\u001b[0;31m---------------------------------------------------------------------------\u001b[0m",
      "\u001b[0;31mKeyboardInterrupt\u001b[0m                         Traceback (most recent call last)",
      "\u001b[1;32m/Users/andreapellegrino/Dropbox (Politecnico Di Torino Studenti)/PoliTo/Data Science and Engineering/II Year/Computational Intelligence/LABS/L09/lab9.ipynb Cella 8\u001b[0m line \u001b[0;36m4\n\u001b[1;32m      <a href='vscode-notebook-cell:/Users/andreapellegrino/Dropbox%20%28Politecnico%20Di%20Torino%20Studenti%29/PoliTo/Data%20Science%20and%20Engineering/II%20Year/Computational%20Intelligence/LABS/L09/lab9.ipynb#X21sZmlsZQ%3D%3D?line=1'>2</a>\u001b[0m \u001b[39mfor\u001b[39;00m k \u001b[39min\u001b[39;00m instance:\n\u001b[1;32m      <a href='vscode-notebook-cell:/Users/andreapellegrino/Dropbox%20%28Politecnico%20Di%20Torino%20Studenti%29/PoliTo/Data%20Science%20and%20Engineering/II%20Year/Computational%20Intelligence/LABS/L09/lab9.ipynb#X21sZmlsZQ%3D%3D?line=2'>3</a>\u001b[0m     fitness \u001b[39m=\u001b[39m lab9_lib\u001b[39m.\u001b[39mmake_problem(k)\n\u001b[0;32m----> <a href='vscode-notebook-cell:/Users/andreapellegrino/Dropbox%20%28Politecnico%20Di%20Torino%20Studenti%29/PoliTo/Data%20Science%20and%20Engineering/II%20Year/Computational%20Intelligence/LABS/L09/lab9.ipynb#X21sZmlsZQ%3D%3D?line=3'>4</a>\u001b[0m     \u001b[39mprint\u001b[39m(\u001b[39mf\u001b[39m\u001b[39m'\u001b[39m\u001b[39mBest individual fitness: \u001b[39m\u001b[39m{\u001b[39;00mea()\u001b[39m.\u001b[39mfitness\u001b[39m}\u001b[39;00m\u001b[39m'\u001b[39m)\n\u001b[1;32m      <a href='vscode-notebook-cell:/Users/andreapellegrino/Dropbox%20%28Politecnico%20Di%20Torino%20Studenti%29/PoliTo/Data%20Science%20and%20Engineering/II%20Year/Computational%20Intelligence/LABS/L09/lab9.ipynb#X21sZmlsZQ%3D%3D?line=4'>5</a>\u001b[0m     \u001b[39mprint\u001b[39m(\u001b[39mf\u001b[39m\u001b[39m'\u001b[39m\u001b[39mFintess calls: \u001b[39m\u001b[39m{\u001b[39;00mfitness\u001b[39m.\u001b[39mcalls\u001b[39m}\u001b[39;00m\u001b[39m'\u001b[39m)    \n",
      "\u001b[1;32m/Users/andreapellegrino/Dropbox (Politecnico Di Torino Studenti)/PoliTo/Data Science and Engineering/II Year/Computational Intelligence/LABS/L09/lab9.ipynb Cella 8\u001b[0m line \u001b[0;36m4\n\u001b[1;32m     <a href='vscode-notebook-cell:/Users/andreapellegrino/Dropbox%20%28Politecnico%20Di%20Torino%20Studenti%29/PoliTo/Data%20Science%20and%20Engineering/II%20Year/Computational%20Intelligence/LABS/L09/lab9.ipynb#X21sZmlsZQ%3D%3D?line=44'>45</a>\u001b[0m best_parents \u001b[39m=\u001b[39m tournament_selection(parents)\n\u001b[1;32m     <a href='vscode-notebook-cell:/Users/andreapellegrino/Dropbox%20%28Politecnico%20Di%20Torino%20Studenti%29/PoliTo/Data%20Science%20and%20Engineering/II%20Year/Computational%20Intelligence/LABS/L09/lab9.ipynb#X21sZmlsZQ%3D%3D?line=45'>46</a>\u001b[0m \u001b[39mfor\u001b[39;00m _ \u001b[39min\u001b[39;00m \u001b[39mrange\u001b[39m(OFFSPRING_SIZE):\n\u001b[0;32m---> <a href='vscode-notebook-cell:/Users/andreapellegrino/Dropbox%20%28Politecnico%20Di%20Torino%20Studenti%29/PoliTo/Data%20Science%20and%20Engineering/II%20Year/Computational%20Intelligence/LABS/L09/lab9.ipynb#X21sZmlsZQ%3D%3D?line=46'>47</a>\u001b[0m     offspring \u001b[39m=\u001b[39m offspring_generation(best_parents[\u001b[39m0\u001b[39;49m], best_parents[\u001b[39m1\u001b[39;49m])\n\u001b[1;32m     <a href='vscode-notebook-cell:/Users/andreapellegrino/Dropbox%20%28Politecnico%20Di%20Torino%20Studenti%29/PoliTo/Data%20Science%20and%20Engineering/II%20Year/Computational%20Intelligence/LABS/L09/lab9.ipynb#X21sZmlsZQ%3D%3D?line=47'>48</a>\u001b[0m     offspring\u001b[39m.\u001b[39mfitness \u001b[39m=\u001b[39m fitness(offspring\u001b[39m.\u001b[39mgenotype)\n\u001b[1;32m     <a href='vscode-notebook-cell:/Users/andreapellegrino/Dropbox%20%28Politecnico%20Di%20Torino%20Studenti%29/PoliTo/Data%20Science%20and%20Engineering/II%20Year/Computational%20Intelligence/LABS/L09/lab9.ipynb#X21sZmlsZQ%3D%3D?line=48'>49</a>\u001b[0m     population\u001b[39m.\u001b[39mextend([offspring])\n",
      "\u001b[1;32m/Users/andreapellegrino/Dropbox (Politecnico Di Torino Studenti)/PoliTo/Data Science and Engineering/II Year/Computational Intelligence/LABS/L09/lab9.ipynb Cella 8\u001b[0m line \u001b[0;36m3\n\u001b[1;32m     <a href='vscode-notebook-cell:/Users/andreapellegrino/Dropbox%20%28Politecnico%20Di%20Torino%20Studenti%29/PoliTo/Data%20Science%20and%20Engineering/II%20Year/Computational%20Intelligence/LABS/L09/lab9.ipynb#X21sZmlsZQ%3D%3D?line=30'>31</a>\u001b[0m     \u001b[39mreturn\u001b[39;00m mutate(parent1)\n\u001b[1;32m     <a href='vscode-notebook-cell:/Users/andreapellegrino/Dropbox%20%28Politecnico%20Di%20Torino%20Studenti%29/PoliTo/Data%20Science%20and%20Engineering/II%20Year/Computational%20Intelligence/LABS/L09/lab9.ipynb#X21sZmlsZQ%3D%3D?line=31'>32</a>\u001b[0m \u001b[39melse\u001b[39;00m:\n\u001b[1;32m     <a href='vscode-notebook-cell:/Users/andreapellegrino/Dropbox%20%28Politecnico%20Di%20Torino%20Studenti%29/PoliTo/Data%20Science%20and%20Engineering/II%20Year/Computational%20Intelligence/LABS/L09/lab9.ipynb#X21sZmlsZQ%3D%3D?line=32'>33</a>\u001b[0m     \u001b[39m# cross_over\u001b[39;00m\n\u001b[0;32m---> <a href='vscode-notebook-cell:/Users/andreapellegrino/Dropbox%20%28Politecnico%20Di%20Torino%20Studenti%29/PoliTo/Data%20Science%20and%20Engineering/II%20Year/Computational%20Intelligence/LABS/L09/lab9.ipynb#X21sZmlsZQ%3D%3D?line=33'>34</a>\u001b[0m     \u001b[39mreturn\u001b[39;00m uniform_cut_xover(parent1, parent2)\n",
      "\u001b[1;32m/Users/andreapellegrino/Dropbox (Politecnico Di Torino Studenti)/PoliTo/Data Science and Engineering/II Year/Computational Intelligence/LABS/L09/lab9.ipynb Cella 8\u001b[0m line \u001b[0;36m1\n\u001b[1;32m     <a href='vscode-notebook-cell:/Users/andreapellegrino/Dropbox%20%28Politecnico%20Di%20Torino%20Studenti%29/PoliTo/Data%20Science%20and%20Engineering/II%20Year/Computational%20Intelligence/LABS/L09/lab9.ipynb#X21sZmlsZQ%3D%3D?line=13'>14</a>\u001b[0m \u001b[39mdef\u001b[39;00m \u001b[39muniform_cut_xover\u001b[39m(ind1: Individual, ind2: Individual) \u001b[39m-\u001b[39m\u001b[39m>\u001b[39m Individual:\n\u001b[1;32m     <a href='vscode-notebook-cell:/Users/andreapellegrino/Dropbox%20%28Politecnico%20Di%20Torino%20Studenti%29/PoliTo/Data%20Science%20and%20Engineering/II%20Year/Computational%20Intelligence/LABS/L09/lab9.ipynb#X21sZmlsZQ%3D%3D?line=14'>15</a>\u001b[0m     p1 \u001b[39m=\u001b[39m ind1\u001b[39m.\u001b[39mfitness\u001b[39m/\u001b[39m(ind1\u001b[39m.\u001b[39mfitness \u001b[39m+\u001b[39m ind2\u001b[39m.\u001b[39mfitness)\n\u001b[0;32m---> <a href='vscode-notebook-cell:/Users/andreapellegrino/Dropbox%20%28Politecnico%20Di%20Torino%20Studenti%29/PoliTo/Data%20Science%20and%20Engineering/II%20Year/Computational%20Intelligence/LABS/L09/lab9.ipynb#X21sZmlsZQ%3D%3D?line=15'>16</a>\u001b[0m     gene \u001b[39m=\u001b[39m [np\u001b[39m.\u001b[39mrandom\u001b[39m.\u001b[39mchoice([ind1\u001b[39m.\u001b[39mgenotype[i], ind2\u001b[39m.\u001b[39mgenotype[i]], p\u001b[39m=\u001b[39m[p1, \u001b[39m1\u001b[39m\u001b[39m-\u001b[39mp1]) \u001b[39mfor\u001b[39;00m i \u001b[39min\u001b[39;00m \u001b[39mrange\u001b[39m(LOCI)]\n\u001b[1;32m     <a href='vscode-notebook-cell:/Users/andreapellegrino/Dropbox%20%28Politecnico%20Di%20Torino%20Studenti%29/PoliTo/Data%20Science%20and%20Engineering/II%20Year/Computational%20Intelligence/LABS/L09/lab9.ipynb#X21sZmlsZQ%3D%3D?line=16'>17</a>\u001b[0m     new_ind \u001b[39m=\u001b[39m Individual()\n\u001b[1;32m     <a href='vscode-notebook-cell:/Users/andreapellegrino/Dropbox%20%28Politecnico%20Di%20Torino%20Studenti%29/PoliTo/Data%20Science%20and%20Engineering/II%20Year/Computational%20Intelligence/LABS/L09/lab9.ipynb#X21sZmlsZQ%3D%3D?line=17'>18</a>\u001b[0m     new_ind\u001b[39m.\u001b[39mgenotype \u001b[39m=\u001b[39m gene\n",
      "\u001b[1;32m/Users/andreapellegrino/Dropbox (Politecnico Di Torino Studenti)/PoliTo/Data Science and Engineering/II Year/Computational Intelligence/LABS/L09/lab9.ipynb Cella 8\u001b[0m line \u001b[0;36m1\n\u001b[1;32m     <a href='vscode-notebook-cell:/Users/andreapellegrino/Dropbox%20%28Politecnico%20Di%20Torino%20Studenti%29/PoliTo/Data%20Science%20and%20Engineering/II%20Year/Computational%20Intelligence/LABS/L09/lab9.ipynb#X21sZmlsZQ%3D%3D?line=13'>14</a>\u001b[0m \u001b[39mdef\u001b[39;00m \u001b[39muniform_cut_xover\u001b[39m(ind1: Individual, ind2: Individual) \u001b[39m-\u001b[39m\u001b[39m>\u001b[39m Individual:\n\u001b[1;32m     <a href='vscode-notebook-cell:/Users/andreapellegrino/Dropbox%20%28Politecnico%20Di%20Torino%20Studenti%29/PoliTo/Data%20Science%20and%20Engineering/II%20Year/Computational%20Intelligence/LABS/L09/lab9.ipynb#X21sZmlsZQ%3D%3D?line=14'>15</a>\u001b[0m     p1 \u001b[39m=\u001b[39m ind1\u001b[39m.\u001b[39mfitness\u001b[39m/\u001b[39m(ind1\u001b[39m.\u001b[39mfitness \u001b[39m+\u001b[39m ind2\u001b[39m.\u001b[39mfitness)\n\u001b[0;32m---> <a href='vscode-notebook-cell:/Users/andreapellegrino/Dropbox%20%28Politecnico%20Di%20Torino%20Studenti%29/PoliTo/Data%20Science%20and%20Engineering/II%20Year/Computational%20Intelligence/LABS/L09/lab9.ipynb#X21sZmlsZQ%3D%3D?line=15'>16</a>\u001b[0m     gene \u001b[39m=\u001b[39m [np\u001b[39m.\u001b[39;49mrandom\u001b[39m.\u001b[39;49mchoice([ind1\u001b[39m.\u001b[39;49mgenotype[i], ind2\u001b[39m.\u001b[39;49mgenotype[i]], p\u001b[39m=\u001b[39;49m[p1, \u001b[39m1\u001b[39;49m\u001b[39m-\u001b[39;49mp1]) \u001b[39mfor\u001b[39;00m i \u001b[39min\u001b[39;00m \u001b[39mrange\u001b[39m(LOCI)]\n\u001b[1;32m     <a href='vscode-notebook-cell:/Users/andreapellegrino/Dropbox%20%28Politecnico%20Di%20Torino%20Studenti%29/PoliTo/Data%20Science%20and%20Engineering/II%20Year/Computational%20Intelligence/LABS/L09/lab9.ipynb#X21sZmlsZQ%3D%3D?line=16'>17</a>\u001b[0m     new_ind \u001b[39m=\u001b[39m Individual()\n\u001b[1;32m     <a href='vscode-notebook-cell:/Users/andreapellegrino/Dropbox%20%28Politecnico%20Di%20Torino%20Studenti%29/PoliTo/Data%20Science%20and%20Engineering/II%20Year/Computational%20Intelligence/LABS/L09/lab9.ipynb#X21sZmlsZQ%3D%3D?line=17'>18</a>\u001b[0m     new_ind\u001b[39m.\u001b[39mgenotype \u001b[39m=\u001b[39m gene\n",
      "\u001b[0;31mKeyboardInterrupt\u001b[0m: "
     ]
    }
   ],
   "source": [
    "instance = [1, 2, 5, 10]\n",
    "for k in instance:\n",
    "    fitness = lab9_lib.make_problem(k)\n",
    "    print(f'Best individual fitness: {ea().fitness}')\n",
    "    print(f'Fintess calls: {fitness.calls}')    \n"
   ]
  }
 ],
 "metadata": {
  "kernelspec": {
   "display_name": "ci-fLJ3OwGs-py3.12",
   "language": "python",
   "name": "python3"
  },
  "language_info": {
   "codemirror_mode": {
    "name": "ipython",
    "version": 3
   },
   "file_extension": ".py",
   "mimetype": "text/x-python",
   "name": "python",
   "nbconvert_exporter": "python",
   "pygments_lexer": "ipython3",
   "version": "3.10.12"
  }
 },
 "nbformat": 4,
 "nbformat_minor": 2
}
