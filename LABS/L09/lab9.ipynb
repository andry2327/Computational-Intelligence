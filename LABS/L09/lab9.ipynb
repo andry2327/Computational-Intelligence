{
 "cells": [
  {
   "cell_type": "markdown",
   "metadata": {},
   "source": [
    "Copyright **`(c)`** 2023 Giovanni Squillero `<giovanni.squillero@polito.it>`  \n",
    "[`https://github.com/squillero/computational-intelligence`](https://github.com/squillero/computational-intelligence)  \n",
    "Free for personal or classroom use; see [`LICENSE.md`](https://github.com/squillero/computational-intelligence/blob/master/LICENSE.md) for details.  "
   ]
  },
  {
   "cell_type": "markdown",
   "metadata": {},
   "source": [
    "# LAB9\n",
    "\n",
    "Write a local-search algorithm (eg. an EA) able to solve the *Problem* instances 1, 2, 5, and 10 on a 1000-loci genomes, using a minimum number of fitness calls. That's all.\n",
    "\n",
    "### Deadlines:\n",
    "\n",
    "* Submission: Sunday, December 3 ([CET](https://www.timeanddate.com/time/zones/cet))\n",
    "* Reviews: Sunday, December 10 ([CET](https://www.timeanddate.com/time/zones/cet))\n",
    "\n",
    "Notes:\n",
    "\n",
    "* Reviews will be assigned  on Monday, December 4\n",
    "* You need to commit in order to be selected as a reviewer (ie. better to commit an empty work than not to commit)"
   ]
  },
  {
   "cell_type": "code",
   "execution_count": 36,
   "metadata": {},
   "outputs": [],
   "source": [
    "from random import choices, random, randint\n",
    "import numpy as np\n",
    "from copy import deepcopy\n",
    "\n",
    "import lab9_lib\n",
    "\n",
    "# GOAL: maximize fitness, minimize calls"
   ]
  },
  {
   "cell_type": "code",
   "execution_count": 37,
   "metadata": {},
   "outputs": [
    {
     "name": "stdout",
     "output_type": "stream",
     "text": [
      "0110111010010001000010111011010000011111010011010011100001010011010111100101111111110010000000000000: 9.89%\n",
      "0100011011101000110111101011010101111111001010011111010011111110011100111110011100000001001111101000: 26.70%\n",
      "0101001110010110010000000110101110100100011101001100101001101110001111001101110010010110001100000001: 20.91%\n",
      "1101011111001100011100011111011101000100011001000101011011011010110110111001110001001110100111011101: 24.79%\n",
      "0110011111000001110000100100110101111000101111001100000100111000000001110001110111100001111010101000: 10.90%\n",
      "1110101011000101111100011010101011001011110101110101011110011100000001110101100010011011111110011001: 13.67%\n",
      "1011100100101001101010110001000101010101000000001010100101011111110010011001000100001110000111001111: 10.80%\n",
      "1101000010001111010010110100011111011000010001001110000011001100001111111010011000000010111101101001: 20.91%\n",
      "0010110001001101010100111010011110110111001100000101000000000010111110101001110111010100110011001001: 23.01%\n",
      "0001100100100011110100100110111000011001011101110110000011010010110000100011101001001100100000010101: 10.81%\n",
      "1000110111000001010000011110100000011000011111011001000010011010101010011000010010101000110010111100: 9.00%\n",
      "0100011101010001111010000101111101011101010100000011000100010100000011111100101101001000001111000010: 11.90%\n",
      "0100000001101101000100011010101011000110101100100100010100111111001010100100110011111110101001101000: 12.90%\n",
      "0001000010010000111100111110101100110101100011010111000001101010101101000111111001000001100010110111: 20.90%\n",
      "0101110101100101000001011011010111101111011111111011111111101110010101000000100010101010110010011100: 24.79%\n",
      "0010010100000110001000101000010010010110101001000100010111010111000010000010011001010001110010011011: 9.91%\n",
      "0001010110100110100111110101110010010001001011010110110101110010000010111100001010111100100100001011: 11.78%\n",
      "1100000110111110100110110101001011111110100010111001101001000100111010100110000001010100110101100111: 10.89%\n",
      "1110100011001110101001011100100010010011100011110100110010011011001011001100010101000011101111001111: 11.78%\n",
      "0111011010101000001111001111100110101110110010011000001100010010011010101110100000011100010110111101: 20.89%\n",
      "20\n"
     ]
    }
   ],
   "source": [
    "fitness = lab9_lib.make_problem(5)\n",
    "for n in range(20):\n",
    "    ind = choices([0, 1], k=100)\n",
    "    print(f\"{''.join(str(g) for g in ind)}: {fitness(ind):.2%}\")\n",
    "\n",
    "print(fitness.calls)"
   ]
  },
  {
   "cell_type": "markdown",
   "metadata": {},
   "source": [
    "Our code below"
   ]
  },
  {
   "cell_type": "code",
   "execution_count": 38,
   "metadata": {},
   "outputs": [],
   "source": [
    "POPULATION_SIZE = 100\n",
    "OFFSPRING_SIZE = 100\n",
    "LOCI = 1000\n",
    "BIT_FLIP_PROBABILITY = 0.20\n",
    "NUM_GENERATION = 100\n",
    "\n",
    "\n",
    "class Individual:\n",
    "    def __init__(self):\n",
    "        self.genotype = choices([0, 1], k=LOCI)\n",
    "        self.fitness = float(\"-inf\")"
   ]
  },
  {
   "cell_type": "code",
   "execution_count": 39,
   "metadata": {},
   "outputs": [],
   "source": [
    "# Mutation / recombination or both\n",
    "def parent_selection(\n",
    "    population: list[Individual], tournament_size: int\n",
    ") -> list[Individual]:\n",
    "    # we also want to take the last best one.\n",
    "    parents_idx = np.random.choice(\n",
    "        range(len(population)), size=tournament_size - 1, replace=False\n",
    "    )\n",
    "    parents = [population[idx] for idx in parents_idx if idx != 0]\n",
    "    return [population[0], max(parents, key=lambda i: i.fitness)]\n",
    "\n",
    "\n",
    "def one_cut_xover(ind1: Individual, ind2: Individual) -> Individual:\n",
    "    cut_point = randint(0, LOCI - 1)\n",
    "    new_ind = Individual()\n",
    "    new_ind.genotype = ind1.genotype[:cut_point] + ind2.genotype[cut_point:]\n",
    "    assert len(new_ind.genotype) == LOCI\n",
    "    return new_ind\n",
    "\n",
    "\n",
    "# This xover function returns a child whose genome\n",
    "# is created proportionally to the fitenss of parents\n",
    "def uniform_cut_xover(ind1: Individual, ind2: Individual) -> Individual:\n",
    "    p1 = ind1.fitness / (ind1.fitness + ind2.fitness)\n",
    "    gene = [\n",
    "        np.random.choice([ind1.genotype[i], ind2.genotype[i]], p=[p1, 1 - p1])\n",
    "        for i in range(LOCI)\n",
    "    ]\n",
    "    new_ind = Individual()\n",
    "    new_ind.genotype = gene\n",
    "    return new_ind\n",
    "\n",
    "\n",
    "def mutate(parent: Individual) -> Individual:\n",
    "    new_offspring = deepcopy(parent)\n",
    "    for i in range(LOCI):\n",
    "        if random() < BIT_FLIP_PROBABILITY:\n",
    "            new_offspring.genotype[i] = int(not new_offspring.genotype[i])\n",
    "    return new_offspring\n",
    "\n",
    "\n",
    "def offspring_generation(\n",
    "    parent1: Individual, parent2: Individual, mutation_probability: int\n",
    ") -> Individual:\n",
    "    if random() < mutation_probability:\n",
    "        # mutation\n",
    "        return mutate(parent1)\n",
    "    else:\n",
    "        # cross_over\n",
    "        return uniform_cut_xover(parent1, parent2)\n",
    "\n",
    "\n",
    "def ea() -> Individual:\n",
    "    # starting pouplation of POPULATION_SIZE individuals\n",
    "    population = [Individual() for _ in range(POPULATION_SIZE)]\n",
    "    for p in population:\n",
    "        p.fitness = fitness(p.genotype)\n",
    "    old_best_fitness = 0\n",
    "    best_fitness = population[0].fitness\n",
    "    # for _ in range(NUM_GENERATION)\n",
    "    gen = 0\n",
    "    mutation_probability = 0.20\n",
    "    tournament_size = 10\n",
    "    while best_fitness != old_best_fitness or gen < NUM_GENERATION:\n",
    "        old_best_fitness = best_fitness\n",
    "        num_of_better_offspring = 0\n",
    "        # best_old_one = best_one\n",
    "        best_parents = parent_selection(population, tournament_size)\n",
    "        for _ in range(OFFSPRING_SIZE):\n",
    "            offspring = offspring_generation(\n",
    "                best_parents[0], best_parents[1], mutation_probability\n",
    "            )\n",
    "            offspring.fitness = fitness(offspring.genotype)\n",
    "            population.extend([offspring])\n",
    "            # tracking the number of offspring better than the best old one.\n",
    "            if offspring.fitness > old_best_fitness:\n",
    "                num_of_better_offspring += 1\n",
    "\n",
    "        population.sort(key=lambda i: i.fitness, reverse=True)\n",
    "        # always keep the first POPULATION_SIZE best individuals\n",
    "        population = population[:POPULATION_SIZE]\n",
    "\n",
    "        # Self-adapting the values.\n",
    "\n",
    "        if num_of_better_offspring >= 0.2 * OFFSPRING_SIZE:\n",
    "            # If we are able to generate 20% of offsprings better than the father,\n",
    "            # We should explore more.\n",
    "            tournament_size += 1\n",
    "            mutation_probability *= 1.1\n",
    "        else:\n",
    "            # We are probably around a good point, we should favour exploitation.\n",
    "            tournament_size = tournament_size - 1 if tournament_size > 5 else 5\n",
    "            mutation_probability /= 1.1\n",
    "\n",
    "        best_fitness = population[0].fitness\n",
    "        gen += 1\n",
    "\n",
    "    return population[0]"
   ]
  },
  {
   "cell_type": "code",
   "execution_count": 40,
   "metadata": {},
   "outputs": [
    {
     "name": "stdout",
     "output_type": "stream",
     "text": [
      "Best individual fitness: 0.556\n",
      "Fitness calls: 10100\n"
     ]
    }
   ],
   "source": [
    "# instance = [1, 2, 5, 10]\n",
    "instance = [2]\n",
    "for k in instance:\n",
    "    fitness = lab9_lib.make_problem(k)\n",
    "    print(f\"Best individual fitness: {ea().fitness}\")\n",
    "    print(f\"Fitness calls: {fitness.calls}\")"
   ]
  }
 ],
 "metadata": {
  "kernelspec": {
   "display_name": "ci-fLJ3OwGs-py3.12",
   "language": "python",
   "name": "python3"
  },
  "language_info": {
   "codemirror_mode": {
    "name": "ipython",
    "version": 3
   },
   "file_extension": ".py",
   "mimetype": "text/x-python",
   "name": "python",
   "nbconvert_exporter": "python",
   "pygments_lexer": "ipython3",
   "version": "3.11.6"
  }
 },
 "nbformat": 4,
 "nbformat_minor": 2
}
