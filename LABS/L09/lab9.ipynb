{
 "cells": [
  {
   "cell_type": "markdown",
   "metadata": {},
   "source": [
    "Copyright **`(c)`** 2023 Giovanni Squillero `<giovanni.squillero@polito.it>`  \n",
    "[`https://github.com/squillero/computational-intelligence`](https://github.com/squillero/computational-intelligence)  \n",
    "Free for personal or classroom use; see [`LICENSE.md`](https://github.com/squillero/computational-intelligence/blob/master/LICENSE.md) for details.  "
   ]
  },
  {
   "cell_type": "markdown",
   "metadata": {},
   "source": [
    "# LAB9\n",
    "\n",
    "Write a local-search algorithm (eg. an EA) able to solve the *Problem* instances 1, 2, 5, and 10 on a 1000-loci genomes, using a minimum number of fitness calls. That's all.\n",
    "\n",
    "### Deadlines:\n",
    "\n",
    "* Submission: Sunday, December 3 ([CET](https://www.timeanddate.com/time/zones/cet))\n",
    "* Reviews: Sunday, December 10 ([CET](https://www.timeanddate.com/time/zones/cet))\n",
    "\n",
    "Notes:\n",
    "\n",
    "* Reviews will be assigned  on Monday, December 4\n",
    "* You need to commit in order to be selected as a reviewer (ie. better to commit an empty work than not to commit)"
   ]
  },
  {
   "cell_type": "code",
   "execution_count": 436,
   "metadata": {},
   "outputs": [],
   "source": [
    "from random import choices, random, randint\n",
    "import numpy as np\n",
    "from copy import deepcopy\n",
    "\n",
    "import lab9_lib\n",
    "\n",
    "# GOAL: maximize fitness, minimize calls"
   ]
  },
  {
   "cell_type": "code",
   "execution_count": 437,
   "metadata": {},
   "outputs": [
    {
     "name": "stdout",
     "output_type": "stream",
     "text": [
      "0001101101100100111001001001100111100100000100101101010001100011000010001111011101100101000011110010: 13.71%\n",
      "1011111111101010111110110010111100000100111111001111101001101010101110110110000011101100001010000010: 24.78%\n",
      "1101100001111110111000110111000110101111010010100101011100000011110110101100001111111110100101000010: 12.68%\n",
      "1001000111101001111110010011100001010000111101101001111111011111110100100001001000110110110000100111: 12.58%\n",
      "1001111110101011000101010100011011001111110010000011110001000000111000101001010011110011011011100111: 11.69%\n",
      "0110001010111110010011111111100011000001110001000000101010001001100110011001111011000010111011110011: 31.92%\n",
      "0101110100101100110001110011110010110000110000100110000111010011001111010010110000001011010100101011: 11.78%\n",
      "0000110111010011110100000010000111010100000111111001000110000101101011101010011001101101000011101010: 9.89%\n",
      "0000001001010110010100110101010010011110011010100000000110000100001001110100111011101110010110100011: 11.90%\n",
      "1110011000011010101110100001101011001000110101100111010110010000100101011101011000110101011101101110: 10.78%\n",
      "0000000101110001100100110001101110101011111111001001101011101110101000001001010101110000100010010100: 11.91%\n",
      "1000110001011111111000010110011000000100010011110001000111111110001101101100110100010111100010111110: 22.80%\n",
      "1111010110001100101111010110110011010000111111011111101111110100111010000111100111100000001001010100: 12.58%\n",
      "1011011111001101000100100011101101111010101111001101011110101110111010110001000011101110111001011111: 14.47%\n",
      "1110101100101011000010010010111001110011010011001011110111111100010100011110111100001000110110111001: 11.68%\n",
      "1010010110000111010011000001001100110011110011011000101100100001101100101010010000110101010010110110: 11.70%\n",
      "0000111000101010000001111001111100000111110110111010111101001001010101100000111001010011110001100011: 10.79%\n",
      "1110011000001101100010100110100100011110101001001101011010100111100101010011100111111111110101110100: 12.69%\n",
      "1010000011010011100001000100101011101111000111000100111010100100101000111100111001001111001110100011: 10.79%\n",
      "0000010011111000111010001000100101101111110111001011011011100001000010001011101110101001111101111101: 12.69%\n",
      "20\n"
     ]
    }
   ],
   "source": [
    "fitness = lab9_lib.make_problem(5)\n",
    "for n in range(20):\n",
    "    ind = choices([0, 1], k=100)\n",
    "    print(f\"{''.join(str(g) for g in ind)}: {fitness(ind):.2%}\")\n",
    "\n",
    "print(fitness.calls)"
   ]
  },
  {
   "cell_type": "markdown",
   "metadata": {},
   "source": [
    "Our code below"
   ]
  },
  {
   "cell_type": "code",
   "execution_count": 438,
   "metadata": {},
   "outputs": [],
   "source": [
    "POPULATION_SIZE = 50\n",
    "OFFSPRING_SIZE = 50\n",
    "LOCI = 1000\n",
    "TOURNAMENT_SIZE = 5\n",
    "MUTATION_PROBABILITY = 0.25\n",
    "BIT_FLIP_PROBABILITY = 0.15\n",
    "NUM_GENERATION = 200\n",
    "\n",
    "\n",
    "class Individual:\n",
    "    def __init__(self):\n",
    "        self.genotype = choices([0, 1], k=LOCI)\n",
    "        self.fitness = float(\"-inf\")"
   ]
  },
  {
   "cell_type": "code",
   "execution_count": 439,
   "metadata": {},
   "outputs": [],
   "source": [
    "# Mutation / recombination or both\n",
    "def parent_selection(population: list[Individual]) -> list[Individual]:\n",
    "    # we also want to take the last best one.\n",
    "    parents_idx = np.random.choice(\n",
    "        range(len(population)), size=TOURNAMENT_SIZE - 1, replace=False\n",
    "    )\n",
    "    parents = [population[idx] for idx in parents_idx if idx != 0]\n",
    "    return [population[0], max(parents, key=lambda i: i.fitness)]\n",
    "\n",
    "\n",
    "def one_cut_xover(ind1: Individual, ind2: Individual) -> Individual:\n",
    "    cut_point = randint(0, LOCI - 1)\n",
    "    new_ind = Individual()\n",
    "    new_ind.genotype = ind1.genotype[:cut_point] + ind2.genotype[cut_point:]\n",
    "    assert len(new_ind.genotype) == LOCI\n",
    "    return new_ind\n",
    "\n",
    "\n",
    "# This xover function returns a child whose genome\n",
    "# is created proportionally to the fitenss of parents\n",
    "def uniform_cut_xover(ind1: Individual, ind2: Individual) -> Individual:\n",
    "    p1 = ind1.fitness / (ind1.fitness + ind2.fitness)\n",
    "    gene = [\n",
    "        np.random.choice([ind1.genotype[i], ind2.genotype[i]], p=[p1, 1 - p1])\n",
    "        for i in range(LOCI)\n",
    "    ]\n",
    "    new_ind = Individual()\n",
    "    new_ind.genotype = gene\n",
    "    return new_ind\n",
    "\n",
    "\n",
    "def mutate(parent: Individual) -> Individual:\n",
    "    new_offspring = deepcopy(parent)\n",
    "    for i in range(LOCI):\n",
    "        if random() < BIT_FLIP_PROBABILITY:\n",
    "            new_offspring.genotype[i] = int(not new_offspring.genotype[i])\n",
    "    return new_offspring\n",
    "\n",
    "\n",
    "def offspring_generation(\n",
    "    parent1: Individual, parent2: Individual\n",
    ") -> Individual:\n",
    "    if random() < MUTATION_PROBABILITY:\n",
    "        # mutation\n",
    "        return mutate(parent1)\n",
    "    else:\n",
    "        # cross_over\n",
    "        return uniform_cut_xover(parent1, parent2)\n",
    "\n",
    "\n",
    "def ea() -> Individual:\n",
    "    # starting pouplation of POPULATION_SIZE individuals\n",
    "    population = [Individual() for _ in range(POPULATION_SIZE)]\n",
    "    for p in population:\n",
    "        p.fitness = fitness(p.genotype)\n",
    "    old_best_fitness = 0\n",
    "    best_fitness = population[0].fitness\n",
    "    # for _ in range(NUM_GENERATION)\n",
    "    gen = 0\n",
    "    while best_fitness != old_best_fitness or gen < NUM_GENERATION:\n",
    "        old_best_fitness = best_fitness\n",
    "        # best_old_one = best_one\n",
    "        best_parents = parent_selection(population)\n",
    "        for _ in range(OFFSPRING_SIZE):\n",
    "            offspring = offspring_generation(best_parents[0], best_parents[1])\n",
    "            offspring.fitness = fitness(offspring.genotype)\n",
    "            population.extend([offspring])\n",
    "\n",
    "        population.sort(key=lambda i: i.fitness, reverse=True)\n",
    "        # always keep the first POPULATION_SIZE best individuals\n",
    "        population = population[:POPULATION_SIZE]\n",
    "        best_fitness = population[0].fitness\n",
    "        gen += 1\n",
    "    return population[0]"
   ]
  },
  {
   "cell_type": "code",
   "execution_count": 440,
   "metadata": {},
   "outputs": [
    {
     "name": "stdout",
     "output_type": "stream",
     "text": [
      "Best individual fitness: 0.594\n",
      "Fitness calls: 10050\n"
     ]
    }
   ],
   "source": [
    "# instance = [1, 2, 5, 10]\n",
    "instance = [2]\n",
    "for k in instance:\n",
    "    fitness = lab9_lib.make_problem(k)\n",
    "    print(f\"Best individual fitness: {ea().fitness}\")\n",
    "    print(f\"Fitness calls: {fitness.calls}\")"
   ]
  }
 ],
 "metadata": {
  "kernelspec": {
   "display_name": "ci-fLJ3OwGs-py3.12",
   "language": "python",
   "name": "python3"
  },
  "language_info": {
   "codemirror_mode": {
    "name": "ipython",
    "version": 3
   },
   "file_extension": ".py",
   "mimetype": "text/x-python",
   "name": "python",
   "nbconvert_exporter": "python",
   "pygments_lexer": "ipython3",
   "version": "3.11.6"
  }
 },
 "nbformat": 4,
 "nbformat_minor": 2
}
