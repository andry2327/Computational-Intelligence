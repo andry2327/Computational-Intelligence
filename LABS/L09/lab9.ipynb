{
 "cells": [
  {
   "cell_type": "markdown",
   "metadata": {},
   "source": [
    "Copyright **`(c)`** 2023 Giovanni Squillero `<giovanni.squillero@polito.it>`  \n",
    "[`https://github.com/squillero/computational-intelligence`](https://github.com/squillero/computational-intelligence)  \n",
    "Free for personal or classroom use; see [`LICENSE.md`](https://github.com/squillero/computational-intelligence/blob/master/LICENSE.md) for details.  "
   ]
  },
  {
   "cell_type": "markdown",
   "metadata": {},
   "source": [
    "# LAB9\n",
    "\n",
    "Write a local-search algorithm (eg. an EA) able to solve the *Problem* instances 1, 2, 5, and 10 on a 1000-loci genomes, using a minimum number of fitness calls. That's all.\n",
    "\n",
    "### Deadlines:\n",
    "\n",
    "* Submission: Sunday, December 3 ([CET](https://www.timeanddate.com/time/zones/cet))\n",
    "* Reviews: Sunday, December 10 ([CET](https://www.timeanddate.com/time/zones/cet))\n",
    "\n",
    "Notes:\n",
    "\n",
    "* Reviews will be assigned  on Monday, December 4\n",
    "* You need to commit in order to be selected as a reviewer (ie. better to commit an empty work than not to commit)"
   ]
  },
  {
   "cell_type": "code",
   "execution_count": 198,
   "metadata": {},
   "outputs": [],
   "source": [
    "from random import choices, random, randint\n",
    "import numpy as np\n",
    "from copy import deepcopy\n",
    "from IPython.display import clear_output\n",
    "\n",
    "import lab9_lib\n",
    "\n",
    "# GOAL: maximize fitness, minimize calls"
   ]
  },
  {
   "cell_type": "code",
   "execution_count": 199,
   "metadata": {},
   "outputs": [
    {
     "name": "stdout",
     "output_type": "stream",
     "text": [
      "1011100100101011101000110001111110000100101010010001001001000110001000010111010010010001010100010110: 13.12%\n",
      "1010001001000011000110101011011111001010001110000100010000010110101001100010100111110101110111100101: 13.90%\n",
      "1101001100010000010101111110000011010111001000000000010101100001110010110000001000101111000001010101: 19.12%\n",
      "0110110100011100000011001101001010110101010011100101011010010011101000000101111000010011110001001101: 20.91%\n",
      "1100110010000011100001001000011001010100011000101001101000110101100101011001001100101011001110000001: 9.91%\n",
      "1111101111001100100101101001101000110010110100100010011101001010010101011000100100000000000110011001: 19.00%\n",
      "0111110101010000001110011001111110101011111011001110001011011011010010001100100101110001011011000110: 11.67%\n",
      "1111010010001001111111101111101100101011101101100111010000011110011110110000111000111011001011000100: 37.83%\n",
      "0000110110111010111101010101100010101101000011101110000101101000000011000101101010011001111010001000: 9.89%\n",
      "0001110001000111111101111010110000101101101010100011001100111110110111010111001111110111111010010111: 15.67%\n",
      "0000001110000111000111110001010000111000001001011010101101110110110100101110000101001010111001001111: 10.80%\n",
      "0010110011001010101111100001011011100000100100000001101010110000100101011001001100000010001010011101: 10.92%\n",
      "1011001111000110000111110011000001000111110100011010010001111111101001011100101111111110010001001010: 14.79%\n",
      "0010011001010010101100110100110101101110111101110110100000011000000111100100000001101000100011010010: 10.00%\n",
      "1101011111010111100111101100110010000000010011000101011110011001011111100100101100001001001100111000: 11.67%\n",
      "0001000001100100100101100110000000110101000101000101111111011101001011010010101111100111010000001010: 10.81%\n",
      "1100111100110001110111110110011011010000101111100001011101011101010101101000100100001010001111101100: 13.59%\n",
      "1110001100011110110111010010111110111100001010011110001001100001010011111000011001110100101101010011: 22.79%\n",
      "1101010001001111111010110000000110000100110001101001100011110110001001011111010000000101000101000011: 21.01%\n",
      "0100010010010100101100011010111000010100000101100111000111001000101110111010111100010000110001001001: 21.02%\n",
      "20\n"
     ]
    }
   ],
   "source": [
    "fitness = lab9_lib.make_problem(5)\n",
    "for n in range(20):\n",
    "    ind = choices([0, 1], k=100)\n",
    "    print(f\"{''.join(str(g) for g in ind)}: {fitness(ind):.2%}\")\n",
    "\n",
    "print(fitness.calls)"
   ]
  },
  {
   "cell_type": "markdown",
   "metadata": {},
   "source": [
    "Our code below"
   ]
  },
  {
   "cell_type": "code",
   "execution_count": 200,
   "metadata": {},
   "outputs": [],
   "source": [
    "POPULATION_SIZE = 500\n",
    "OFFSPRING_SIZE = 200\n",
    "LOCI = 1000\n",
    "BIT_FLIP_PROBABILITY = 0.15\n",
    "# SWAP_PROBABILITY = 150 * 1/LOCI\n",
    "SWAP_PROBABILITY = 0.5\n",
    "NUM_GENERATION = 20\n",
    "\n",
    "\n",
    "class Individual:\n",
    "    def __init__(self):\n",
    "        self.genotype = choices([0, 1], k=LOCI)\n",
    "        self.fitness = float(\"-inf\")"
   ]
  },
  {
   "cell_type": "code",
   "execution_count": 201,
   "metadata": {},
   "outputs": [],
   "source": [
    "# Mutation / recombination or both\n",
    "def parent_selection(\n",
    "    population: list[Individual], tournament_size: int\n",
    ") -> Individual:\n",
    "    # we also want to take the last best one.\n",
    "    parents_idx = np.random.choice(\n",
    "        range(len(population)), size=tournament_size, replace=False\n",
    "    )\n",
    "    parents = [population[idx] for idx in parents_idx]\n",
    "    return max(parents, key=lambda i: i.fitness)\n",
    "\n",
    "\n",
    "def uniform_cut_xover(ind1: Individual, ind2: Individual) -> Individual:\n",
    "    p1 = ind1.fitness / (ind1.fitness + ind2.fitness)\n",
    "    mask = np.random.choice([True, False], size=LOCI, p=[p1, 1 - p1])\n",
    "    gene = np.where(mask, ind1.genotype, ind2.genotype)\n",
    "    new_ind = Individual()\n",
    "    new_ind.genotype = gene.tolist()\n",
    "    return new_ind\n",
    "\n",
    "'''NOT USEFUL'''\n",
    "# def uniform_cut_xover_old(ind1: Individual, ind2: Individual) -> list[Individual]:\n",
    "#     ind1.genotype = np.array(ind1.genotype)\n",
    "#     ind2.genotype = np.array(ind2.genotype)\n",
    "#     swap_mask = np.random.rand(len(ind1.genotype)) < SWAP_PROBABILITY\n",
    "#     temp = np.copy(ind1.genotype[swap_mask])\n",
    "#     ind1.genotype[swap_mask] = ind2.genotype[swap_mask]\n",
    "#     ind2.genotype[swap_mask] = temp\n",
    "#     return [ind1, ind2]\n",
    "\n",
    "\n",
    "def mutate(parent: Individual) -> Individual:\n",
    "    new_offspring = deepcopy(parent)\n",
    "    for i in range(LOCI):\n",
    "        if random() < BIT_FLIP_PROBABILITY:\n",
    "            new_offspring.genotype[i] = int(not new_offspring.genotype[i])\n",
    "    return new_offspring\n",
    "\n",
    "\n",
    "def offspring_generation(\n",
    "    parent1: Individual, parent2: Individual, mutation_probability: int\n",
    ") -> Individual:\n",
    "    offspring = uniform_cut_xover(parent1, parent2)\n",
    "    offspring = mutate(offspring) if random() < random() < mutation_probability else offspring\n",
    "    offspring.fitness = fitness(offspring.genotype)\n",
    "    return offspring\n",
    "\n",
    "# TODO adattare la population size\n",
    "# TODO adattare mutation rate e tournament size.\n",
    "# TODO\n",
    "\n",
    "\n",
    "def ea() -> Individual:\n",
    "    fitness_list = [0]\n",
    "    # starting pouplation of POPULATION_SIZE individuals\n",
    "    population = [Individual() for _ in range(POPULATION_SIZE)]\n",
    "    for p in population:\n",
    "        p.fitness = fitness(p.genotype)\n",
    "    best_fitness = population[0].fitness\n",
    "    gen = 0\n",
    "    fitness_stall = 0 \n",
    "    mutation_probability = 0.2\n",
    "    tournament_size = 3\n",
    "    while fitness_stall < 100 or gen < NUM_GENERATION:\n",
    "        num_of_better_offspring = 0\n",
    "        for _ in range(OFFSPRING_SIZE):\n",
    "            parent1 = parent_selection(population, tournament_size)\n",
    "            parent2 = parent_selection(population, tournament_size)\n",
    "            offspring = offspring_generation(\n",
    "                parent1, parent2, mutation_probability\n",
    "            )\n",
    "            #population.extend([offspring]) if isinstance(offspring, Individual) else population.extend(offspring)            # tracking the number of offspring better than the best old one.\n",
    "            population.extend([offspring])\n",
    "\n",
    "        population.sort(key=lambda i: i.fitness, reverse=True)\n",
    "        # always keep the first POPULATION_SIZE best individuals\n",
    "        population = population[:POPULATION_SIZE]\n",
    "\n",
    "        #  Self-adapting the values.\n",
    "        # TODO favour mutation insted of recombination if the fitness it's not high (<0.65).\n",
    "        if fitness_stall > 5:\n",
    "            # If we are able to generate 5% of offsprings better than the father,\n",
    "            # We should explore more.\n",
    "            mutation_probability *= 1.3\n",
    "\n",
    "        if best_fitness == population[0].fitness:\n",
    "            fitness_stall += 1\n",
    "        else:\n",
    "            best_fitness = population[0].fitness\n",
    "            fitness_stall = 0\n",
    "            mutation_probability = 0.2\n",
    "\n",
    "        # fitness_list.append(best_fitness)\n",
    "        gen += 1\n",
    "\n",
    "        clear_output(wait=True)\n",
    "        print(\n",
    "            f\"gen #{gen}, fitness: {best_fitness}, score: {best_fitness/gen * 1000:.4f}\"\n",
    "        )\n",
    "\n",
    "    return population[0]"
   ]
  },
  {
   "cell_type": "code",
   "execution_count": 204,
   "metadata": {},
   "outputs": [
    {
     "name": "stdout",
     "output_type": "stream",
     "text": [
      "gen #126, fitness: 0.4143, score: 3.2881\n",
      "\n",
      "Best individual fitness: 0.4143, Fitness calls: 25700 -> Score2: 161.2062\n"
     ]
    }
   ],
   "source": [
    "# instance = [1, 2, 5, 10]\n",
    "instance = [10]\n",
    "for k in instance:\n",
    "    fitness = lab9_lib.make_problem(k)\n",
    "    best_fitness = ea().fitness\n",
    "    print(f\"\\nBest individual fitness: {best_fitness}, Fitness calls: {fitness.calls} -> Score2: {best_fitness/fitness.calls*10000000:.4f}\")"
   ]
  },
  {
   "cell_type": "markdown",
   "metadata": {},
   "source": [
    "## Island model"
   ]
  },
  {
   "cell_type": "code",
   "execution_count": null,
   "metadata": {},
   "outputs": [],
   "source": [
    "class Island:\n",
    "   def __init__(self, population_size, offspring_size, LOCI):\n",
    "      self.population_size = population_size\n",
    "      self.population = [Individual() for _ in range(population_size)]\n",
    "      self"
   ]
  },
  {
   "cell_type": "code",
   "execution_count": 203,
   "metadata": {},
   "outputs": [],
   "source": [
    "def initialize_populations(num_islands, population_size, chromosome_length):\n",
    "    populations = []\n",
    "    for _ in range(num_islands):\n",
    "        population = generate_random_population(population_size, chromosome_length)\n",
    "        populations.append(population)\n",
    "    return populations\n",
    "\n",
    "def evolve_island(population, num_generations, mutation_rate, crossover_rate):\n",
    "    for _ in range(num_generations):\n",
    "        parents = select_parents(population)\n",
    "        offspring = crossover(parents, crossover_rate)\n",
    "        offspring = mutate(offspring, mutation_rate)\n",
    "        evaluate_fitness(offspring)\n",
    "        population = select_survivors(population, offspring)\n",
    "    return population\n",
    "\n",
    "def exchange_individuals(populations, exchange_rate):\n",
    "    for i in range(len(populations)):\n",
    "        if random() < exchange_rate:\n",
    "            other_island = (i + 1) % len(populations)\n",
    "            individuals_to_exchange = select_individuals_to_exchange(populations[i])\n",
    "            populations[i].remove(individuals_to_exchange)\n",
    "            populations[other_island].add(individuals_to_exchange)\n",
    "\n",
    "def island_model(num_islands, population_size, chromosome_length, num_generations, mutation_rate, crossover_rate, exchange_rate):\n",
    "    populations = initialize_populations(num_islands, population_size, chromosome_length)\n",
    "\n",
    "    for _ in range(num_generations):\n",
    "        for i in range(num_islands):\n",
    "            populations[i] = evolve_island(populations[i], 1, mutation_rate, crossover_rate)\n",
    "\n",
    "        exchange_individuals(populations, exchange_rate)\n",
    "\n",
    "    return populations\n"
   ]
  }
 ],
 "metadata": {
  "kernelspec": {
   "display_name": "ci-fLJ3OwGs-py3.12",
   "language": "python",
   "name": "python3"
  },
  "language_info": {
   "codemirror_mode": {
    "name": "ipython",
    "version": 3
   },
   "file_extension": ".py",
   "mimetype": "text/x-python",
   "name": "python",
   "nbconvert_exporter": "python",
   "pygments_lexer": "ipython3",
   "version": "3.12.0"
  }
 },
 "nbformat": 4,
 "nbformat_minor": 2
}
