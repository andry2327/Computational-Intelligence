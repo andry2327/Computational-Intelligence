{
 "cells": [
  {
   "cell_type": "markdown",
   "metadata": {},
   "source": [
    "# Quixo"
   ]
  },
  {
   "cell_type": "code",
   "execution_count": 1,
   "metadata": {},
   "outputs": [],
   "source": [
    "from game import Game\n",
    "from train import GameTrainer\n",
    "from players import *\n",
    "from IPython.display import clear_output"
   ]
  },
  {
   "cell_type": "code",
   "execution_count": null,
   "metadata": {},
   "outputs": [],
   "source": [
    "import zipfile\n",
    "\n",
    "if \"policy.json\" not in os.listdir(os.path.join(\"Policies\")):\n",
    "    with zipfile.ZipFile(\n",
    "        os.path.join(\"Policies\", \"policy.json.zip\"), \"r\"\n",
    "    ) as zip_ref:\n",
    "        zip_ref.extractall(\"Policies\")"
   ]
  },
  {
   "cell_type": "markdown",
   "metadata": {},
   "source": [
    "## Results vs RandomPlayer"
   ]
  },
  {
   "cell_type": "code",
   "execution_count": 2,
   "metadata": {},
   "outputs": [
    {
     "name": "stdout",
     "output_type": "stream",
     "text": [
      "loading policy.json\n",
      "policy.json loaded\n",
      "                   0\n",
      "count  692246.000000\n",
      "mean        0.233185\n",
      "std         0.273087\n",
      "min         0.020000\n",
      "25%         0.040000\n",
      "50%         0.110000\n",
      "75%         0.310000\n",
      "max         0.900000\n"
     ]
    }
   ],
   "source": [
    "n_game = 50_000\n",
    "rl_player = RLayer(file_name=\"policy.json\")\n",
    "g = GameTrainer()\n",
    "rl_player.policy_stat()"
   ]
  },
  {
   "cell_type": "code",
   "execution_count": 3,
   "metadata": {},
   "outputs": [],
   "source": [
    "wins_as_first = 0\n",
    "for _ in range(n_game):\n",
    "    winner = g.play(rl_player, RandomPlayer())\n",
    "    if winner == 0:\n",
    "        wins_as_first += 1\n",
    "\n",
    "wins_as_second = 0\n",
    "for _ in range(n_game):\n",
    "    winner = g.play(RandomPlayer(), rl_player)\n",
    "    if winner == 1:\n",
    "        wins_as_second += 1\n",
    "\n",
    "clear_output(wait=True)"
   ]
  },
  {
   "cell_type": "code",
   "execution_count": 4,
   "metadata": {},
   "outputs": [
    {
     "name": "stdout",
     "output_type": "stream",
     "text": [
      "Wins as first: 90.6%\n",
      "Wins as second: 84.4%\n",
      "total percentage: 87.5%\n",
      "\n",
      "Average moves of rl_player: 23 moves/game\n"
     ]
    }
   ],
   "source": [
    "print(f\"Wins as first: {wins_as_first/n_game:.1%}\")\n",
    "print(f\"Wins as second: {wins_as_second/n_game:.1%}\")\n",
    "print(f\"total percentage: {(wins_as_first + wins_as_second)/(n_game*2):.1%}\")\n",
    "print(\n",
    "    f\"\\nAverage moves of rl_player: {rl_player.n_moves//(n_game*2)} moves/game\"\n",
    ")"
   ]
  },
  {
   "cell_type": "code",
   "execution_count": null,
   "metadata": {},
   "outputs": [],
   "source": [
    "if __name__ == \"__main__\":\n",
    "    g = Game()\n",
    "    player1 = HumanPlayer()\n",
    "    player2 = RLayer(file_name=\"policy.json\")\n",
    "    # player1 starts always first.\n",
    "    winner = g.play(player1, player2)\n",
    "    print(f\"Winner: Player {winner}\")"
   ]
  }
 ],
 "metadata": {
  "kernelspec": {
   "display_name": "base",
   "language": "python",
   "name": "python3"
  },
  "language_info": {
   "codemirror_mode": {
    "name": "ipython",
    "version": 3
   },
   "file_extension": ".py",
   "mimetype": "text/x-python",
   "name": "python",
   "nbconvert_exporter": "python",
   "pygments_lexer": "ipython3",
   "version": "3.12.0"
  }
 },
 "nbformat": 4,
 "nbformat_minor": 2
}
