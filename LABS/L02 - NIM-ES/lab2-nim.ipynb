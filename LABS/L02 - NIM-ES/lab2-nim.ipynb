{
 "cells": [
  {
   "cell_type": "markdown",
   "metadata": {
    "pycharm": {
     "name": "#%% md\n"
    }
   },
   "source": [
    "Copyright **`(c)`** 2022 Giovanni Squillero `<squillero@polito.it>`  \n",
    "[`https://github.com/squillero/computational-intelligence`](https://github.com/squillero/computational-intelligence)  \n",
    "Free for personal or classroom use; see [`LICENSE.md`](https://github.com/squillero/computational-intelligence/blob/master/LICENSE.md) for details.  \n"
   ]
  },
  {
   "cell_type": "markdown",
   "metadata": {
    "pycharm": {
     "name": "#%%\n"
    }
   },
   "source": [
    "# Lab 3: ES\n",
    "\n",
    "## Task\n",
    "\n",
    "Write agents able to play [*Nim*](https://en.wikipedia.org/wiki/Nim), with an arbitrary number of rows and an upper bound $k$ on the number of objects that can be removed in a turn (a.k.a., *subtraction game*).\n",
    "\n",
    "The goal of the game is to **avoid** taking the last object.\n",
    "\n",
    "* Task2.1: An agent using fixed rules based on *nim-sum* (i.e., an *expert system*)\n",
    "* Task2.2: An agent using evolved rules using ES\n",
    "\n",
    "## Instructions\n",
    "\n",
    "* Create the directory `lab2` inside your personal course repository for the course \n",
    "* Put a `README.md` and your solution (all the files, code and auxiliary data if needed)\n",
    "\n",
    "## Notes\n",
    "\n",
    "* Working in group is not only allowed, but recommended (see: [Ubuntu](https://en.wikipedia.org/wiki/Ubuntu_philosophy) and [Cooperative Learning](https://files.eric.ed.gov/fulltext/EJ1096789.pdf)). Collaborations must be explicitly declared in the `README.md`.\n",
    "* [Yanking](https://www.emacswiki.org/emacs/KillingAndYanking) from the internet is allowed, but sources must be explicitly declared in the `README.md`.\n",
    "\n"
   ]
  },
  {
   "cell_type": "code",
   "execution_count": 2,
   "metadata": {},
   "outputs": [],
   "source": [
    "import logging\n",
    "from pprint import pprint, pformat\n",
    "from collections import namedtuple\n",
    "import random\n",
    "import copy\n",
    "from copy import deepcopy"
   ]
  },
  {
   "cell_type": "markdown",
   "metadata": {},
   "source": [
    "## The *Nim* and *Nimply* classes"
   ]
  },
  {
   "cell_type": "code",
   "execution_count": 3,
   "metadata": {},
   "outputs": [],
   "source": [
    "Nimply = namedtuple(\"Nimply\", \"row, num_objects\")"
   ]
  },
  {
   "cell_type": "code",
   "execution_count": 4,
   "metadata": {},
   "outputs": [],
   "source": [
    "class Nim:\n",
    "    def __init__(self, num_rows: int, k: int = None) -> None:\n",
    "        self._rows = [i * 2 + 1 for i in range(num_rows)]\n",
    "        self._k = k\n",
    "\n",
    "    def __bool__(self):\n",
    "        return sum(self._rows) > 0\n",
    "\n",
    "    def __str__(self):\n",
    "        return \"<\" + \" \".join(str(_) for _ in self._rows) + \">\"\n",
    "\n",
    "    @property\n",
    "    def rows(self) -> tuple:\n",
    "        return tuple(self._rows)\n",
    "\n",
    "    def nimming(self, ply: Nimply) -> None:\n",
    "        row, num_objects = ply\n",
    "        assert self._rows[row] >= num_objects\n",
    "        assert self._k is None or num_objects <= self._k\n",
    "        self._rows[row] -= num_objects\n"
   ]
  },
  {
   "cell_type": "markdown",
   "metadata": {},
   "source": [
    "## Sample (and silly) startegies "
   ]
  },
  {
   "cell_type": "code",
   "execution_count": 5,
   "metadata": {},
   "outputs": [],
   "source": [
    "def pure_random(state: Nim) -> Nimply:\n",
    "    \"\"\"A completely random move\"\"\"\n",
    "    row = random.choice([r for r, c in enumerate(state.rows) if c > 0])\n",
    "    num_objects = random.randint(1, state.rows[row])\n",
    "    return Nimply(row, num_objects)"
   ]
  },
  {
   "cell_type": "code",
   "execution_count": 6,
   "metadata": {},
   "outputs": [],
   "source": [
    "def gabriele(state: Nim) -> Nimply:\n",
    "    \"\"\"Pick always the maximum possible number of the lowest row\"\"\"\n",
    "    possible_moves = [(r, o) for r, c in enumerate(state.rows) for o in range(1, c + 1)]\n",
    "    return Nimply(*max(possible_moves, key=lambda m: (-m[0], m[1])))\n"
   ]
  },
  {
   "cell_type": "code",
   "execution_count": 7,
   "metadata": {},
   "outputs": [],
   "source": [
    "def adaptive(state: Nim) -> Nimply:\n",
    "    \"\"\"A strategy that can adapt its parameters\"\"\"\n",
    "    genome = {\"love_small\": 0.5}\n"
   ]
  },
  {
   "cell_type": "code",
   "execution_count": 8,
   "metadata": {},
   "outputs": [],
   "source": [
    "import numpy as np\n",
    "\n",
    "# nim_sum: function often used in the mathematical analysis of the game to find winning strategies.\n",
    "# https://www.archimedes-lab.org/How_to_Solve/Win_at_Nim.html#:~:text=To%20win%20at%20Nim%2Dgame,error%20in%20order%20to%20win.\n",
    "def nim_sum(state: Nim) -> int:\n",
    "    # tmp: for each row, transform the number of object in that row to its binary form (width 32 bit), binary as a tuple of bits\n",
    "    tmp = np.array([tuple(int(x) for x in f\"{c:032b}\") for c in state.rows])\n",
    "    xor = tmp.sum(axis=0) % 2\n",
    "    return int(\"\".join(str(_) for _ in xor), base=2) # convert the string of bit in its integer form\n",
    "\n",
    "\n",
    "def analize(raw: Nim) -> dict:\n",
    "    cooked = dict()\n",
    "    cooked[\"possible_moves\"] = dict()\n",
    "    for ply in (Nimply(r, o) for r, c in enumerate(raw.rows) for o in range(1, c + 1)):\n",
    "        tmp = deepcopy(raw)\n",
    "        tmp.nimming(ply)\n",
    "        cooked[\"possible_moves\"][ply] = nim_sum(tmp)\n",
    "    return cooked\n",
    "\n",
    "\n",
    "def optimal(state: Nim) -> Nimply:\n",
    "    analysis = analize(state)\n",
    "    logging.debug(f\"analysis:\\n{pformat(analysis)}\")\n",
    "    spicy_moves = [ply for ply, ns in analysis[\"possible_moves\"].items() if ns != 0]\n",
    "    if not spicy_moves:\n",
    "        spicy_moves = list(analysis[\"possible_moves\"].keys())\n",
    "    ply = random.choice(spicy_moves)\n",
    "    return ply"
   ]
  },
  {
   "cell_type": "markdown",
   "metadata": {},
   "source": [
    "## Evolution strategies"
   ]
  },
  {
   "cell_type": "code",
   "execution_count": 12,
   "metadata": {},
   "outputs": [],
   "source": [
    "# poss_state = state + a move\n",
    "\n",
    "width = 8 # using sigma=1 -> normal range approx between -4 and 4 ...\n",
    "sigma_row = 1/width # ... now in range approx of [-1, 1], using /width we can scale the gaussian after \n",
    "sigma_num_objects = 1/width\n",
    "\n",
    "def fitness(poss_state: Nim) -> int:\n",
    "    return -nim_sum(poss_state)\n",
    "\n",
    "def tweak(state):\n",
    "    new_state = copy(state)\n",
    "    new_state[index] = not new_state[index]\n",
    "    return new_state\n",
    "\n",
    "def tweak2(state, row, num_objects):\n",
    "    n_rows = len(state.rows)    \n",
    "    row_es = -1\n",
    "    num_objects_es = -1\n",
    "    \n",
    "    while row_es not in range(len(state.rows)): # generate until row_es is a valid one\n",
    "        row_es = round(row + np.random.normal(loc=0, scale=sigma_row*n_rows)) # n_rows is like a scaling factor for sigma\n",
    "\n",
    "    while (num_objects_es<0) or (num_objects_es>state._k): # generate until num_objects_es is a valid one\n",
    "        num_objects_es = round(num_objects + np.random.normal(loc=0, scale=sigma_row*state.rows[row_es]))\n",
    "    \n",
    "    return row_es, num_objects_es"
   ]
  },
  {
   "cell_type": "markdown",
   "metadata": {},
   "source": [
    "### (1, 1) - ES"
   ]
  },
  {
   "cell_type": "code",
   "execution_count": 15,
   "metadata": {},
   "outputs": [],
   "source": [
    "# random moves + a (1,1) variation\n",
    "\n",
    "def es_1_1(state: Nim) -> Nimply:\n",
    "    # I tweak the state: if better fitness, return move, otherwise random move\n",
    "\n",
    "    '''Random move'''\n",
    "    row = random.choice([r for r, c in enumerate(state.rows) if c > 0])\n",
    "    num_objects = random.randint(1, state.rows[row])\n",
    "    poss_state = Nimply(row, num_objects)\n",
    "\n",
    "    '''Gaussian evolution strategy''' ''' -> DO TWEAK ON STATE''' # TO DEBUG\n",
    "    # generate new row with an es\n",
    "    row_es, num_objects_es = tweak2(state, row, num_objects)\n",
    "    poss_state_es = Nimply(row_es, num_objects_es)\n",
    "\n",
    "    # check fitness\n",
    "    if fitness(poss_state_es) > fitness(poss_state):\n",
    "        return poss_state_es\n",
    "    else:\n",
    "        return poss_state"
   ]
  },
  {
   "cell_type": "markdown",
   "metadata": {},
   "source": [
    "## Oversimplified match"
   ]
  },
  {
   "cell_type": "code",
   "execution_count": 16,
   "metadata": {},
   "outputs": [
    {
     "name": "stderr",
     "output_type": "stream",
     "text": [
      "INFO:root:init : <1 3 5 7 9>\n"
     ]
    },
    {
     "ename": "TypeError",
     "evalue": "'>' not supported between instances of 'int' and 'NoneType'",
     "output_type": "error",
     "traceback": [
      "\u001b[0;31m---------------------------------------------------------------------------\u001b[0m",
      "\u001b[0;31mTypeError\u001b[0m                                 Traceback (most recent call last)",
      "\u001b[1;32m/Users/andreapellegrino/Dropbox (Politecnico Di Torino Studenti)/PoliTo/Data Science and Engineering/II Year/Computational Intelligence/LABS/L02 - NIM-ES/lab2-nim.ipynb Cella 17\u001b[0m line \u001b[0;36m9\n\u001b[1;32m      <a href='vscode-notebook-cell:/Users/andreapellegrino/Dropbox%20%28Politecnico%20Di%20Torino%20Studenti%29/PoliTo/Data%20Science%20and%20Engineering/II%20Year/Computational%20Intelligence/LABS/L02%20-%20NIM-ES/lab2-nim.ipynb#X22sZmlsZQ%3D%3D?line=6'>7</a>\u001b[0m player \u001b[39m=\u001b[39m \u001b[39m0\u001b[39m\n\u001b[1;32m      <a href='vscode-notebook-cell:/Users/andreapellegrino/Dropbox%20%28Politecnico%20Di%20Torino%20Studenti%29/PoliTo/Data%20Science%20and%20Engineering/II%20Year/Computational%20Intelligence/LABS/L02%20-%20NIM-ES/lab2-nim.ipynb#X22sZmlsZQ%3D%3D?line=7'>8</a>\u001b[0m \u001b[39mwhile\u001b[39;00m nim:\n\u001b[0;32m----> <a href='vscode-notebook-cell:/Users/andreapellegrino/Dropbox%20%28Politecnico%20Di%20Torino%20Studenti%29/PoliTo/Data%20Science%20and%20Engineering/II%20Year/Computational%20Intelligence/LABS/L02%20-%20NIM-ES/lab2-nim.ipynb#X22sZmlsZQ%3D%3D?line=8'>9</a>\u001b[0m     ply \u001b[39m=\u001b[39m strategy[player](nim)\n\u001b[1;32m     <a href='vscode-notebook-cell:/Users/andreapellegrino/Dropbox%20%28Politecnico%20Di%20Torino%20Studenti%29/PoliTo/Data%20Science%20and%20Engineering/II%20Year/Computational%20Intelligence/LABS/L02%20-%20NIM-ES/lab2-nim.ipynb#X22sZmlsZQ%3D%3D?line=9'>10</a>\u001b[0m     logging\u001b[39m.\u001b[39minfo(\u001b[39mf\u001b[39m\u001b[39m\"\u001b[39m\u001b[39mply: player \u001b[39m\u001b[39m{\u001b[39;00mplayer\u001b[39m}\u001b[39;00m\u001b[39m plays \u001b[39m\u001b[39m{\u001b[39;00mply\u001b[39m}\u001b[39;00m\u001b[39m\"\u001b[39m)\n\u001b[1;32m     <a href='vscode-notebook-cell:/Users/andreapellegrino/Dropbox%20%28Politecnico%20Di%20Torino%20Studenti%29/PoliTo/Data%20Science%20and%20Engineering/II%20Year/Computational%20Intelligence/LABS/L02%20-%20NIM-ES/lab2-nim.ipynb#X22sZmlsZQ%3D%3D?line=10'>11</a>\u001b[0m     nim\u001b[39m.\u001b[39mnimming(ply)\n",
      "\u001b[1;32m/Users/andreapellegrino/Dropbox (Politecnico Di Torino Studenti)/PoliTo/Data Science and Engineering/II Year/Computational Intelligence/LABS/L02 - NIM-ES/lab2-nim.ipynb Cella 17\u001b[0m line \u001b[0;36m1\n\u001b[1;32m     <a href='vscode-notebook-cell:/Users/andreapellegrino/Dropbox%20%28Politecnico%20Di%20Torino%20Studenti%29/PoliTo/Data%20Science%20and%20Engineering/II%20Year/Computational%20Intelligence/LABS/L02%20-%20NIM-ES/lab2-nim.ipynb#X22sZmlsZQ%3D%3D?line=10'>11</a>\u001b[0m \u001b[39m\u001b[39m\u001b[39m'''Gaussian evolution strategy'''\u001b[39;00m \u001b[39m'''\u001b[39m\u001b[39m -> DO TWEAK ON STATE\u001b[39m\u001b[39m'''\u001b[39m\n\u001b[1;32m     <a href='vscode-notebook-cell:/Users/andreapellegrino/Dropbox%20%28Politecnico%20Di%20Torino%20Studenti%29/PoliTo/Data%20Science%20and%20Engineering/II%20Year/Computational%20Intelligence/LABS/L02%20-%20NIM-ES/lab2-nim.ipynb#X22sZmlsZQ%3D%3D?line=11'>12</a>\u001b[0m \u001b[39m# generate new row with an es\u001b[39;00m\n\u001b[0;32m---> <a href='vscode-notebook-cell:/Users/andreapellegrino/Dropbox%20%28Politecnico%20Di%20Torino%20Studenti%29/PoliTo/Data%20Science%20and%20Engineering/II%20Year/Computational%20Intelligence/LABS/L02%20-%20NIM-ES/lab2-nim.ipynb#X22sZmlsZQ%3D%3D?line=12'>13</a>\u001b[0m row_es, num_objects_es \u001b[39m=\u001b[39m tweak2(state, row, num_objects)\n\u001b[1;32m     <a href='vscode-notebook-cell:/Users/andreapellegrino/Dropbox%20%28Politecnico%20Di%20Torino%20Studenti%29/PoliTo/Data%20Science%20and%20Engineering/II%20Year/Computational%20Intelligence/LABS/L02%20-%20NIM-ES/lab2-nim.ipynb#X22sZmlsZQ%3D%3D?line=13'>14</a>\u001b[0m poss_state_es \u001b[39m=\u001b[39m Nimply(row_es, num_objects_es)\n\u001b[1;32m     <a href='vscode-notebook-cell:/Users/andreapellegrino/Dropbox%20%28Politecnico%20Di%20Torino%20Studenti%29/PoliTo/Data%20Science%20and%20Engineering/II%20Year/Computational%20Intelligence/LABS/L02%20-%20NIM-ES/lab2-nim.ipynb#X22sZmlsZQ%3D%3D?line=15'>16</a>\u001b[0m \u001b[39m# check fitness\u001b[39;00m\n",
      "\u001b[1;32m/Users/andreapellegrino/Dropbox (Politecnico Di Torino Studenti)/PoliTo/Data Science and Engineering/II Year/Computational Intelligence/LABS/L02 - NIM-ES/lab2-nim.ipynb Cella 17\u001b[0m line \u001b[0;36m2\n\u001b[1;32m     <a href='vscode-notebook-cell:/Users/andreapellegrino/Dropbox%20%28Politecnico%20Di%20Torino%20Studenti%29/PoliTo/Data%20Science%20and%20Engineering/II%20Year/Computational%20Intelligence/LABS/L02%20-%20NIM-ES/lab2-nim.ipynb#X22sZmlsZQ%3D%3D?line=19'>20</a>\u001b[0m \u001b[39mwhile\u001b[39;00m row_es \u001b[39mnot\u001b[39;00m \u001b[39min\u001b[39;00m \u001b[39mrange\u001b[39m(\u001b[39mlen\u001b[39m(state\u001b[39m.\u001b[39mrows)): \u001b[39m# generate until row_es is a valid one\u001b[39;00m\n\u001b[1;32m     <a href='vscode-notebook-cell:/Users/andreapellegrino/Dropbox%20%28Politecnico%20Di%20Torino%20Studenti%29/PoliTo/Data%20Science%20and%20Engineering/II%20Year/Computational%20Intelligence/LABS/L02%20-%20NIM-ES/lab2-nim.ipynb#X22sZmlsZQ%3D%3D?line=20'>21</a>\u001b[0m     row_es \u001b[39m=\u001b[39m \u001b[39mround\u001b[39m(row \u001b[39m+\u001b[39m np\u001b[39m.\u001b[39mrandom\u001b[39m.\u001b[39mnormal(loc\u001b[39m=\u001b[39m\u001b[39m0\u001b[39m, scale\u001b[39m=\u001b[39msigma_row\u001b[39m*\u001b[39mn_rows)) \u001b[39m# n_rows is like a scaling factor for sigma\u001b[39;00m\n\u001b[0;32m---> <a href='vscode-notebook-cell:/Users/andreapellegrino/Dropbox%20%28Politecnico%20Di%20Torino%20Studenti%29/PoliTo/Data%20Science%20and%20Engineering/II%20Year/Computational%20Intelligence/LABS/L02%20-%20NIM-ES/lab2-nim.ipynb#X22sZmlsZQ%3D%3D?line=22'>23</a>\u001b[0m \u001b[39mwhile\u001b[39;00m (num_objects_es\u001b[39m<\u001b[39m\u001b[39m0\u001b[39m) \u001b[39mor\u001b[39;00m (num_objects_es\u001b[39m>\u001b[39;49mstate\u001b[39m.\u001b[39;49m_k): \u001b[39m# generate until num_objects_es is a valid one\u001b[39;00m\n\u001b[1;32m     <a href='vscode-notebook-cell:/Users/andreapellegrino/Dropbox%20%28Politecnico%20Di%20Torino%20Studenti%29/PoliTo/Data%20Science%20and%20Engineering/II%20Year/Computational%20Intelligence/LABS/L02%20-%20NIM-ES/lab2-nim.ipynb#X22sZmlsZQ%3D%3D?line=23'>24</a>\u001b[0m     num_objects_es \u001b[39m=\u001b[39m \u001b[39mround\u001b[39m(num_objects \u001b[39m+\u001b[39m np\u001b[39m.\u001b[39mrandom\u001b[39m.\u001b[39mnormal(loc\u001b[39m=\u001b[39m\u001b[39m0\u001b[39m, scale\u001b[39m=\u001b[39msigma_row\u001b[39m*\u001b[39mstate\u001b[39m.\u001b[39mrows[row_es]))\n\u001b[1;32m     <a href='vscode-notebook-cell:/Users/andreapellegrino/Dropbox%20%28Politecnico%20Di%20Torino%20Studenti%29/PoliTo/Data%20Science%20and%20Engineering/II%20Year/Computational%20Intelligence/LABS/L02%20-%20NIM-ES/lab2-nim.ipynb#X22sZmlsZQ%3D%3D?line=25'>26</a>\u001b[0m \u001b[39mreturn\u001b[39;00m row_es, num_objects_es\n",
      "\u001b[0;31mTypeError\u001b[0m: '>' not supported between instances of 'int' and 'NoneType'"
     ]
    }
   ],
   "source": [
    "logging.getLogger().setLevel(logging.INFO)\n",
    "\n",
    "strategy = (es_1_1, gabriele)\n",
    "\n",
    "nim = Nim(5)\n",
    "logging.info(f\"init : {nim}\")\n",
    "player = 0\n",
    "while nim:\n",
    "    ply = strategy[player](nim)\n",
    "    logging.info(f\"ply: player {player} plays {ply}\")\n",
    "    nim.nimming(ply)\n",
    "    logging.info(f\"status: {nim}\")\n",
    "    player = 1 - player\n",
    "logging.info(f\"status: Player {player} won!\")"
   ]
  },
  {
   "cell_type": "code",
   "execution_count": null,
   "metadata": {},
   "outputs": [],
   "source": []
  },
  {
   "cell_type": "code",
   "execution_count": null,
   "metadata": {},
   "outputs": [],
   "source": []
  },
  {
   "cell_type": "code",
   "execution_count": null,
   "metadata": {},
   "outputs": [],
   "source": []
  }
 ],
 "metadata": {
  "kernelspec": {
   "display_name": "Python 3.10.7 ('ci22-dPIXJ0_o-py3.10')",
   "language": "python",
   "name": "python3"
  },
  "language_info": {
   "codemirror_mode": {
    "name": "ipython",
    "version": 3
   },
   "file_extension": ".py",
   "mimetype": "text/x-python",
   "name": "python",
   "nbconvert_exporter": "python",
   "pygments_lexer": "ipython3",
   "version": "3.12.0"
  },
  "vscode": {
   "interpreter": {
    "hash": "10197e8e2f2aa67e2c349105091c77f4cd384fce4877865f002d9ec653f96bc0"
   }
  }
 },
 "nbformat": 4,
 "nbformat_minor": 2
}
