{
 "cells": [
  {
   "cell_type": "markdown",
   "metadata": {
    "pycharm": {
     "name": "#%% md\n"
    }
   },
   "source": [
    "Copyright **`(c)`** 2022 Giovanni Squillero `<squillero@polito.it>`  \n",
    "[`https://github.com/squillero/computational-intelligence`](https://github.com/squillero/computational-intelligence)  \n",
    "Free for personal or classroom use; see [`LICENSE.md`](https://github.com/squillero/computational-intelligence/blob/master/LICENSE.md) for details.  \n"
   ]
  },
  {
   "cell_type": "markdown",
   "metadata": {
    "pycharm": {
     "name": "#%%\n"
    }
   },
   "source": [
    "# Lab 3: ES\n",
    "\n",
    "## Task\n",
    "\n",
    "Write agents able to play [*Nim*](https://en.wikipedia.org/wiki/Nim), with an arbitrary number of rows and an upper bound $k$ on the number of objects that can be removed in a turn (a.k.a., *subtraction game*).\n",
    "\n",
    "The goal of the game is to **avoid** taking the last object.\n",
    "\n",
    "* Task2.1: An agent using fixed rules based on *nim-sum* (i.e., an *expert system*)\n",
    "* Task2.2: An agent using evolved rules using ES\n",
    "\n",
    "## Instructions\n",
    "\n",
    "* Create the directory `lab2` inside your personal course repository for the course \n",
    "* Put a `README.md` and your solution (all the files, code and auxiliary data if needed)\n",
    "\n",
    "## Notes\n",
    "\n",
    "* Working in group is not only allowed, but recommended (see: [Ubuntu](https://en.wikipedia.org/wiki/Ubuntu_philosophy) and [Cooperative Learning](https://files.eric.ed.gov/fulltext/EJ1096789.pdf)). Collaborations must be explicitly declared in the `README.md`.\n",
    "* [Yanking](https://www.emacswiki.org/emacs/KillingAndYanking) from the internet is allowed, but sources must be explicitly declared in the `README.md`.\n",
    "\n"
   ]
  },
  {
   "cell_type": "code",
   "execution_count": 28,
   "metadata": {},
   "outputs": [],
   "source": [
    "import logging\n",
    "from pprint import pprint, pformat\n",
    "from collections import namedtuple\n",
    "import random\n",
    "import numpy as np\n",
    "from numpy.random import normal\n",
    "from collections import defaultdict\n",
    "from copy import deepcopy\n",
    "import matplotlib.pyplot as plt"
   ]
  },
  {
   "cell_type": "markdown",
   "metadata": {},
   "source": [
    "## The *Nim* and *Nimply* classes"
   ]
  },
  {
   "cell_type": "code",
   "execution_count": 29,
   "metadata": {},
   "outputs": [],
   "source": [
    "Nimply = namedtuple(\"Nimply\", \"row, num_objects\")"
   ]
  },
  {
   "cell_type": "code",
   "execution_count": 30,
   "metadata": {},
   "outputs": [],
   "source": [
    "class Nim:\n",
    "    def __init__(self, num_rows: int, k: int = None) -> None:\n",
    "        self._rows = [i * 2 + 1 for i in range(num_rows)]\n",
    "        self._k = k\n",
    "\n",
    "    def __bool__(self):\n",
    "        return sum(self._rows) > 0\n",
    "\n",
    "    def __str__(self):\n",
    "        return \"<\" + \" \".join(str(_) for _ in self._rows) + \">\"\n",
    "\n",
    "    @property\n",
    "    def rows(self) -> tuple:\n",
    "        return tuple(self._rows)\n",
    "\n",
    "    def nimming(self, ply: Nimply) -> None:\n",
    "        row, num_objects = ply\n",
    "        assert self._rows[row] >= num_objects\n",
    "        assert self._k is None or num_objects <= self._k\n",
    "        self._rows[row] -= num_objects"
   ]
  },
  {
   "cell_type": "markdown",
   "metadata": {},
   "source": [
    "## Sample (and silly) startegies "
   ]
  },
  {
   "cell_type": "code",
   "execution_count": 31,
   "metadata": {},
   "outputs": [],
   "source": [
    "def pure_random(state: Nim) -> Nimply:\n",
    "    \"\"\"A completely random move\"\"\"\n",
    "    row = random.choice([r for r, c in enumerate(state.rows) if c > 0])\n",
    "    num_objects = (\n",
    "        random.randint(1, min(state.rows[row], state._k))\n",
    "        if state._k\n",
    "        else random.randint(1, state.rows[row])\n",
    "    )\n",
    "    return Nimply(row, num_objects)"
   ]
  },
  {
   "cell_type": "code",
   "execution_count": 32,
   "metadata": {},
   "outputs": [],
   "source": [
    "# 2.1 agent in slides\n",
    "def gabriele(state: Nim) -> Nimply:\n",
    "    \"\"\"Pick always the maximum possible number of the lowest row\"\"\"\n",
    "    possible_moves = [\n",
    "        (r, o) for r, c in enumerate(state.rows) for o in range(1, c + 1)\n",
    "    ]\n",
    "    return Nimply(*max(possible_moves, key=lambda m: (-m[0], m[1])))"
   ]
  },
  {
   "cell_type": "code",
   "execution_count": 33,
   "metadata": {},
   "outputs": [],
   "source": [
    "def adaptive(state: Nim) -> Nimply:\n",
    "    \"\"\"A strategy that can adapt its parameters\"\"\"\n",
    "    genome = {\"love_small\": 0.5}"
   ]
  },
  {
   "cell_type": "code",
   "execution_count": 34,
   "metadata": {},
   "outputs": [],
   "source": [
    "import numpy as np\n",
    "\n",
    "\n",
    "# nim_sum: function often used in the mathematical analysis of the game to find winning strategies.\n",
    "# https://www.archimedes-lab.org/How_to_Solve/Win_at_Nim.html#:~:text=To%20win%20at%20Nim%2Dgame,error%20in%20order%20to%20win.\n",
    "def nim_sum(state: Nim) -> int:\n",
    "    # tmp: for each row, transform the number of object in that row to its binary form (width 32 bit), binary as a tuple of bits\n",
    "    tmp = np.array([tuple(int(x) for x in f\"{c:032b}\") for c in state.rows])\n",
    "    xor = tmp.sum(axis=0) % 2\n",
    "    return int(\n",
    "        \"\".join(str(_) for _ in xor), base=2\n",
    "    )  # convert the string of bit in its integer form\n",
    "\n",
    "\n",
    "def analize(raw: Nim) -> dict:\n",
    "    cooked = dict()\n",
    "    cooked[\"possible_moves\"] = dict()\n",
    "    for ply in (\n",
    "        Nimply(r, o) for r, c in enumerate(raw.rows) for o in range(1, c + 1)\n",
    "    ):\n",
    "        tmp = deepcopy(raw)\n",
    "        tmp.nimming(ply)\n",
    "        cooked[\"possible_moves\"][ply] = nim_sum(tmp)\n",
    "    return cooked\n",
    "\n",
    "\n",
    "def optimal(state: Nim) -> Nimply:\n",
    "    analysis = analize(state)\n",
    "    logging.debug(f\"analysis:\\n{pformat(analysis)}\")\n",
    "    spicy_moves = [\n",
    "        ply for ply, ns in analysis[\"possible_moves\"].items() if ns != 0\n",
    "    ]\n",
    "    if not spicy_moves:\n",
    "        spicy_moves = list(analysis[\"possible_moves\"].keys())\n",
    "    ply = random.choice(spicy_moves)\n",
    "    # ply = max(spicy_moves, key=lambda m: m[1])\n",
    "    return ply"
   ]
  },
  {
   "cell_type": "markdown",
   "metadata": {},
   "source": [
    "## Evolution strategies"
   ]
  },
  {
   "cell_type": "code",
   "execution_count": 35,
   "metadata": {},
   "outputs": [],
   "source": [
    "λ = 20\n",
    "C = 2\n",
    "C_sigma = 1\n",
    "σ = 0.001"
   ]
  },
  {
   "cell_type": "code",
   "execution_count": 36,
   "metadata": {},
   "outputs": [],
   "source": [
    "def check_valid_state(state: Nim, ply: Nimply) -> bool:\n",
    "    # check 0 < num obj <= k\n",
    "    if ply.num_objects <= 0 or ply.num_objects > state._k:\n",
    "        return False\n",
    "    return True"
   ]
  },
  {
   "cell_type": "code",
   "execution_count": 37,
   "metadata": {},
   "outputs": [],
   "source": [
    "def fitness(poss_state: Nim) -> int:\n",
    "    return nim_sum(poss_state)"
   ]
  },
  {
   "cell_type": "markdown",
   "metadata": {},
   "source": [
    "### 2.2 Evolved agent"
   ]
  },
  {
   "cell_type": "code",
   "execution_count": 38,
   "metadata": {},
   "outputs": [],
   "source": [
    "# tweak create 1 tweak only\n",
    "def tweak(item: list, c_sigma) -> list:\n",
    "    starting_move = item / 2  # for now we will take the real num.\n",
    "    # offspring = round(normal(loc=starting_move, scale=C_sigma * starting_move))\n",
    "    offspring = round(normal(loc=starting_move, scale=c_sigma * starting_move))\n",
    "    # offsprings = round(normal(loc=starting_move, scale=C_sigma*starting_move, size=(C*item)))\n",
    "    return offspring\n",
    "\n",
    "\n",
    "def es(state: Nim, c_sigma=1) -> (Nimply, int):\n",
    "    cooked = dict()\n",
    "    created_off = 0\n",
    "    # generate lambda new states, porportional to number of object in row\n",
    "    for idx_row, row in enumerate(state.rows):\n",
    "        # do C*row tweaks on this row\n",
    "        n_tweaks = C * row\n",
    "        created_off += n_tweaks\n",
    "        for _ in range(n_tweaks):\n",
    "            n_obj_offspring = tweak(row, c_sigma)\n",
    "            tmp = deepcopy(state)\n",
    "            ply = Nimply(idx_row, n_obj_offspring)\n",
    "            try:\n",
    "                tmp.nimming(\n",
    "                    ply\n",
    "                )  # nimming already checks if currecnt move (ply) and current state are valid\n",
    "                if ply.num_objects > 0 and ply not in cooked.keys():\n",
    "                    cooked[ply] = fitness(tmp)\n",
    "            except:\n",
    "                pass\n",
    "\n",
    "    # select best choice in cooked[ply].\n",
    "    if cooked:\n",
    "        best_ply, best_fitness = max(cooked.items(), key=lambda t: t[1])\n",
    "        # conto il numero di soluzioni \"buone\" trovate, se sono meno del 20% allora abbasso il sigma.\n",
    "        # abbasso il sigma perchè alzandolo ci sono più probabilità di creare soluzioni fuori range.\n",
    "        nim_diff_from_0 = 0\n",
    "        for it in cooked.items():\n",
    "            if it[1] != 0:\n",
    "                nim_diff_from_0 += 1\n",
    "        if nim_diff_from_0 / created_off <= 0.2:\n",
    "            c_sigma /= 1.1\n",
    "        else:\n",
    "            c_sigma *= 1.1\n",
    "    else:  # if no cooked move, then try again!\n",
    "        # possible infinite loop\n",
    "        # best_ply = es(state, c_sigma / 1.1)\n",
    "        best_ply = pure_random(state)\n",
    "        c_sigma /= 1.1\n",
    "\n",
    "    return (best_ply, c_sigma)"
   ]
  },
  {
   "cell_type": "markdown",
   "metadata": {},
   "source": [
    "2.2.1 Professor agent"
   ]
  },
  {
   "cell_type": "code",
   "execution_count": 39,
   "metadata": {},
   "outputs": [],
   "source": [
    "def es2(state: Nim) -> Nimply:\n",
    "    # test a bunch of random moves and take the best performing ones.\n",
    "    first_moves = defaultdict(int)\n",
    "    for _ in range(500):\n",
    "        # let's make 500 games.\n",
    "        nim = deepcopy(state)\n",
    "        strategy = (pure_random, pure_random)\n",
    "        # player is 0 because we are the one that moves.\n",
    "        player = 0\n",
    "        is_first = True\n",
    "        while nim:\n",
    "            ply = strategy[player](nim)\n",
    "            if is_first:\n",
    "                first_move = ply\n",
    "                is_first = False\n",
    "            nim.nimming(ply)\n",
    "            player = 1 - player\n",
    "        # add 1 to the first move value if we won with that move, 0 else\n",
    "        first_moves[first_move] += 1 if player == 0 else 0\n",
    "\n",
    "    best_move, n_wins = max(first_moves.items(), key=lambda i: i[1])\n",
    "    return best_move"
   ]
  },
  {
   "cell_type": "code",
   "execution_count": 40,
   "metadata": {},
   "outputs": [],
   "source": [
    "# '''# poss_state = state + a move\n",
    "\n",
    "# ''' questo non serve '''\n",
    "# width = 8 # using sigma=1 -> normal range approx between -4 and 4 ...\n",
    "# sigma_row = 1/width # ... now in range approx of [-1, 1], using /width we can scale the gaussian after\n",
    "# sigma_num_objects = 1/width\n",
    "\n",
    "# def tweak(state: Nim) -> Nim:\n",
    "#     new_state = copy(state)\n",
    "#     new_state[index] = not new_state[index]\n",
    "#     return new_state\n",
    "\n",
    "# ''' questa non serve '''\n",
    "# def tweak2(state, row, num_objects):\n",
    "#     n_rows = len(state.rows)\n",
    "#     row_es = -1\n",
    "#     num_objects_es = -1\n",
    "\n",
    "#     while row_es not in range(len(state.rows)): # generate until row_es is a valid one\n",
    "#         row_es = round(row + np.random.normal(loc=0, scale=sigma_row*n_rows)) # n_rows is like a scaling factor for sigma\n",
    "\n",
    "#     while (num_objects_es<0) or (num_objects_es>state._k): # generate until num_objects_es is a valid one\n",
    "#         num_objects_es = round(num_objects + np.random.normal(loc=0, scale=sigma_row*state.rows[row_es]))\n",
    "\n",
    "#     return row_es, num_objects_es'''"
   ]
  },
  {
   "cell_type": "markdown",
   "metadata": {},
   "source": [
    "### (1, 1) - ES _(discarded)_\n"
   ]
  },
  {
   "cell_type": "code",
   "execution_count": 41,
   "metadata": {},
   "outputs": [],
   "source": [
    "# '''# random moves + a (1,1) variation\n",
    "\n",
    "# def es_1_1(state: Nim) -> Nimply:\n",
    "#     # I tweak the state: if better fitness, return move, otherwise random move\n",
    "\n",
    "#     '''Random move'''\n",
    "#     row = random.choice([r for r, c in enumerate(state.rows) if c > 0])\n",
    "#     num_objects = random.randint(1, state.rows[row])\n",
    "#     poss_state = Nimply(row, num_objects)\n",
    "\n",
    "#     '''Gaussian evolution strategy''' ''' -> DO TWEAK ON STATE''' # TO DEBUG\n",
    "#     # generate new row with an es\n",
    "#     row_es, num_objects_es = tweak2(state, row, num_objects)\n",
    "#     poss_state_es = Nimply(row_es, num_objects_es)\n",
    "\n",
    "#     # check fitness\n",
    "#     if fitness(poss_state_es) > fitness(poss_state):\n",
    "#         return poss_state_es\n",
    "#     else:\n",
    "#         return poss_state'''"
   ]
  },
  {
   "cell_type": "markdown",
   "metadata": {},
   "source": []
  },
  {
   "cell_type": "markdown",
   "metadata": {},
   "source": [
    "## Oversimplified match"
   ]
  },
  {
   "cell_type": "code",
   "execution_count": 50,
   "metadata": {},
   "outputs": [
    {
     "name": "stdout",
     "output_type": "stream",
     "text": [
      "72% of wins\n"
     ]
    }
   ],
   "source": [
    "logging.getLogger().setLevel(logging.INFO)\n",
    "\n",
    "strategy = (es2, optimal)\n",
    "GAMES = 500\n",
    "wins_0 = 0 # wins of player 0\n",
    "wins_1 = 0 # wins of player 1\n",
    "\n",
    "# useful for plotting only\n",
    "wins_over_games_list = [] # for each game [(win_0, win_1), (win_0, win_1), ...]\n",
    "\n",
    "for _ in range(GAMES):\n",
    "    nim = Nim(5)\n",
    "    # logging.info(f\"init : {nim}\")\n",
    "    player = 1\n",
    "    c_sigma = 0.9\n",
    "    while nim:\n",
    "        # if player == 0:\n",
    "        #     ply, c_sigma = strategy[player](nim, c_sigma)\n",
    "        # else:\n",
    "        ply = strategy[player](nim)\n",
    "        # logging.info(f\"ply: player {player} plays {ply}\")\n",
    "        nim.nimming(ply)\n",
    "        # logging.info(f\"status: {nim}\")\n",
    "        player = 1 - player\n",
    "    # logging.info(f\"status: Player {player} won!\")\n",
    "    if player == 0:\n",
    "        wins_0 += 1\n",
    "    else:\n",
    "        wins_1 += 1\n",
    "    # update stats for plot\n",
    "    wins_over_games_list.append((wins_0, wins_1))\n",
    "\n",
    "print(f\"{int(wins_0/GAMES *100)}% of wins\")"
   ]
  },
  {
   "cell_type": "code",
   "execution_count": 53,
   "metadata": {},
   "outputs": [
    {
     "data": {
      "text/plain": [
       "Text(0, 0.5, '% Wins')"
      ]
     },
     "execution_count": 53,
     "metadata": {},
     "output_type": "execute_result"
    },
    {
     "data": {
      "image/png": "[encoded data removed]",
      "text/plain": [
       "<Figure size 640x480 with 1 Axes>"
      ]
     },
     "metadata": {},
     "output_type": "display_data"
    }
   ],
   "source": [
    "# PLOT\n",
    "games_list = range(1, GAMES+1)\n",
    "wins_0_over_games_list = np.array([x[0] for x in wins_over_games_list])/np.array(games_list)*100\n",
    "wins_1_over_games_list = np.array([x[1] for x in wins_over_games_list])/np.array(games_list)*100\n",
    "\n",
    "plt.stackplot(\n",
    "    games_list, \n",
    "    wins_0_over_games_list, wins_1_over_games_list, \n",
    "    colors=['b', 'r'], \n",
    "    labels=[f'Player 0 [{strategy[0].__name__}]', f'Player 1 [{strategy[1].__name__}]']\n",
    "    )\n",
    "plt.legend()\n",
    "plt.xlabel('Game')\n",
    "plt.ylabel('% Wins')"
   ]
  }
 ],
 "metadata": {
  "kernelspec": {
   "display_name": "Python 3.10.7 ('ci22-dPIXJ0_o-py3.10')",
   "language": "python",
   "name": "python3"
  },
  "language_info": {
   "codemirror_mode": {
    "name": "ipython",
    "version": 3
   },
   "file_extension": ".py",
   "mimetype": "text/x-python",
   "name": "python",
   "nbconvert_exporter": "python",
   "pygments_lexer": "ipython3",
   "version": "3.12.0"
  },
  "vscode": {
   "interpreter": {
    "hash": "10197e8e2f2aa67e2c349105091c77f4cd384fce4877865f002d9ec653f96bc0"
   }
  }
 },
 "nbformat": 4,
 "nbformat_minor": 2
}
