{
 "cells": [
  {
   "cell_type": "markdown",
   "metadata": {
    "pycharm": {
     "name": "#%% md\n"
    }
   },
   "source": [
    "Copyright **`(c)`** 2022 Giovanni Squillero `<squillero@polito.it>`  \n",
    "[`https://github.com/squillero/computational-intelligence`](https://github.com/squillero/computational-intelligence)  \n",
    "Free for personal or classroom use; see [`LICENSE.md`](https://github.com/squillero/computational-intelligence/blob/master/LICENSE.md) for details.  \n"
   ]
  },
  {
   "cell_type": "markdown",
   "metadata": {
    "pycharm": {
     "name": "#%%\n"
    }
   },
   "source": [
    "# Lab 3: ES\n",
    "\n",
    "## Task\n",
    "\n",
    "Write agents able to play [*Nim*](https://en.wikipedia.org/wiki/Nim), with an arbitrary number of rows and an upper bound $k$ on the number of objects that can be removed in a turn (a.k.a., *subtraction game*).\n",
    "\n",
    "The goal of the game is to **avoid** taking the last object.\n",
    "\n",
    "* Task2.1: An agent using fixed rules based on *nim-sum* (i.e., an *expert system*)\n",
    "* Task2.2: An agent using evolved rules using ES\n",
    "\n",
    "## Instructions\n",
    "\n",
    "* Create the directory `lab2` inside your personal course repository for the course \n",
    "* Put a `README.md` and your solution (all the files, code and auxiliary data if needed)\n",
    "\n",
    "## Notes\n",
    "\n",
    "* Working in group is not only allowed, but recommended (see: [Ubuntu](https://en.wikipedia.org/wiki/Ubuntu_philosophy) and [Cooperative Learning](https://files.eric.ed.gov/fulltext/EJ1096789.pdf)). Collaborations must be explicitly declared in the `README.md`.\n",
    "* [Yanking](https://www.emacswiki.org/emacs/KillingAndYanking) from the internet is allowed, but sources must be explicitly declared in the `README.md`.\n",
    "\n"
   ]
  },
  {
   "cell_type": "code",
   "execution_count": 1,
   "metadata": {},
   "outputs": [],
   "source": [
    "import logging\n",
    "from pprint import pprint, pformat\n",
    "from collections import namedtuple\n",
    "import random\n",
    "import numpy as np\n",
    "from numpy.random import normal\n",
    "from collections import defaultdict\n",
    "from copy import deepcopy\n",
    "import matplotlib.pyplot as plt\n",
    "from tqdm import tqdm"
   ]
  },
  {
   "cell_type": "markdown",
   "metadata": {},
   "source": [
    "## The *Nim* and *Nimply* classes"
   ]
  },
  {
   "cell_type": "code",
   "execution_count": 2,
   "metadata": {},
   "outputs": [],
   "source": [
    "Nimply = namedtuple(\"Nimply\", \"row, num_objects\")"
   ]
  },
  {
   "cell_type": "code",
   "execution_count": 3,
   "metadata": {},
   "outputs": [],
   "source": [
    "class Nim:\n",
    "    def __init__(self, num_rows: int, k: int = None) -> None:\n",
    "        self._rows = [i * 2 + 1 for i in range(num_rows)]\n",
    "        self._k = k\n",
    "\n",
    "    def __bool__(self):\n",
    "        return sum(self._rows) > 0\n",
    "\n",
    "    def __str__(self):\n",
    "        return \"<\" + \" \".join(str(_) for _ in self._rows) + \">\"\n",
    "\n",
    "    @property\n",
    "    def rows(self) -> tuple:\n",
    "        return tuple(self._rows)\n",
    "\n",
    "    def nimming(self, ply: Nimply) -> None:\n",
    "        row, num_objects = ply\n",
    "        assert self._rows[row] >= num_objects\n",
    "        assert self._k is None or num_objects <= self._k\n",
    "        self._rows[row] -= num_objects"
   ]
  },
  {
   "cell_type": "markdown",
   "metadata": {},
   "source": [
    "## Sample (and silly) startegies "
   ]
  },
  {
   "cell_type": "code",
   "execution_count": 4,
   "metadata": {},
   "outputs": [],
   "source": [
    "# Given the current state, this function returns all the possible moves.\n",
    "def all_possible_moves(state: Nim) -> list:\n",
    "    all_moves = []\n",
    "    for row in [r for r, c in enumerate(state.rows) if c > 0]:\n",
    "        upper_bound_for = (\n",
    "            min(state.rows[row], state._k) + 1\n",
    "            if state._k\n",
    "            else state.rows[row] + 1\n",
    "        )\n",
    "        for obj_to_take in range(1, upper_bound_for):\n",
    "            all_moves.append(Nimply(row, obj_to_take))\n",
    "    return all_moves"
   ]
  },
  {
   "cell_type": "code",
   "execution_count": 5,
   "metadata": {},
   "outputs": [],
   "source": [
    "def pure_random(state: Nim) -> Nimply:\n",
    "    \"\"\"A completely random move\"\"\"\n",
    "    return random.choice(all_possible_moves(state))"
   ]
  },
  {
   "cell_type": "code",
   "execution_count": 6,
   "metadata": {},
   "outputs": [],
   "source": [
    "# 2.1 agent in slides\n",
    "def gabriele(state: Nim) -> Nimply:\n",
    "    \"\"\"Pick always the maximum possible number of the lowest row\"\"\"\n",
    "    possible_moves = [\n",
    "        (r, o)\n",
    "        for r, c in enumerate(state.rows)\n",
    "        for o in range(1, min(c, state._k) + 1 if state._k else c + 1)\n",
    "    ]\n",
    "    return Nimply(*max(possible_moves, key=lambda m: (-m[0], m[1])))"
   ]
  },
  {
   "cell_type": "code",
   "execution_count": 7,
   "metadata": {},
   "outputs": [],
   "source": [
    "# nim_sum: function often used in the mathematical analysis of the game to find winning strategies.\n",
    "# https://www.archimedes-lab.org/How_to_Solve/Win_at_Nim.html#:~:text=To%20win%20at%20Nim%2Dgame,error%20in%20order%20to%20win.\n",
    "def nim_sum(state: Nim) -> int:\n",
    "    # tmp: for each row, transform the number of object in that row to its binary form (width 32 bit), binary as a tuple of bits\n",
    "    tmp = np.array([tuple(int(x) for x in f\"{c:032b}\") for c in state.rows])\n",
    "    xor = tmp.sum(axis=0) % 2\n",
    "    return int(\n",
    "        \"\".join(str(_) for _ in xor), base=2\n",
    "    )  # convert the string of bit in its integer form\n",
    "\n",
    "\n",
    "def analize(raw: Nim) -> dict:\n",
    "    cooked = dict()\n",
    "    cooked[\"possible_moves\"] = dict()\n",
    "    for ply in (\n",
    "        Nimply(r, o) for r, c in enumerate(raw.rows) for o in range(1, c + 1)\n",
    "    ):\n",
    "        tmp = deepcopy(raw)\n",
    "        tmp.nimming(ply)\n",
    "        cooked[\"possible_moves\"][ply] = nim_sum(tmp)\n",
    "    return cooked\n",
    "\n",
    "\n",
    "def optimal(state: Nim) -> Nimply:\n",
    "    analysis = analize(state)\n",
    "    logging.debug(f\"analysis:\\n{pformat(analysis)}\")\n",
    "    spicy_moves = [\n",
    "        ply for ply, ns in analysis[\"possible_moves\"].items() if ns != 0\n",
    "    ]\n",
    "    if not spicy_moves:\n",
    "        spicy_moves = list(analysis[\"possible_moves\"].keys())\n",
    "    ply = random.choice(spicy_moves)\n",
    "    return ply"
   ]
  },
  {
   "cell_type": "markdown",
   "metadata": {},
   "source": [
    "## Functions needed to play and plot"
   ]
  },
  {
   "cell_type": "code",
   "execution_count": 8,
   "metadata": {},
   "outputs": [],
   "source": [
    "def plot(\n",
    "    wins_over_games_list: list, n_games, player0: callable, player1: callable\n",
    "):\n",
    "    # PLOT\n",
    "    games_list = range(1, n_games + 1)\n",
    "    wins_0_over_games_list = (\n",
    "        np.array([x[0] for x in wins_over_games_list])\n",
    "        / np.array(games_list)\n",
    "        * 100\n",
    "    )\n",
    "    wins_1_over_games_list = (\n",
    "        np.array([x[1] for x in wins_over_games_list])\n",
    "        / np.array(games_list)\n",
    "        * 100\n",
    "    )\n",
    "\n",
    "    plt.stackplot(\n",
    "        games_list,\n",
    "        wins_0_over_games_list,\n",
    "        wins_1_over_games_list,\n",
    "        colors=[\"b\", \"r\"],\n",
    "        labels=[\n",
    "            f\"Player 0 [{player0.__name__}]\",\n",
    "            f\"Player 1 [{player1.__name__}]\",\n",
    "        ],\n",
    "    )\n",
    "    plt.legend(loc=\"lower right\")\n",
    "    plt.xlabel(\"Game\")\n",
    "    plt.ylabel(\"% Wins\")\n",
    "\n",
    "\n",
    "def simplified_match_for_new_agents(\n",
    "    agent: callable,\n",
    "    opponent: callable,\n",
    "    nim_rows: int = 5,\n",
    "    nim_k: int = None,\n",
    "    n_games: int = 500,\n",
    ") -> list:\n",
    "    logging.getLogger().setLevel(logging.INFO)\n",
    "\n",
    "    # toss a coin for who starts\n",
    "    if random.random() > 0.5:\n",
    "        strategy = (agent, opponent)\n",
    "        num_agent = 0\n",
    "    else:\n",
    "        strategy = (opponent, agent)\n",
    "        num_agent = 1\n",
    "\n",
    "    wins_agent = 0  # wins of agent\n",
    "    wins_opponent = 0  # wins of opponents\n",
    "\n",
    "    # useful for plotting only\n",
    "    wins_over_games_list = (\n",
    "        []\n",
    "    )  # for each game [(win_0, win_1), (win_0, win_1), ...]\n",
    "\n",
    "    with tqdm(total=n_games, desc=\"Game: \") as pbar:\n",
    "        for _ in range(n_games):\n",
    "            nim = Nim(nim_rows, nim_k)\n",
    "            # logging.info(f\"init : {nim}\")\n",
    "            player = 1\n",
    "            while nim:\n",
    "                ply = strategy[player](nim)\n",
    "                # logging.info(f\"ply: player {player} plays {ply}\")\n",
    "                nim.nimming(ply)\n",
    "                # logging.info(f\"status: {nim}\")\n",
    "                player = 1 - player\n",
    "            # logging.info(f\"status: Player {player} won!\")\n",
    "            if player == num_agent:\n",
    "                wins_agent += 1\n",
    "            else:\n",
    "                wins_opponent += 1\n",
    "            # update stats for plot\n",
    "            wins_over_games_list.append((wins_agent, wins_opponent))\n",
    "            pbar.update(1)\n",
    "\n",
    "    print(f\"{int(wins_agent/n_games *100)}% of wins\")\n",
    "    plot(wins_over_games_list, n_games, agent, opponent)"
   ]
  },
  {
   "cell_type": "markdown",
   "metadata": {},
   "source": [
    "## Other strategies results"
   ]
  },
  {
   "cell_type": "code",
   "execution_count": 9,
   "metadata": {},
   "outputs": [
    {
     "name": "stderr",
     "output_type": "stream",
     "text": [
      "Game: 100%|██████████| 500/500 [00:02<00:00, 194.91it/s]\n"
     ]
    },
    {
     "name": "stdout",
     "output_type": "stream",
     "text": [
      "55% of wins\n"
     ]
    },
    {
     "data": {
      "image/png": "[encoded data removed]",
      "text/plain": [
       "<Figure size 640x480 with 1 Axes>"
      ]
     },
     "metadata": {},
     "output_type": "display_data"
    }
   ],
   "source": [
    "# Almost as good as the pure random.\n",
    "from other_strategies import Ev_strat_1\n",
    "\n",
    "N_GAMES = 500\n",
    "ev_strat_1 = Ev_strat_1()\n",
    "agent = ev_strat_1\n",
    "opponent = pure_random\n",
    "simplified_match_for_new_agents(\n",
    "    agent=agent, opponent=opponent, nim_rows=5, n_games=N_GAMES\n",
    ")"
   ]
  },
  {
   "cell_type": "code",
   "execution_count": 10,
   "metadata": {},
   "outputs": [
    {
     "name": "stderr",
     "output_type": "stream",
     "text": [
      "Game: 100%|██████████| 500/500 [00:17<00:00, 28.67it/s]\n"
     ]
    },
    {
     "name": "stdout",
     "output_type": "stream",
     "text": [
      "88% of wins\n"
     ]
    },
    {
     "data": {
      "image/png": "[encoded data removed]",
      "text/plain": [
       "<Figure size 640x480 with 1 Axes>"
      ]
     },
     "metadata": {},
     "output_type": "display_data"
    }
   ],
   "source": [
    "from other_strategies import approximate_es\n",
    "\n",
    "N_GAMES = 500\n",
    "agent = approximate_es\n",
    "opponent = optimal\n",
    "simplified_match_for_new_agents(\n",
    "    agent=agent, opponent=opponent, nim_rows=5, n_games=N_GAMES\n",
    ")"
   ]
  },
  {
   "cell_type": "code",
   "execution_count": 11,
   "metadata": {},
   "outputs": [
    {
     "name": "stderr",
     "output_type": "stream",
     "text": [
      "Game:   0%|          | 0/500 [00:00<?, ?it/s]"
     ]
    },
    {
     "name": "stderr",
     "output_type": "stream",
     "text": [
      "Game: 100%|██████████| 500/500 [04:26<00:00,  1.88it/s]"
     ]
    },
    {
     "name": "stdout",
     "output_type": "stream",
     "text": [
      "93% of wins\n"
     ]
    },
    {
     "name": "stderr",
     "output_type": "stream",
     "text": [
      "\n"
     ]
    },
    {
     "data": {
      "image/png": "[encoded data removed]",
      "text/plain": [
       "<Figure size 640x480 with 1 Axes>"
      ]
     },
     "metadata": {},
     "output_type": "display_data"
    }
   ],
   "source": [
    "from other_strategies import approximate_es_boosted\n",
    "\n",
    "N_GAMES = 500\n",
    "agent = approximate_es_boosted\n",
    "opponent = optimal\n",
    "simplified_match_for_new_agents(\n",
    "    agent=agent, opponent=opponent, nim_rows=5, n_games=N_GAMES\n",
    ")"
   ]
  },
  {
   "cell_type": "markdown",
   "metadata": {},
   "source": [
    "## Evolution strategy"
   ]
  },
  {
   "cell_type": "code",
   "execution_count": 12,
   "metadata": {},
   "outputs": [],
   "source": [
    "# This function takes as input:\n",
    "# The current state of the game.\n",
    "# A list of possible moves to do in this current state.\n",
    "# The number of games to play against the opponent.\n",
    "# The opponent to play against.\n",
    "# It returns as output:\n",
    "# A dictionary composed of all the first moves made with their number of wins\n",
    "def fitness(\n",
    "    state: Nim,\n",
    "    moves: list,\n",
    "    n_games_per_move: int = 5,\n",
    "    adversarial_strategy: callable = pure_random,\n",
    ") -> dict:\n",
    "    evaluated_moves = defaultdict(int)\n",
    "    # for each move we will play n_games.\n",
    "    for first_move in moves:\n",
    "        for _ in range(n_games_per_move):\n",
    "            nim = deepcopy(state)\n",
    "            strategy = (pure_random, adversarial_strategy)\n",
    "            # player is 0 because we are the one that moves.\n",
    "            player = 0\n",
    "            is_first = True\n",
    "            while nim:\n",
    "                if is_first:\n",
    "                    # the first move is aways the move we are iterating.\n",
    "                    ply = first_move\n",
    "                    is_first = False\n",
    "                else:\n",
    "                    ply = strategy[player](nim)\n",
    "                nim.nimming(ply)\n",
    "                player = 1 - player\n",
    "            # add 1 to the first move value if we won using that move, 0 otherway\n",
    "            evaluated_moves[first_move] += 1 if player == 0 else 0\n",
    "    return evaluated_moves\n",
    "\n",
    "\n",
    "# Given all the possible moves in a state, the parent index and the standard deviation, tweak returns\n",
    "# a new offspring.\n",
    "def tweak(all_moves: list, parent_index: int, sigma: int) -> Nimply:\n",
    "    valid_index = False\n",
    "    while not valid_index:\n",
    "        gaussian_parameter = normal(0, sigma)\n",
    "        new_index = round(parent_index + gaussian_parameter)\n",
    "        if -1 < new_index < len(all_moves):\n",
    "            valid_index = True\n",
    "    return all_moves[new_index]\n",
    "\n",
    "\n",
    "# Given the current state, all the new offsprings, the parent and the adversarial strategy,\n",
    "# return the best one between the offsprings and the parent, based on the fitness evaluation.\n",
    "# Change the sigma value based on the percentage of offsprings better than the parent.\n",
    "# Returns the best one and the new sigma value.\n",
    "def survival_selection(\n",
    "    state: Nim,\n",
    "    offsprings: list,\n",
    "    parent: Nimply,\n",
    "    sigma: float,\n",
    "    adversarial_strategy: callable = pure_random,\n",
    ") -> (Nimply, int):\n",
    "    # offsprings becomes all the moves to evaluate.\n",
    "    offsprings.append(parent)\n",
    "    evaluated_moves = fitness(\n",
    "        state, offsprings, adversarial_strategy=adversarial_strategy\n",
    "    )\n",
    "    # select the best one\n",
    "    best_one, _ = max(evaluated_moves.items(), key=lambda i: i[1])\n",
    "    fitness_val_parent = evaluated_moves[parent]\n",
    "    num_better_moves = 0\n",
    "    # number of offsprings better than the parent\n",
    "    for _, val in evaluated_moves.items():\n",
    "        if fitness_val_parent < val:\n",
    "            num_better_moves += 1\n",
    "    # we use len(offsprings) -1 because at the beginning we add the parent to the offspring list.\n",
    "    if num_better_moves / (len(offsprings) - 1) < 0.2:\n",
    "        sigma *= 1.1\n",
    "    else:\n",
    "        sigma /= 1.1\n",
    "\n",
    "    return (best_one, sigma)\n",
    "\n",
    "\n",
    "# Given the current state, the old parent, the list of all parents and the tournamemnt size,\n",
    "# the function selects randomly size-1 new possible parents and evaluate with the best_old_one.\n",
    "# Returns the best new parent.\n",
    "def tournament_selection(\n",
    "    state: Nim, best_old_one: Nimply, all_parents: list, size: int\n",
    ") -> Nimply:\n",
    "    parents_selected = [random.choice(all_parents) for _ in range(size - 1)]\n",
    "    parents_selected.append(best_old_one)\n",
    "    evaluated_parents = fitness(state, parents_selected)\n",
    "    best_parent, _ = max(evaluated_parents.items(), key=lambda i: i[1])\n",
    "    return best_parent\n",
    "\n",
    "\n",
    "# Given the state of the nim, select a parent, create offsprings, select the best one.\n",
    "# Repeat for the num of generations.\n",
    "# Returns the best move\n",
    "def real_es(state: Nim) -> Nimply:\n",
    "    # generation num set to 10 because gives good results and make the evaluation of 500 games reasonable.\n",
    "    # for better results we could increase it.\n",
    "    NUM_GENERATION = 50\n",
    "    all_parents = all_possible_moves(state)\n",
    "    best_one = random.choice(all_parents)\n",
    "    # sigma initialization\n",
    "    sigma = len(all_parents) / 5\n",
    "    for _ in range(NUM_GENERATION):\n",
    "        best_old_one = best_one\n",
    "        # tournament size depends on the number of all possible parents.\n",
    "        tournament_size = len(all_parents) // 5\n",
    "        # select the best parent with tournament selection.\n",
    "        best_parent = tournament_selection(\n",
    "            state, best_old_one, all_parents, tournament_size\n",
    "        )\n",
    "        # Offspring generation\n",
    "        index_of_best_parent = all_parents.index(best_parent)\n",
    "        all_moves = all_parents  # just for readability\n",
    "        # create 10 offsprings.\n",
    "        n_offsprings = 10\n",
    "        offsprings = []\n",
    "        for _ in range(n_offsprings):\n",
    "            offspring = tweak(all_moves, index_of_best_parent, sigma)\n",
    "            offsprings.append(offspring)\n",
    "        # survival selection between new offsprings and the parent.\n",
    "        adversarial_strategy = pure_random\n",
    "        best_one, sigma = survival_selection(\n",
    "            state,\n",
    "            offsprings,\n",
    "            best_parent,\n",
    "            sigma,\n",
    "            adversarial_strategy=adversarial_strategy,\n",
    "        )\n",
    "    return best_one"
   ]
  },
  {
   "cell_type": "code",
   "execution_count": 16,
   "metadata": {},
   "outputs": [
    {
     "name": "stderr",
     "output_type": "stream",
     "text": [
      "Game:   0%|          | 0/500 [00:00<?, ?it/s]"
     ]
    },
    {
     "name": "stderr",
     "output_type": "stream",
     "text": [
      "Game: 100%|██████████| 500/500 [05:41<00:00,  1.47it/s]\n"
     ]
    },
    {
     "name": "stdout",
     "output_type": "stream",
     "text": [
      "82% of wins\n"
     ]
    },
    {
     "data": {
      "image/png": "[encoded data removed]",
      "text/plain": [
       "<Figure size 640x480 with 1 Axes>"
      ]
     },
     "metadata": {},
     "output_type": "display_data"
    }
   ],
   "source": [
    "N_GAMES = 500\n",
    "agent = real_es\n",
    "opponent = pure_random\n",
    "simplified_match_for_new_agents(\n",
    "    agent=agent, opponent=opponent, nim_rows=5, n_games=N_GAMES\n",
    ")"
   ]
  }
 ],
 "metadata": {
  "kernelspec": {
   "display_name": "Python 3.10.7 ('ci22-dPIXJ0_o-py3.10')",
   "language": "python",
   "name": "python3"
  },
  "language_info": {
   "codemirror_mode": {
    "name": "ipython",
    "version": 3
   },
   "file_extension": ".py",
   "mimetype": "text/x-python",
   "name": "python",
   "nbconvert_exporter": "python",
   "pygments_lexer": "ipython3",
   "version": "3.12.0"
  },
  "vscode": {
   "interpreter": {
    "hash": "10197e8e2f2aa67e2c349105091c77f4cd384fce4877865f002d9ec653f96bc0"
   }
  }
 },
 "nbformat": 4,
 "nbformat_minor": 2
}
