{
 "cells": [
  {
   "cell_type": "markdown",
   "metadata": {
    "pycharm": {
     "name": "#%% md\n"
    }
   },
   "source": [
    "Copyright **`(c)`** 2022 Giovanni Squillero `<squillero@polito.it>`  \n",
    "[`https://github.com/squillero/computational-intelligence`](https://github.com/squillero/computational-intelligence)  \n",
    "Free for personal or classroom use; see [`LICENSE.md`](https://github.com/squillero/computational-intelligence/blob/master/LICENSE.md) for details.  \n"
   ]
  },
  {
   "cell_type": "markdown",
   "metadata": {
    "pycharm": {
     "name": "#%%\n"
    }
   },
   "source": [
    "# Lab 3: ES\n",
    "\n",
    "## Task\n",
    "\n",
    "Write agents able to play [*Nim*](https://en.wikipedia.org/wiki/Nim), with an arbitrary number of rows and an upper bound $k$ on the number of objects that can be removed in a turn (a.k.a., *subtraction game*).\n",
    "\n",
    "The goal of the game is to **avoid** taking the last object.\n",
    "\n",
    "* Task2.1: An agent using fixed rules based on *nim-sum* (i.e., an *expert system*)\n",
    "* Task2.2: An agent using evolved rules using ES\n",
    "\n",
    "## Instructions\n",
    "\n",
    "* Create the directory `lab2` inside your personal course repository for the course \n",
    "* Put a `README.md` and your solution (all the files, code and auxiliary data if needed)\n",
    "\n",
    "## Notes\n",
    "\n",
    "* Working in group is not only allowed, but recommended (see: [Ubuntu](https://en.wikipedia.org/wiki/Ubuntu_philosophy) and [Cooperative Learning](https://files.eric.ed.gov/fulltext/EJ1096789.pdf)). Collaborations must be explicitly declared in the `README.md`.\n",
    "* [Yanking](https://www.emacswiki.org/emacs/KillingAndYanking) from the internet is allowed, but sources must be explicitly declared in the `README.md`.\n",
    "\n"
   ]
  },
  {
   "cell_type": "code",
   "execution_count": 12,
   "metadata": {},
   "outputs": [],
   "source": [
    "import logging\n",
    "from pprint import pprint, pformat\n",
    "from collections import namedtuple\n",
    "import random\n",
    "import numpy as np\n",
    "from numpy.random import normal\n",
    "from collections import defaultdict\n",
    "from copy import deepcopy\n",
    "import matplotlib.pyplot as plt\n",
    "from tqdm import tqdm"
   ]
  },
  {
   "cell_type": "markdown",
   "metadata": {},
   "source": [
    "## The *Nim* and *Nimply* classes"
   ]
  },
  {
   "cell_type": "code",
   "execution_count": 13,
   "metadata": {},
   "outputs": [],
   "source": [
    "Nimply = namedtuple(\"Nimply\", \"row, num_objects\")"
   ]
  },
  {
   "cell_type": "code",
   "execution_count": 14,
   "metadata": {},
   "outputs": [],
   "source": [
    "class Nim:\n",
    "    def __init__(self, num_rows: int, k: int = None) -> None:\n",
    "        self._rows = [i * 2 + 1 for i in range(num_rows)]\n",
    "        self._k = k\n",
    "\n",
    "    def __bool__(self):\n",
    "        return sum(self._rows) > 0\n",
    "\n",
    "    def __str__(self):\n",
    "        return \"<\" + \" \".join(str(_) for _ in self._rows) + \">\"\n",
    "\n",
    "    @property\n",
    "    def rows(self) -> tuple:\n",
    "        return tuple(self._rows)\n",
    "\n",
    "    def nimming(self, ply: Nimply) -> None:\n",
    "        row, num_objects = ply\n",
    "        assert self._rows[row] >= num_objects\n",
    "        assert self._k is None or num_objects <= self._k\n",
    "        self._rows[row] -= num_objects"
   ]
  },
  {
   "cell_type": "markdown",
   "metadata": {},
   "source": [
    "## Sample (and silly) startegies "
   ]
  },
  {
   "cell_type": "code",
   "execution_count": 15,
   "metadata": {},
   "outputs": [],
   "source": [
    "def all_possible_moves(state: Nim) -> list:\n",
    "    all_moves = []\n",
    "    for row in [r for r, c in enumerate(state.rows) if c > 0]:\n",
    "        upper_bound_for = (\n",
    "            min(state.rows[row], state._k) + 1\n",
    "            if state._k\n",
    "            else state.rows[row] + 1\n",
    "        )\n",
    "        for obj_to_take in range(1, upper_bound_for):\n",
    "            all_moves.append(Nimply(row, obj_to_take))\n",
    "    return all_moves"
   ]
  },
  {
   "cell_type": "code",
   "execution_count": 16,
   "metadata": {},
   "outputs": [],
   "source": [
    "def pure_random(state: Nim) -> Nimply:\n",
    "    \"\"\"A completely random move\"\"\"\n",
    "    return random.choice(all_possible_moves(state))"
   ]
  },
  {
   "cell_type": "code",
   "execution_count": 17,
   "metadata": {},
   "outputs": [],
   "source": [
    "# 2.1 agent in slides\n",
    "def gabriele(state: Nim) -> Nimply:\n",
    "    \"\"\"Pick always the maximum possible number of the lowest row\"\"\"\n",
    "    possible_moves = [\n",
    "        (r, o)\n",
    "        for r, c in enumerate(state.rows)\n",
    "        for o in range(1, min(c, state._k) + 1 if state._k else c + 1)\n",
    "    ]\n",
    "    return Nimply(*max(possible_moves, key=lambda m: (-m[0], m[1])))"
   ]
  },
  {
   "cell_type": "code",
   "execution_count": 18,
   "metadata": {},
   "outputs": [],
   "source": [
    "# nim_sum: function often used in the mathematical analysis of the game to find winning strategies.\n",
    "# https://www.archimedes-lab.org/How_to_Solve/Win_at_Nim.html#:~:text=To%20win%20at%20Nim%2Dgame,error%20in%20order%20to%20win.\n",
    "def nim_sum(state: Nim) -> int:\n",
    "    # tmp: for each row, transform the number of object in that row to its binary form (width 32 bit), binary as a tuple of bits\n",
    "    tmp = np.array([tuple(int(x) for x in f\"{c:032b}\") for c in state.rows])\n",
    "    xor = tmp.sum(axis=0) % 2\n",
    "    return int(\n",
    "        \"\".join(str(_) for _ in xor), base=2\n",
    "    )  # convert the string of bit in its integer form\n",
    "\n",
    "\n",
    "def analize(raw: Nim) -> dict:\n",
    "    cooked = dict()\n",
    "    cooked[\"possible_moves\"] = dict()\n",
    "    for ply in (\n",
    "        Nimply(r, o) for r, c in enumerate(raw.rows) for o in range(1, c + 1)\n",
    "    ):\n",
    "        tmp = deepcopy(raw)\n",
    "        tmp.nimming(ply)\n",
    "        cooked[\"possible_moves\"][ply] = nim_sum(tmp)\n",
    "    return cooked\n",
    "\n",
    "\n",
    "def optimal(state: Nim) -> Nimply:\n",
    "    analysis = analize(state)\n",
    "    logging.debug(f\"analysis:\\n{pformat(analysis)}\")\n",
    "    spicy_moves = [\n",
    "        ply for ply, ns in analysis[\"possible_moves\"].items() if ns != 0\n",
    "    ]\n",
    "    if not spicy_moves:\n",
    "        spicy_moves = list(analysis[\"possible_moves\"].keys())\n",
    "    ply = random.choice(spicy_moves)\n",
    "    return ply"
   ]
  },
  {
   "cell_type": "markdown",
   "metadata": {},
   "source": [
    "## Functions needed to play and plot"
   ]
  },
  {
   "cell_type": "code",
   "execution_count": 19,
   "metadata": {},
   "outputs": [],
   "source": [
    "def plot(\n",
    "    wins_over_games_list: list, n_games, player0: callable, player1: callable\n",
    "):\n",
    "    # PLOT\n",
    "    games_list = range(1, n_games + 1)\n",
    "    wins_0_over_games_list = (\n",
    "        np.array([x[0] for x in wins_over_games_list])\n",
    "        / np.array(games_list)\n",
    "        * 100\n",
    "    )\n",
    "    wins_1_over_games_list = (\n",
    "        np.array([x[1] for x in wins_over_games_list])\n",
    "        / np.array(games_list)\n",
    "        * 100\n",
    "    )\n",
    "\n",
    "    plt.stackplot(\n",
    "        games_list,\n",
    "        wins_0_over_games_list,\n",
    "        wins_1_over_games_list,\n",
    "        colors=[\"b\", \"r\"],\n",
    "        labels=[\n",
    "            f\"Player 0 [{player0.__name__}]\",\n",
    "            f\"Player 1 [{player1.__name__}]\",\n",
    "        ],\n",
    "    )\n",
    "    plt.legend(loc=\"lower right\")\n",
    "    plt.xlabel(\"Game\")\n",
    "    plt.ylabel(\"% Wins\")\n",
    "\n",
    "\n",
    "def simplified_match_for_new_agents(\n",
    "    agent: callable,\n",
    "    opponent: callable,\n",
    "    nim_rows: int = 5,\n",
    "    nim_k: int = None,\n",
    "    n_games: int = 500,\n",
    ") -> list:\n",
    "    logging.getLogger().setLevel(logging.INFO)\n",
    "\n",
    "    # toss a coin for who starts\n",
    "    if random.random() > 0.5:\n",
    "        strategy = (agent, opponent)\n",
    "        num_agent = 0\n",
    "    else:\n",
    "        strategy = (opponent, agent)\n",
    "        num_agent = 1\n",
    "\n",
    "    wins_agent = 0  # wins of agent\n",
    "    wins_opponent = 0  # wins of opponents\n",
    "\n",
    "    # useful for plotting only\n",
    "    wins_over_games_list = (\n",
    "        []\n",
    "    )  # for each game [(win_0, win_1), (win_0, win_1), ...]\n",
    "\n",
    "    with tqdm(total=n_games, desc=\"Game: \") as pbar:\n",
    "        for _ in range(n_games):\n",
    "            nim = Nim(nim_rows)\n",
    "            # logging.info(f\"init : {nim}\")\n",
    "            player = 1\n",
    "            while nim:\n",
    "                ply = strategy[player](nim)\n",
    "                # logging.info(f\"ply: player {player} plays {ply}\")\n",
    "                nim.nimming(ply)\n",
    "                # logging.info(f\"status: {nim}\")\n",
    "                player = 1 - player\n",
    "            # logging.info(f\"status: Player {player} won!\")\n",
    "            if player == num_agent:\n",
    "                wins_agent += 1\n",
    "            else:\n",
    "                wins_opponent += 1\n",
    "            # update stats for plot\n",
    "            wins_over_games_list.append((wins_agent, wins_opponent))\n",
    "            pbar.update(1)\n",
    "\n",
    "    print(f\"{int(wins_agent/n_games *100)}% of wins\")\n",
    "    plot(wins_over_games_list, n_games, agent, opponent)"
   ]
  },
  {
   "cell_type": "markdown",
   "metadata": {},
   "source": [
    "## Evolution strategies"
   ]
  },
  {
   "cell_type": "markdown",
   "metadata": {},
   "source": [
    "### 2.2 Evolved agent"
   ]
  },
  {
   "cell_type": "code",
   "execution_count": 20,
   "metadata": {},
   "outputs": [],
   "source": [
    "# for convienience and for code reusability we will implement this code as a class\n",
    "class Ev_strat_1:\n",
    "    def __init__(self, c_sigma: int = 1):\n",
    "        self.c_sigma = c_sigma\n",
    "        self.__name__ = \"Ev_strat_1\"\n",
    "\n",
    "    def __call__(self, state: Nim) -> Nimply:\n",
    "        cooked = dict()\n",
    "        created_off = 0\n",
    "        # generate lambda new states, porportional to number of object in row\n",
    "        for idx_row, row in enumerate(state.rows):\n",
    "            # do C*row tweaks on this row\n",
    "            n_tweaks = 2 * row\n",
    "            created_off += n_tweaks\n",
    "            for _ in range(n_tweaks):\n",
    "                n_obj_offspring = self.tweak(row)\n",
    "                tmp = deepcopy(state)\n",
    "                ply = Nimply(idx_row, n_obj_offspring)\n",
    "                try:\n",
    "                    tmp.nimming(\n",
    "                        ply\n",
    "                    )  # nimming already checks if currecnt move (ply) and current state are valid\n",
    "                    if ply.num_objects > 0 and ply not in cooked.keys():\n",
    "                        # this is the fitness function that evaluates the cooked[ply] move.\n",
    "                        cooked[ply] = nim_sum(tmp)\n",
    "                except:\n",
    "                    pass\n",
    "\n",
    "        # select best choice in cooked[ply].\n",
    "        if cooked:\n",
    "            best_ply, _ = max(cooked.items(), key=lambda t: t[1])\n",
    "            # conto il numero di soluzioni \"buone\" trovate, se sono meno del 20% allora abbasso il sigma.\n",
    "            # abbasso il sigma perchè alzandolo ci sono più probabilità di creare soluzioni fuori range.\n",
    "            nim_diff_from_0 = 0\n",
    "            for it in cooked.items():\n",
    "                if it[1] != 0:\n",
    "                    nim_diff_from_0 += 1\n",
    "            if nim_diff_from_0 / created_off <= 0.2:\n",
    "                self.c_sigma /= 1.1\n",
    "            else:\n",
    "                self.c_sigma *= 1.1\n",
    "        else:  # if no cooked move, then random move\n",
    "            best_ply = pure_random(state)\n",
    "\n",
    "        return best_ply\n",
    "\n",
    "    def tweak(self, item: int) -> list:\n",
    "        starting_move = item / 2  # for now we will take the real num.\n",
    "        # offspring = round(normal(loc=starting_move, scale=C_sigma * starting_move))\n",
    "        offspring = round(\n",
    "            normal(loc=starting_move, scale=self.c_sigma * starting_move)\n",
    "        )\n",
    "        # offsprings = round(normal(loc=starting_move, scale=C_sigma*starting_move, size=(C*item)))\n",
    "        return offspring"
   ]
  },
  {
   "cell_type": "markdown",
   "metadata": {},
   "source": [
    "### 2.2.1 Professor agent"
   ]
  },
  {
   "cell_type": "code",
   "execution_count": 21,
   "metadata": {},
   "outputs": [],
   "source": [
    "# This function takes as input:\n",
    "# The current state of the game.\n",
    "# A list of possible moves to do in this current state.\n",
    "# The number of games to play against the opponent.\n",
    "# The opponent to play against.\n",
    "# It returns as output:\n",
    "# a dictionary composed of all the first moves made with their number of wins\n",
    "def fitness(\n",
    "    state: Nim, moves: list, n_games: int, adversarial_strategy: callable\n",
    ") -> dict:\n",
    "    first_moves = defaultdict(int)\n",
    "    # we will play approximately for each move 10 games in which that move will be the starting one.\n",
    "    for first_move in moves:\n",
    "        for _ in range(n_games // len(moves)):\n",
    "            nim = deepcopy(state)\n",
    "            strategy = (pure_random, adversarial_strategy)\n",
    "            # player is 0 because we are the one that moves.\n",
    "            player = 0\n",
    "            first_move = random.choice(moves)\n",
    "            is_first = True\n",
    "            while nim:\n",
    "                if is_first:\n",
    "                    ply = first_move\n",
    "                    is_first = False\n",
    "                else:\n",
    "                    ply = strategy[player](nim)\n",
    "                nim.nimming(ply)\n",
    "                player = 1 - player\n",
    "            # add 1 to the first move value if we won with that move, 0 else\n",
    "            first_moves[first_move] += 1 if player == 0 else 0\n",
    "    return first_moves\n",
    "\n",
    "\n",
    "def es2(state: Nim) -> Nimply:\n",
    "    all_moves = all_possible_moves(state)\n",
    "    n_games = len(all_moves) * 10\n",
    "    first_moves = fitness(state, all_moves, n_games, pure_random)\n",
    "    best_move, _ = max(first_moves.items(), key=lambda i: i[1])\n",
    "    return best_move\n",
    "\n",
    "\n",
    "# This es is a boost of es2:\n",
    "# Cheoosen the K best moves against pure_random,\n",
    "# it plays them against optimal and test which one is better\n",
    "\n",
    "\n",
    "def es2_boosted(state: Nim) -> Nimply:\n",
    "    all_moves = all_possible_moves(state)\n",
    "    n_games = len(all_moves) * 5\n",
    "    first_moves = fitness(state, all_moves, n_games, pure_random)\n",
    "    # get top-K moves against pure_random\n",
    "    K = 4\n",
    "    first_moves = first_moves.items()\n",
    "    top_K_first_moves = sorted(first_moves, key=lambda t: -t[1])[:K]\n",
    "    top_K_first_moves = [move[0] for move in top_K_first_moves]\n",
    "\n",
    "    n_games = K * 10\n",
    "    moves_wins_against_optimal = fitness(\n",
    "        state, top_K_first_moves, n_games, optimal\n",
    "    )\n",
    "    best_move, _ = max(moves_wins_against_optimal.items(), key=lambda i: i[1])\n",
    "\n",
    "    return best_move"
   ]
  },
  {
   "cell_type": "markdown",
   "metadata": {},
   "source": [
    "## Oversimplified match"
   ]
  },
  {
   "cell_type": "code",
   "execution_count": 24,
   "metadata": {},
   "outputs": [
    {
     "name": "stderr",
     "output_type": "stream",
     "text": [
      "Game: 100%|██████████| 500/500 [00:07<00:00, 62.96it/s]\n"
     ]
    },
    {
     "name": "stdout",
     "output_type": "stream",
     "text": [
      "89% of wins\n"
     ]
    },
    {
     "data": {
      "image/png": "[encoded data removed]",
      "text/plain": [
       "<Figure size 640x480 with 1 Axes>"
      ]
     },
     "metadata": {},
     "output_type": "display_data"
    }
   ],
   "source": [
    "N_GAMES = 500\n",
    "ev_strat_1 = Ev_strat_1()\n",
    "agent = es2\n",
    "opponent = gabriele\n",
    "simplified_match_for_new_agents(\n",
    "    agent=agent, opponent=opponent, nim_rows=5, k=4, n_games=N_GAMES\n",
    ")"
   ]
  }
 ],
 "metadata": {
  "kernelspec": {
   "display_name": "Python 3.10.7 ('ci22-dPIXJ0_o-py3.10')",
   "language": "python",
   "name": "python3"
  },
  "language_info": {
   "codemirror_mode": {
    "name": "ipython",
    "version": 3
   },
   "file_extension": ".py",
   "mimetype": "text/x-python",
   "name": "python",
   "nbconvert_exporter": "python",
   "pygments_lexer": "ipython3",
   "version": "3.11.6"
  },
  "vscode": {
   "interpreter": {
    "hash": "10197e8e2f2aa67e2c349105091c77f4cd384fce4877865f002d9ec653f96bc0"
   }
  }
 },
 "nbformat": 4,
 "nbformat_minor": 2
}
