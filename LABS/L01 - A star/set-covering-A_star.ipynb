{
 "cells": [
  {
   "cell_type": "markdown",
   "metadata": {},
   "source": [
    "Copyright **`(c)`** 2023 Giovanni Squillero `<giovanni.squillero@polito.it>`  \n",
    "[`https://github.com/squillero/computational-intelligence`](https://github.com/squillero/computational-intelligence)  \n",
    "Free for personal or classroom use; see [`LICENSE.md`](https://github.com/squillero/computational-intelligence/blob/master/LICENSE.md) for details.  "
   ]
  },
  {
   "cell_type": "code",
   "execution_count": 1,
   "metadata": {},
   "outputs": [
    {
     "name": "stdout",
     "output_type": "stream",
     "text": [
      "Requirement already satisfied: tqdm in /Users/andreapellegrino/Dropbox (Politecnico Di Torino Studenti)/PoliTo/Data Science and Engineering/II Year/Computational Intelligence/.env/lib/python3.12/site-packages (4.66.1)\n",
      "Note: you may need to restart the kernel to use updated packages.\n"
     ]
    }
   ],
   "source": [
    "from random import random\n",
    "from functools import reduce\n",
    "from collections import namedtuple, deque\n",
    "from queue import PriorityQueue, SimpleQueue, LifoQueue\n",
    "import time\n",
    "%pip install tqdm\n",
    "from tqdm import tqdm\n",
    "\n",
    "import numpy as np"
   ]
  },
  {
   "cell_type": "code",
   "execution_count": 2,
   "metadata": {},
   "outputs": [],
   "source": [
    "PROBLEM_SIZE = 10 # 400\n",
    "NUM_SETS = 20 # 150\n",
    "SETS = tuple(np.array([random() < .3 for _ in range(PROBLEM_SIZE)]) for _ in range(NUM_SETS))\n",
    "State = namedtuple('State', ['taken', 'not_taken'])"
   ]
  },
  {
   "cell_type": "code",
   "execution_count": 3,
   "metadata": {},
   "outputs": [],
   "source": [
    "def get_n_overlaps(state):\n",
    "    return np.sum(np.sum([SETS[i] for i in state.taken], axis=0) > 1)"
   ]
  },
  {
   "cell_type": "code",
   "execution_count": 4,
   "metadata": {},
   "outputs": [],
   "source": [
    "# cheks how many True value are covered in a state\n",
    "def covered(state):\n",
    "    return reduce(\n",
    "        np.logical_or,\n",
    "        [SETS[i] for i in state.taken],\n",
    "        np.array([False for _ in range(PROBLEM_SIZE)]),\n",
    "    )\n",
    "\n",
    "def goal_check(state):\n",
    "    return np.all(covered(state))\n",
    "\n",
    "# returns how many False need to be covered yet\n",
    "def distance(state):\n",
    "    return PROBLEM_SIZE - sum(covered(state))\n",
    "\n",
    "\n",
    "# --------------------- A* search ---------------------\n",
    "\n",
    "# actual cost\n",
    "def g(state):\n",
    "    return len(state.taken)\n",
    "\n",
    "# estimated cost\n",
    "def h(state):\n",
    "    already_covered = covered(state)\n",
    "    missing_size = PROBLEM_SIZE - sum(already_covered)\n",
    "    estim_max = max(sum(np.logical_and(s, np.logical_not(already_covered))) for s in SETS)\n",
    "    return missing_size - estim_max\n",
    "\n",
    "def h3(state):\n",
    "    already_covered = covered(state)\n",
    "    if np.all(already_covered):\n",
    "        return 0\n",
    "    missing_size = PROBLEM_SIZE - sum(already_covered)\n",
    "    # list of sets best fit the uncovered element in current state, reversed so that it gives priority to best fitting ones\n",
    "    candidates = sorted((sum(np.logical_and(s, np.logical_not(already_covered))) for s in SETS), reverse=True)\n",
    "    taken = 1\n",
    "    while sum(candidates[:taken]) < missing_size:\n",
    "        taken += 1\n",
    "    return taken\n",
    "\n",
    "def distance_A_star(state):\n",
    "\n",
    "    w1 = 1 # g\n",
    "    w2 = 1 # h\n",
    "    w3 = 1 # overlap\n",
    "    w_tot = w1 + w2 + w3\n",
    "\n",
    "    # optimization: try also to minimize overlap. \n",
    "    # It is normalized by the dimenion of the problem PROBLEM_SIZE\n",
    "    n_overlap = get_n_overlaps(state)/PROBLEM_SIZE\n",
    "    \n",
    "    return (w1/w_tot)*g(state) + (w2/w_tot)*h(state) + (w3/w_tot)*n_overlap "
   ]
  },
  {
   "cell_type": "code",
   "execution_count": 5,
   "metadata": {},
   "outputs": [],
   "source": [
    "assert goal_check(State(set(range(NUM_SETS)), set())), \"Probelm not solvable\""
   ]
  },
  {
   "cell_type": "code",
   "execution_count": 6,
   "metadata": {},
   "outputs": [],
   "source": [
    "def search():\n",
    "\n",
    "    frontier = deque()\n",
    "    state = State(set(), set(range(NUM_SETS)))\n",
    "    frontier.append(state)\n",
    "\n",
    "    counter = 0\n",
    "    current_state = frontier.popleft()\n",
    "    while not goal_check(current_state):\n",
    "        counter += 1\n",
    "        for action in current_state[1]:\n",
    "            new_state = State(\n",
    "                current_state.taken ^ {action},\n",
    "                current_state.not_taken ^ {action},\n",
    "            )\n",
    "            frontier.append(new_state)\n",
    "        current_state = frontier.popleft()\n",
    "\n",
    "    return counter, current_state\n",
    "\n",
    "def search_A_star():\n",
    "\n",
    "    frontier = PriorityQueue()  \n",
    "    state = State(set(), set(range(NUM_SETS)))\n",
    "    frontier.put((distance_A_star(state), state))\n",
    "\n",
    "    counter = 0\n",
    "    _, current_state = frontier.get()\n",
    "    while not goal_check(current_state):\n",
    "        counter += 1\n",
    "        for action in current_state[1]:\n",
    "            if not np.array_equal(SETS[action], [False for _ in range(PROBLEM_SIZE)]): # optimization\n",
    "                new_state = State(\n",
    "                    current_state.taken ^ {action},\n",
    "                    current_state.not_taken ^ {action},\n",
    "                )\n",
    "                frontier.put((distance_A_star(new_state), new_state))\n",
    "        _, current_state = frontier.get()\n",
    "    \n",
    "    return counter, current_state"
   ]
  },
  {
   "cell_type": "markdown",
   "metadata": {},
   "source": [
    "## Search"
   ]
  },
  {
   "cell_type": "code",
   "execution_count": 9,
   "metadata": {},
   "outputs": [
    {
     "name": "stdout",
     "output_type": "stream",
     "text": [
      "PROBLEM_SIZE = 10, NUM_SETS = 20\n",
      "\n",
      "Search with Breadth first ...\n",
      "Solved in 467 steps (3 tiles)\n",
      "# overlaps: 2\n",
      "(time: 0.04s)\n",
      "\n",
      "Search with A* ...\n",
      "Solved in 139 steps (3 tiles)\n",
      "# overlaps: 1\n",
      "(time: 0.44s)\n"
     ]
    }
   ],
   "source": [
    "print(f'PROBLEM_SIZE = {PROBLEM_SIZE}, NUM_SETS = {NUM_SETS}\\n')\n",
    "# set distance function:    distance   distance_A_star\n",
    "start_t1 = time.time()\n",
    "print('Search with Breadth first ...')\n",
    "counter1, current_state1 = search()\n",
    "end_t1 = time.time()\n",
    "print(f\"Solved in {counter1:,} steps ({len(current_state1.taken)} tiles)\")\n",
    "print(f'# overlaps: {get_n_overlaps(current_state1)}')\n",
    "print(f'(time: {end_t1-start_t1:.2f}s)')\n",
    "\n",
    "print()\n",
    "\n",
    "start_t2 = time.time()\n",
    "print('Search with A* ...')\n",
    "counter2, current_state2 = search_A_star()\n",
    "end_t2 = time.time()\n",
    "print(f\"Solved in {counter2:,} steps ({len(current_state2.taken)} tiles)\")\n",
    "print(f'# overlaps: {get_n_overlaps(current_state2)}')\n",
    "print(f'(time: {end_t2-start_t2:.2f}s)')"
   ]
  },
  {
   "cell_type": "code",
   "execution_count": 10,
   "metadata": {},
   "outputs": [
    {
     "name": "stdout",
     "output_type": "stream",
     "text": [
      "SOLUTIONS:\n",
      "\n",
      "Original search:\n",
      "[ True  True False False False False  True  True False  True]\t<- 0\n",
      "[False False  True False False  True False False  True False]\t<- 4\n",
      "[False False False  True  True False False False  True  True]\t<- 14\n",
      "\n",
      "A* search:\n",
      "[ True  True False False False False  True  True False  True]\t<- 0\n",
      "[False False  True False False  True False False False False]\t<- 11\n",
      "[False False False  True  True False False False  True  True]\t<- 14\n"
     ]
    }
   ],
   "source": [
    "is_print_solutions = True # False\n",
    "\n",
    "if is_print_solutions:\n",
    "    print(f'SOLUTIONS:\\n')\n",
    "    print('Original search:')\n",
    "    for s in current_state1.taken:\n",
    "        print(f'{SETS[s]}\\t<- {s}')\n",
    "    print()\n",
    "    print('A* search:')\n",
    "    for s in current_state2.taken:\n",
    "        print(f'{SETS[s]}\\t<- {s}')"
   ]
  },
  {
   "cell_type": "markdown",
   "metadata": {},
   "source": [
    "# Compare 2 algorithms"
   ]
  },
  {
   "cell_type": "code",
   "execution_count": 7,
   "metadata": {},
   "outputs": [],
   "source": [
    "import warnings\n",
    "warnings.filterwarnings(\"ignore\")\n",
    "\n",
    "def score(n_steps, n_tiles, n_overlap, t):\n",
    "    if n_overlap==0:\n",
    "        n_overlap = 1e-8 #approximation\n",
    "    if t==0:\n",
    "        t = 1e-8 #approximation \n",
    "\n",
    "    p = n_steps*n_tiles*n_overlap*t\n",
    "\n",
    "    return 1/p"
   ]
  },
  {
   "cell_type": "code",
   "execution_count": 8,
   "metadata": {},
   "outputs": [
    {
     "name": "stderr",
     "output_type": "stream",
     "text": [
      "                                                                    "
     ]
    },
    {
     "name": "stdout",
     "output_type": "stream",
     "text": [
      "SCORES:\n",
      "\n",
      "Score algorithm 1 (Breadth first): 3234310.2730\n",
      "Score algorithm 2 (A*): 3888684.4249\n"
     ]
    },
    {
     "name": "stderr",
     "output_type": "stream",
     "text": [
      "\r"
     ]
    }
   ],
   "source": [
    "SIM_ITER = 50\n",
    "\n",
    "a1 = 'Breadth first'\n",
    "a2 = 'A*'\n",
    "\n",
    "scores_a1 = []\n",
    "scores_a2 = []\n",
    "\n",
    "pbar = tqdm(total=SIM_ITER, desc=f\"Simulation progress: \", leave=False)\n",
    "\n",
    "for _ in range(SIM_ITER):\n",
    "\n",
    "    SETS = tuple(np.array([random() < .3 for _ in range(PROBLEM_SIZE)]) for _ in range(NUM_SETS))\n",
    "    \n",
    "    start_t1 = time.time()\n",
    "    counter1, current_state1 = search()\n",
    "    end_t1 = time.time()\n",
    "    score1 = score(counter1, len(current_state1.taken), get_n_overlaps(current_state1), end_t1-start_t1)\n",
    "    scores_a1.append(score1)\n",
    "\n",
    "    start_t2 = time.time()\n",
    "    counter2, current_state2 = search()\n",
    "    end_t2 = time.time()\n",
    "    score2 = score(counter2, len(current_state2.taken), get_n_overlaps(current_state2), end_t2-start_t2)\n",
    "    scores_a2.append(score2)\n",
    "\n",
    "    pbar.update(1)\n",
    "\n",
    "print(f'SCORES:\\n')\n",
    "print(f'Score algorithm 1 ({a1}): {sum(scores_a1)/SIM_ITER:.4f}')\n",
    "print(f'Score algorithm 2 ({a2}): {sum(scores_a2)/SIM_ITER:.4f}')\n",
    "\n",
    "pbar.close()"
   ]
  }
 ],
 "metadata": {
  "kernelspec": {
   "display_name": "ci-P-7LqQ3C-py3.11",
   "language": "python",
   "name": "python3"
  },
  "language_info": {
   "codemirror_mode": {
    "name": "ipython",
    "version": 3
   },
   "file_extension": ".py",
   "mimetype": "text/x-python",
   "name": "python",
   "nbconvert_exporter": "python",
   "pygments_lexer": "ipython3",
   "version": "3.12.0"
  }
 },
 "nbformat": 4,
 "nbformat_minor": 2
}
