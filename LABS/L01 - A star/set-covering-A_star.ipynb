{
 "cells": [
  {
   "cell_type": "markdown",
   "metadata": {},
   "source": [
    "Copyright **`(c)`** 2023 Giovanni Squillero `<giovanni.squillero@polito.it>`  \n",
    "[`https://github.com/squillero/computational-intelligence`](https://github.com/squillero/computational-intelligence)  \n",
    "Free for personal or classroom use; see [`LICENSE.md`](https://github.com/squillero/computational-intelligence/blob/master/LICENSE.md) for details.  "
   ]
  },
  {
   "cell_type": "code",
   "execution_count": 2507,
   "metadata": {},
   "outputs": [],
   "source": [
    "from random import random\n",
    "from functools import reduce\n",
    "from collections import namedtuple\n",
    "from queue import PriorityQueue, SimpleQueue, LifoQueue\n",
    "import time\n",
    "\n",
    "import numpy as np"
   ]
  },
  {
   "cell_type": "code",
   "execution_count": 2508,
   "metadata": {},
   "outputs": [],
   "source": [
    "PROBLEM_SIZE = 20 # 400\n",
    "NUM_SETS = 40 # 150\n",
    "SETS = tuple(np.array([random() < .3 for _ in range(PROBLEM_SIZE)]) for _ in range(NUM_SETS))\n",
    "State = namedtuple('State', ['taken', 'not_taken'])\n",
    "#SETS"
   ]
  },
  {
   "cell_type": "code",
   "execution_count": 2509,
   "metadata": {},
   "outputs": [],
   "source": [
    "def get_n_overlaps(state):\n",
    "    return np.sum(np.sum([SETS[i] for i in state.taken], axis=0) > 1)"
   ]
  },
  {
   "cell_type": "code",
   "execution_count": 2510,
   "metadata": {},
   "outputs": [],
   "source": [
    "def goal_check(state):\n",
    "    return np.all(reduce(\n",
    "        np.logical_or,\n",
    "        [SETS[i] for i in state.taken],\n",
    "        np.array([False for _ in range(PROBLEM_SIZE)]),\n",
    "    ))\n",
    "\n",
    "\n",
    "def distance(state):\n",
    "    return PROBLEM_SIZE - sum(\n",
    "        reduce(\n",
    "            np.logical_or,\n",
    "            [SETS[i] for i in state.taken],\n",
    "            np.array([False for _ in range(PROBLEM_SIZE)]),\n",
    "        ))\n",
    "\n",
    "def distance_A_star(state):\n",
    "\n",
    "    w1 = 2 # distance\n",
    "    w2 = 0     # cost\n",
    "    w3 = 1     # overlap\n",
    "    w_tot = w1 + w2 + w3\n",
    "     \n",
    "    # Checks how far are we from teh goal -> lower dist is better\n",
    "    dist = PROBLEM_SIZE - sum(\n",
    "        reduce(\n",
    "            np.logical_or,\n",
    "            [SETS[i] for i in state.taken],\n",
    "            np.array([False for _ in range(PROBLEM_SIZE)]),\n",
    "        ))\n",
    "    \n",
    "    # checks how many True value exists in state.taken -> lower cost is better\n",
    "    cost = PROBLEM_SIZE - dist\n",
    "    \n",
    "    # optimization: try to minimize overlap\n",
    "    n_overlap = get_n_overlaps(state)\n",
    "    \n",
    "    return (w1/w_tot) * dist + (w2/w_tot) * cost + (w3/w_tot) * n_overlap "
   ]
  },
  {
   "cell_type": "code",
   "execution_count": 2511,
   "metadata": {},
   "outputs": [],
   "source": [
    "assert goal_check(State(set(range(NUM_SETS)), set())), \"Probelm not solvable\""
   ]
  },
  {
   "cell_type": "code",
   "execution_count": 2512,
   "metadata": {},
   "outputs": [],
   "source": [
    "def search():\n",
    "\n",
    "    frontier = PriorityQueue()\n",
    "    # frontier = SimpleQueue()\n",
    "    state = State(set(), set(range(NUM_SETS)))\n",
    "    frontier.put((distance(state), state))\n",
    "\n",
    "    counter = 0\n",
    "    _, current_state = frontier.get()\n",
    "    while not goal_check(current_state):\n",
    "        counter += 1\n",
    "        # print(current_state)\n",
    "        for action in current_state[1]:\n",
    "            new_state = State(\n",
    "                current_state.taken ^ {action},\n",
    "                current_state.not_taken ^ {action},\n",
    "            )\n",
    "            frontier.put((distance(new_state), new_state))\n",
    "            # print(f'taken: {new_state.taken}')\n",
    "            # print(f'Not taken: {new_state.not_taken}')\n",
    "            # print()\n",
    "        _, current_state = frontier.get()\n",
    "\n",
    "    return counter, current_state\n",
    "\n",
    "def search_A_star():\n",
    "\n",
    "    frontier = PriorityQueue()\n",
    "    # frontier = SimpleQueue()\n",
    "    state = State(set(), set(range(NUM_SETS)))\n",
    "    frontier.put((distance_A_star(state), state))\n",
    "\n",
    "    counter = 0\n",
    "    _, current_state = frontier.get()\n",
    "    while not goal_check(current_state):\n",
    "        counter += 1\n",
    "        # print(current_state)\n",
    "        for action in current_state[1]:\n",
    "            new_state = State(\n",
    "                current_state.taken ^ {action},\n",
    "                current_state.not_taken ^ {action},\n",
    "            )\n",
    "            frontier.put((distance_A_star(new_state), new_state))\n",
    "            # print(f'taken: {new_state.taken}')\n",
    "            # print(f'Not taken: {new_state.not_taken}')\n",
    "            # print()\n",
    "        _, current_state = frontier.get()\n",
    "    \n",
    "    return counter, current_state"
   ]
  },
  {
   "cell_type": "code",
   "execution_count": 2513,
   "metadata": {},
   "outputs": [
    {
     "name": "stdout",
     "output_type": "stream",
     "text": [
      "Solving Search 1 (Original) ...\n",
      "Solved in 4 steps (4 tiles)\n",
      "# overlaps: 9\n",
      "(time: 0.00 s)\n",
      "\n",
      "Solving Search 2 (A* search) ...\n",
      "Solved in 4 steps (4 tiles)\n",
      "# overlaps: 5\n",
      "(time: 0.01 s)\n"
     ]
    }
   ],
   "source": [
    "# set distance function:    distance   distance_A_star\n",
    "start_t1 = time.time()\n",
    "print('Solving Search 1 (Original) ...')\n",
    "counter1, current_state1 = search()\n",
    "end_t1 = time.time()\n",
    "print(f\"Solved in {counter1:,} steps ({len(current_state1.taken)} tiles)\")\n",
    "print(f'# overlaps: {get_n_overlaps(current_state1)}')\n",
    "print(f'(time: {end_t1-start_t1:.2f} s)')\n",
    "\n",
    "print()\n",
    "\n",
    "start_t2 = time.time()\n",
    "print('Solving Search 2 (A* search) ...')\n",
    "counter2, current_state2 = search_A_star()\n",
    "end_t2 = time.time()\n",
    "print(f\"Solved in {counter2:,} steps ({len(current_state2.taken)} tiles)\")\n",
    "print(f'# overlaps: {get_n_overlaps(current_state2)}')\n",
    "print(f'(time: {end_t2-start_t2:.2f} s)')"
   ]
  },
  {
   "cell_type": "code",
   "execution_count": 2514,
   "metadata": {},
   "outputs": [],
   "source": [
    "is_print_solutions = False\n",
    "\n",
    "if is_print_solutions:\n",
    "    print(f'SOLUTIONS:\\n')\n",
    "    print('Original search:')\n",
    "    for s in current_state1.taken:\n",
    "        print(f'{SETS[s]}\\t<- {s}')\n",
    "    print()\n",
    "    print('A* search:')\n",
    "    for s in current_state2.taken:\n",
    "        print(f'{SETS[s]}\\t<- {s}')"
   ]
  },
  {
   "cell_type": "markdown",
   "metadata": {},
   "source": [
    "# Compare 2 algorithms"
   ]
  },
  {
   "cell_type": "code",
   "execution_count": 2515,
   "metadata": {},
   "outputs": [],
   "source": [
    "def score(n_steps, n_tiles, n_overlap, t):\n",
    "    return 1/(n_steps*n_tiles*n_overlap*t)"
   ]
  },
  {
   "cell_type": "code",
   "execution_count": 2524,
   "metadata": {},
   "outputs": [
    {
     "name": "stdout",
     "output_type": "stream",
     "text": [
      "SCORES:\n",
      "\n",
      "Score algorithm 1 (Original): 5.6259\n",
      "Score algorithm 2 (A*): 5.5873\n"
     ]
    }
   ],
   "source": [
    "SIM_ITER = 1000\n",
    "\n",
    "a1 = 'Original'\n",
    "a2 = 'A*'\n",
    "\n",
    "scores_a1 = []\n",
    "scores_a2 = []\n",
    "\n",
    "for _ in range(SIM_ITER):\n",
    "\n",
    "    SETS = tuple(np.array([random() < .3 for _ in range(PROBLEM_SIZE)]) for _ in range(NUM_SETS))\n",
    "    \n",
    "    start_t1 = time.time()\n",
    "    counter1, current_state1 = search()\n",
    "    end_t1 = time.time()\n",
    "    score1 = score(counter1, len(current_state1.taken), get_n_overlaps(current_state1), end_t1-start_t1)\n",
    "    scores_a1.append(score1)\n",
    "\n",
    "    start_t2 = time.time()\n",
    "    counter2, current_state2 = search()\n",
    "    end_t2 = time.time()\n",
    "    score2 = score(counter2, len(current_state2.taken), get_n_overlaps(current_state2), end_t2-start_t2)\n",
    "    scores_a2.append(score2)\n",
    "\n",
    "print(f'SCORES:\\n')\n",
    "print(f'Score algorithm 1 ({a1}): {sum(scores_a1)/SIM_ITER:.4f}')\n",
    "print(f'Score algorithm 2 ({a2}): {sum(scores_a2)/SIM_ITER:.4f}')"
   ]
  }
 ],
 "metadata": {
  "kernelspec": {
   "display_name": "ci-P-7LqQ3C-py3.11",
   "language": "python",
   "name": "python3"
  },
  "language_info": {
   "codemirror_mode": {
    "name": "ipython",
    "version": 3
   },
   "file_extension": ".py",
   "mimetype": "text/x-python",
   "name": "python",
   "nbconvert_exporter": "python",
   "pygments_lexer": "ipython3",
   "version": "3.12.0"
  }
 },
 "nbformat": 4,
 "nbformat_minor": 2
}
