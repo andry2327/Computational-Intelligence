{
 "cells": [
  {
   "cell_type": "markdown",
   "metadata": {},
   "source": [
    "Copyright **`(c)`** 2023 Giovanni Squillero `<giovanni.squillero@polito.it>`  \n",
    "[`https://github.com/squillero/computational-intelligence`](https://github.com/squillero/computational-intelligence)  \n",
    "Free for personal or classroom use; see [`LICENSE.md`](https://github.com/squillero/computational-intelligence/blob/master/LICENSE.md) for details.  "
   ]
  },
  {
   "cell_type": "code",
   "execution_count": 155,
   "metadata": {},
   "outputs": [],
   "source": [
    "from random import random\n",
    "from functools import reduce\n",
    "from collections import namedtuple\n",
    "from queue import PriorityQueue, SimpleQueue, LifoQueue\n",
    "\n",
    "import numpy as np"
   ]
  },
  {
   "cell_type": "code",
   "execution_count": 156,
   "metadata": {},
   "outputs": [
    {
     "data": {
      "text/plain": [
       "(array([ True, False, False,  True, False,  True, False, False, False,\n",
       "        False]),\n",
       " array([False, False, False,  True, False, False, False, False,  True,\n",
       "        False]),\n",
       " array([False,  True, False, False,  True,  True,  True, False, False,\n",
       "         True]),\n",
       " array([False,  True,  True, False,  True, False, False, False, False,\n",
       "        False]),\n",
       " array([ True, False,  True, False, False, False, False, False,  True,\n",
       "        False]),\n",
       " array([False,  True, False,  True, False,  True,  True, False,  True,\n",
       "         True]),\n",
       " array([False, False, False, False, False,  True,  True, False, False,\n",
       "        False]),\n",
       " array([False, False, False, False, False, False, False,  True, False,\n",
       "        False]),\n",
       " array([ True, False,  True, False, False, False,  True, False, False,\n",
       "        False]),\n",
       " array([False, False, False, False,  True, False, False,  True,  True,\n",
       "        False]),\n",
       " array([ True, False, False,  True, False, False, False, False,  True,\n",
       "        False]),\n",
       " array([False, False, False, False,  True, False, False, False, False,\n",
       "        False]),\n",
       " array([False, False,  True, False,  True,  True, False, False,  True,\n",
       "         True]),\n",
       " array([False,  True, False,  True,  True,  True, False, False,  True,\n",
       "        False]),\n",
       " array([False, False, False, False, False,  True,  True, False,  True,\n",
       "        False]),\n",
       " array([ True,  True, False,  True, False, False, False, False,  True,\n",
       "        False]),\n",
       " array([False,  True,  True,  True,  True,  True, False,  True,  True,\n",
       "        False]),\n",
       " array([False, False, False, False,  True,  True,  True, False, False,\n",
       "        False]),\n",
       " array([False, False, False,  True, False,  True,  True, False, False,\n",
       "        False]),\n",
       " array([False, False, False, False, False, False, False, False,  True,\n",
       "        False]),\n",
       " array([False, False, False, False,  True,  True, False, False, False,\n",
       "        False]),\n",
       " array([False, False, False,  True,  True, False, False, False, False,\n",
       "        False]),\n",
       " array([ True,  True,  True, False,  True, False, False, False, False,\n",
       "        False]),\n",
       " array([False, False, False, False,  True, False, False,  True, False,\n",
       "         True]),\n",
       " array([ True,  True, False,  True,  True, False, False, False, False,\n",
       "        False]),\n",
       " array([False, False, False, False, False,  True, False, False, False,\n",
       "         True]),\n",
       " array([False, False,  True,  True, False,  True,  True, False,  True,\n",
       "        False]),\n",
       " array([False, False, False, False, False, False, False, False, False,\n",
       "         True]),\n",
       " array([ True,  True, False, False, False, False, False, False, False,\n",
       "        False]),\n",
       " array([False, False, False, False, False, False,  True, False,  True,\n",
       "        False]))"
      ]
     },
     "execution_count": 156,
     "metadata": {},
     "output_type": "execute_result"
    }
   ],
   "source": [
    "PROBLEM_SIZE = 10\n",
    "NUM_SETS = 30\n",
    "SETS = tuple(np.array([random() < .3 for _ in range(PROBLEM_SIZE)]) for _ in range(NUM_SETS))\n",
    "State = namedtuple('State', ['taken', 'not_taken'])\n",
    "SETS"
   ]
  },
  {
   "cell_type": "code",
   "execution_count": 157,
   "metadata": {},
   "outputs": [],
   "source": [
    "def goal_check(state):\n",
    "    return np.all(reduce(\n",
    "        np.logical_or,\n",
    "        [SETS[i] for i in state.taken],\n",
    "        np.array([False for _ in range(PROBLEM_SIZE)]),\n",
    "    ))\n",
    "\n",
    "\n",
    "def distance(state):\n",
    "    return PROBLEM_SIZE - sum(\n",
    "        reduce(\n",
    "            np.logical_or,\n",
    "            [SETS[i] for i in state.taken],\n",
    "            np.array([False for _ in range(PROBLEM_SIZE)]),\n",
    "        ))\n",
    "\n",
    "def distance_A_star(state, w=0.5):\n",
    "     \n",
    "    dist = PROBLEM_SIZE - sum(\n",
    "        reduce(\n",
    "            np.logical_or,\n",
    "            [SETS[i] for i in state.taken],\n",
    "            np.array([False for _ in range(PROBLEM_SIZE)]),\n",
    "        ))\n",
    "    \n",
    "    # optimization: try to minimize overlap\n",
    "    n_overlap = np.sum(np.sum([SETS[i] for i in state.taken], axis=0) > 1)\n",
    "    \n",
    "    return w*dist + (1-w)*n_overlap"
   ]
  },
  {
   "cell_type": "code",
   "execution_count": 158,
   "metadata": {},
   "outputs": [],
   "source": [
    "assert goal_check(State(set(range(NUM_SETS)), set())), \"Probelm not solvable\""
   ]
  },
  {
   "cell_type": "code",
   "execution_count": 159,
   "metadata": {},
   "outputs": [],
   "source": [
    "def search(distance_func=None):\n",
    "\n",
    "    # frontier = PriorityQueue()\n",
    "    frontier = SimpleQueue()\n",
    "    state = State(set(), set(range(NUM_SETS)))\n",
    "    frontier.put((distance_func(state), state))\n",
    "\n",
    "    counter = 0\n",
    "    _, current_state = frontier.get()\n",
    "    while not goal_check(current_state):\n",
    "        counter += 1\n",
    "        # print(current_state)\n",
    "        for action in current_state[1]:\n",
    "            new_state = State(\n",
    "                current_state.taken ^ {action},\n",
    "                current_state.not_taken ^ {action},\n",
    "            )\n",
    "            frontier.put((distance_func(new_state), new_state))\n",
    "            # print(f'taken: {new_state.taken}')\n",
    "            # print(f'Not taken: {new_state.not_taken}')\n",
    "            # print()\n",
    "        _, current_state = frontier.get()\n",
    "\n",
    "    print(\n",
    "        f\"Solved in {counter:,} steps ({len(current_state.taken)} tiles)\"\n",
    "    )\n",
    "    return counter, current_state"
   ]
  },
  {
   "cell_type": "code",
   "execution_count": 160,
   "metadata": {},
   "outputs": [
    {
     "name": "stdout",
     "output_type": "stream",
     "text": [
      "Solved in 943 steps (3 tiles)\n",
      "SOLUTION:\n",
      "\n",
      "16: [False  True  True  True  True  True False  True  True False]\n",
      "0: [ True False False  True False  True False False False False]\n",
      "2: [False  True False False  True  True  True False False  True]\n"
     ]
    }
   ],
   "source": [
    "# set distance function:    distance   distance_A_star\n",
    "counter, current_state = search(distance_func=distance)\n",
    "\n",
    "print('SOLUTION:')\n",
    "print()\n",
    "for s in current_state.taken:\n",
    "    print(f'{s}: {SETS[s]}')"
   ]
  },
  {
   "cell_type": "code",
   "execution_count": 161,
   "metadata": {},
   "outputs": [
    {
     "name": "stdout",
     "output_type": "stream",
     "text": [
      "Solved in 943 steps (3 tiles)\n",
      "SOLUTION:\n",
      "\n",
      "16: [False  True  True  True  True  True False  True  True False]\n",
      "0: [ True False False  True False  True False False False False]\n",
      "2: [False  True False False  True  True  True False False  True]\n"
     ]
    }
   ],
   "source": [
    "# set distance function:    distance   distance_A_star\n",
    "counter, current_state = search(distance_func=distance_A_star)\n",
    "\n",
    "print('SOLUTION:')\n",
    "print()\n",
    "for s in current_state.taken:\n",
    "    print(f'{s}: {SETS[s]}')"
   ]
  }
 ],
 "metadata": {
  "kernelspec": {
   "display_name": "ci-P-7LqQ3C-py3.11",
   "language": "python",
   "name": "python3"
  },
  "language_info": {
   "codemirror_mode": {
    "name": "ipython",
    "version": 3
   },
   "file_extension": ".py",
   "mimetype": "text/x-python",
   "name": "python",
   "nbconvert_exporter": "python",
   "pygments_lexer": "ipython3",
   "version": "3.12.0"
  }
 },
 "nbformat": 4,
 "nbformat_minor": 2
}
